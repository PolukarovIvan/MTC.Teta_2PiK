{
 "cells": [
  {
   "cell_type": "code",
   "execution_count": 226,
   "metadata": {
    "execution": {
     "iopub.execute_input": "2021-08-06T00:13:20.901531Z",
     "iopub.status.busy": "2021-08-06T00:13:20.901050Z",
     "iopub.status.idle": "2021-08-06T00:13:20.909027Z",
     "shell.execute_reply": "2021-08-06T00:13:20.908280Z",
     "shell.execute_reply.started": "2021-08-06T00:13:20.901500Z"
    }
   },
   "outputs": [],
   "source": [
    "#%% import\n",
    "\n",
    "import pandas as pd\n",
    "import numpy as np\n",
    "\n",
    "import matplotlib.pyplot as plt\n",
    "%matplotlib inline\n",
    "\n",
    "import seaborn as sns\n",
    "\n",
    "from sklearn.model_selection import train_test_split\n",
    "from sklearn.preprocessing import StandardScaler\n",
    "from sklearn.neighbors import KNeighborsClassifier\n",
    "from sklearn.tree import DecisionTreeClassifier\n",
    "from sklearn.linear_model import LogisticRegression\n",
    "from sklearn.ensemble import RandomForestClassifier, GradientBoostingClassifier\n",
    "from sklearn.model_selection import GridSearchCV\n",
    "from sklearn.model_selection import StratifiedKFold\n",
    "from sklearn.metrics import make_scorer\n",
    "from sklearn.metrics import roc_auc_score, f1_score, accuracy_score, precision_score, recall_score\n",
    "\n",
    "from tqdm import tqdm"
   ]
  },
  {
   "cell_type": "code",
   "execution_count": 227,
   "metadata": {
    "execution": {
     "iopub.execute_input": "2021-08-06T00:10:35.153046Z",
     "iopub.status.busy": "2021-08-06T00:10:35.152715Z",
     "iopub.status.idle": "2021-08-06T00:10:35.183663Z",
     "shell.execute_reply": "2021-08-06T00:10:35.182527Z",
     "shell.execute_reply.started": "2021-08-06T00:10:35.153014Z"
    }
   },
   "outputs": [],
   "source": [
    "file_name = \"BPL.csv\"\n",
    "df = pd.read_csv(file_name)"
   ]
  },
  {
   "cell_type": "code",
   "execution_count": 228,
   "metadata": {
    "execution": {
     "iopub.execute_input": "2021-08-06T00:10:35.186021Z",
     "iopub.status.busy": "2021-08-06T00:10:35.185567Z",
     "iopub.status.idle": "2021-08-06T00:10:35.204272Z",
     "shell.execute_reply": "2021-08-06T00:10:35.203144Z",
     "shell.execute_reply.started": "2021-08-06T00:10:35.185973Z"
    }
   },
   "outputs": [
    {
     "data": {
      "text/html": [
       "<div>\n",
       "<style scoped>\n",
       "    .dataframe tbody tr th:only-of-type {\n",
       "        vertical-align: middle;\n",
       "    }\n",
       "\n",
       "    .dataframe tbody tr th {\n",
       "        vertical-align: top;\n",
       "    }\n",
       "\n",
       "    .dataframe thead th {\n",
       "        text-align: right;\n",
       "    }\n",
       "</style>\n",
       "<table border=\"1\" class=\"dataframe\">\n",
       "  <thead>\n",
       "    <tr style=\"text-align: right;\">\n",
       "      <th></th>\n",
       "      <th>ID</th>\n",
       "      <th>Age</th>\n",
       "      <th>Experience</th>\n",
       "      <th>Income</th>\n",
       "      <th>ZIP Code</th>\n",
       "      <th>Family</th>\n",
       "      <th>CCAvg</th>\n",
       "      <th>Education</th>\n",
       "      <th>Mortgage</th>\n",
       "      <th>Personal Loan</th>\n",
       "      <th>Securities Account</th>\n",
       "      <th>CD Account</th>\n",
       "      <th>Online</th>\n",
       "      <th>CreditCard</th>\n",
       "    </tr>\n",
       "  </thead>\n",
       "  <tbody>\n",
       "    <tr>\n",
       "      <td>0</td>\n",
       "      <td>1</td>\n",
       "      <td>25</td>\n",
       "      <td>1</td>\n",
       "      <td>49</td>\n",
       "      <td>91107</td>\n",
       "      <td>4</td>\n",
       "      <td>1.6</td>\n",
       "      <td>1</td>\n",
       "      <td>0</td>\n",
       "      <td>0</td>\n",
       "      <td>1</td>\n",
       "      <td>0</td>\n",
       "      <td>0</td>\n",
       "      <td>0</td>\n",
       "    </tr>\n",
       "    <tr>\n",
       "      <td>1</td>\n",
       "      <td>2</td>\n",
       "      <td>45</td>\n",
       "      <td>19</td>\n",
       "      <td>34</td>\n",
       "      <td>90089</td>\n",
       "      <td>3</td>\n",
       "      <td>1.5</td>\n",
       "      <td>1</td>\n",
       "      <td>0</td>\n",
       "      <td>0</td>\n",
       "      <td>1</td>\n",
       "      <td>0</td>\n",
       "      <td>0</td>\n",
       "      <td>0</td>\n",
       "    </tr>\n",
       "    <tr>\n",
       "      <td>2</td>\n",
       "      <td>3</td>\n",
       "      <td>39</td>\n",
       "      <td>15</td>\n",
       "      <td>11</td>\n",
       "      <td>94720</td>\n",
       "      <td>1</td>\n",
       "      <td>1.0</td>\n",
       "      <td>1</td>\n",
       "      <td>0</td>\n",
       "      <td>0</td>\n",
       "      <td>0</td>\n",
       "      <td>0</td>\n",
       "      <td>0</td>\n",
       "      <td>0</td>\n",
       "    </tr>\n",
       "    <tr>\n",
       "      <td>3</td>\n",
       "      <td>4</td>\n",
       "      <td>35</td>\n",
       "      <td>9</td>\n",
       "      <td>100</td>\n",
       "      <td>94112</td>\n",
       "      <td>1</td>\n",
       "      <td>2.7</td>\n",
       "      <td>2</td>\n",
       "      <td>0</td>\n",
       "      <td>0</td>\n",
       "      <td>0</td>\n",
       "      <td>0</td>\n",
       "      <td>0</td>\n",
       "      <td>0</td>\n",
       "    </tr>\n",
       "    <tr>\n",
       "      <td>4</td>\n",
       "      <td>5</td>\n",
       "      <td>35</td>\n",
       "      <td>8</td>\n",
       "      <td>45</td>\n",
       "      <td>91330</td>\n",
       "      <td>4</td>\n",
       "      <td>1.0</td>\n",
       "      <td>2</td>\n",
       "      <td>0</td>\n",
       "      <td>0</td>\n",
       "      <td>0</td>\n",
       "      <td>0</td>\n",
       "      <td>0</td>\n",
       "      <td>1</td>\n",
       "    </tr>\n",
       "  </tbody>\n",
       "</table>\n",
       "</div>"
      ],
      "text/plain": [
       "   ID  Age  Experience  Income  ZIP Code  Family  CCAvg  Education  Mortgage  \\\n",
       "0   1   25           1      49     91107       4    1.6          1         0   \n",
       "1   2   45          19      34     90089       3    1.5          1         0   \n",
       "2   3   39          15      11     94720       1    1.0          1         0   \n",
       "3   4   35           9     100     94112       1    2.7          2         0   \n",
       "4   5   35           8      45     91330       4    1.0          2         0   \n",
       "\n",
       "   Personal Loan  Securities Account  CD Account  Online  CreditCard  \n",
       "0              0                   1           0       0           0  \n",
       "1              0                   1           0       0           0  \n",
       "2              0                   0           0       0           0  \n",
       "3              0                   0           0       0           0  \n",
       "4              0                   0           0       0           1  "
      ]
     },
     "execution_count": 228,
     "metadata": {},
     "output_type": "execute_result"
    }
   ],
   "source": [
    "df.head(5)"
   ]
  },
  {
   "cell_type": "code",
   "execution_count": 229,
   "metadata": {
    "execution": {
     "iopub.execute_input": "2021-08-06T00:10:35.206390Z",
     "iopub.status.busy": "2021-08-06T00:10:35.206027Z",
     "iopub.status.idle": "2021-08-06T00:10:35.229355Z",
     "shell.execute_reply": "2021-08-06T00:10:35.228309Z",
     "shell.execute_reply.started": "2021-08-06T00:10:35.206355Z"
    }
   },
   "outputs": [
    {
     "name": "stdout",
     "output_type": "stream",
     "text": [
      "<class 'pandas.core.frame.DataFrame'>\n",
      "RangeIndex: 5000 entries, 0 to 4999\n",
      "Data columns (total 14 columns):\n",
      "ID                    5000 non-null int64\n",
      "Age                   5000 non-null int64\n",
      "Experience            5000 non-null int64\n",
      "Income                5000 non-null int64\n",
      "ZIP Code              5000 non-null int64\n",
      "Family                5000 non-null int64\n",
      "CCAvg                 5000 non-null float64\n",
      "Education             5000 non-null int64\n",
      "Mortgage              5000 non-null int64\n",
      "Personal Loan         5000 non-null int64\n",
      "Securities Account    5000 non-null int64\n",
      "CD Account            5000 non-null int64\n",
      "Online                5000 non-null int64\n",
      "CreditCard            5000 non-null int64\n",
      "dtypes: float64(1), int64(13)\n",
      "memory usage: 547.0 KB\n"
     ]
    }
   ],
   "source": [
    "df.info()"
   ]
  },
  {
   "cell_type": "code",
   "execution_count": 230,
   "metadata": {
    "execution": {
     "iopub.execute_input": "2021-08-06T00:10:35.231626Z",
     "iopub.status.busy": "2021-08-06T00:10:35.231041Z",
     "iopub.status.idle": "2021-08-06T00:10:35.240862Z",
     "shell.execute_reply": "2021-08-06T00:10:35.239707Z",
     "shell.execute_reply.started": "2021-08-06T00:10:35.231558Z"
    }
   },
   "outputs": [
    {
     "name": "stdout",
     "output_type": "stream",
     "text": [
      "Numeric Columns: ['Age', 'Experience', 'Income', 'CCAvg', 'Mortgage', 'Family', 'Education', 'ZIP Code']\n",
      "Categorical Columns: ['Education', 'Online', 'Securities Account', 'Family', 'CreditCard', 'Personal Loan', 'ID', 'CD Account']\n",
      "Intersection Columns: ['Education', 'Family']\n"
     ]
    }
   ],
   "source": [
    "# numeric and categorical features\n",
    "num_cols = ['Age', 'Experience', 'Income', 'CCAvg', 'Mortgage', 'Family', 'Education', 'ZIP Code']\n",
    "intersection_cols = ['Education', 'Family']\n",
    "cat_cols = list((set(df.columns) - set(num_cols)).union(set(intersection_cols)))\n",
    "\n",
    "print('Numeric Columns:', num_cols)\n",
    "print('Categorical Columns:', cat_cols)\n",
    "print('Intersection Columns:', intersection_cols)"
   ]
  },
  {
   "cell_type": "code",
   "execution_count": 231,
   "metadata": {
    "execution": {
     "iopub.execute_input": "2021-08-06T00:10:35.242960Z",
     "iopub.status.busy": "2021-08-06T00:10:35.242533Z",
     "iopub.status.idle": "2021-08-06T00:10:35.309678Z",
     "shell.execute_reply": "2021-08-06T00:10:35.308647Z",
     "shell.execute_reply.started": "2021-08-06T00:10:35.242927Z"
    }
   },
   "outputs": [
    {
     "data": {
      "text/html": [
       "<div>\n",
       "<style scoped>\n",
       "    .dataframe tbody tr th:only-of-type {\n",
       "        vertical-align: middle;\n",
       "    }\n",
       "\n",
       "    .dataframe tbody tr th {\n",
       "        vertical-align: top;\n",
       "    }\n",
       "\n",
       "    .dataframe thead th {\n",
       "        text-align: right;\n",
       "    }\n",
       "</style>\n",
       "<table border=\"1\" class=\"dataframe\">\n",
       "  <thead>\n",
       "    <tr style=\"text-align: right;\">\n",
       "      <th></th>\n",
       "      <th>ID</th>\n",
       "      <th>Age</th>\n",
       "      <th>Experience</th>\n",
       "      <th>Income</th>\n",
       "      <th>ZIP Code</th>\n",
       "      <th>Family</th>\n",
       "      <th>CCAvg</th>\n",
       "      <th>Education</th>\n",
       "      <th>Mortgage</th>\n",
       "      <th>Personal Loan</th>\n",
       "      <th>Securities Account</th>\n",
       "      <th>CD Account</th>\n",
       "      <th>Online</th>\n",
       "      <th>CreditCard</th>\n",
       "    </tr>\n",
       "  </thead>\n",
       "  <tbody>\n",
       "    <tr>\n",
       "      <td>count</td>\n",
       "      <td>5000.000000</td>\n",
       "      <td>5000.000000</td>\n",
       "      <td>5000.000000</td>\n",
       "      <td>5000.000000</td>\n",
       "      <td>5000.000000</td>\n",
       "      <td>5000.000000</td>\n",
       "      <td>5000.000000</td>\n",
       "      <td>5000.000000</td>\n",
       "      <td>5000.000000</td>\n",
       "      <td>5000.000000</td>\n",
       "      <td>5000.000000</td>\n",
       "      <td>5000.00000</td>\n",
       "      <td>5000.000000</td>\n",
       "      <td>5000.000000</td>\n",
       "    </tr>\n",
       "    <tr>\n",
       "      <td>mean</td>\n",
       "      <td>2500.500000</td>\n",
       "      <td>45.338400</td>\n",
       "      <td>20.104600</td>\n",
       "      <td>73.774200</td>\n",
       "      <td>93152.503000</td>\n",
       "      <td>2.396400</td>\n",
       "      <td>1.937938</td>\n",
       "      <td>1.881000</td>\n",
       "      <td>56.498800</td>\n",
       "      <td>0.096000</td>\n",
       "      <td>0.104400</td>\n",
       "      <td>0.06040</td>\n",
       "      <td>0.596800</td>\n",
       "      <td>0.294000</td>\n",
       "    </tr>\n",
       "    <tr>\n",
       "      <td>std</td>\n",
       "      <td>1443.520003</td>\n",
       "      <td>11.463166</td>\n",
       "      <td>11.467954</td>\n",
       "      <td>46.033729</td>\n",
       "      <td>2121.852197</td>\n",
       "      <td>1.147663</td>\n",
       "      <td>1.747659</td>\n",
       "      <td>0.839869</td>\n",
       "      <td>101.713802</td>\n",
       "      <td>0.294621</td>\n",
       "      <td>0.305809</td>\n",
       "      <td>0.23825</td>\n",
       "      <td>0.490589</td>\n",
       "      <td>0.455637</td>\n",
       "    </tr>\n",
       "    <tr>\n",
       "      <td>min</td>\n",
       "      <td>1.000000</td>\n",
       "      <td>23.000000</td>\n",
       "      <td>-3.000000</td>\n",
       "      <td>8.000000</td>\n",
       "      <td>9307.000000</td>\n",
       "      <td>1.000000</td>\n",
       "      <td>0.000000</td>\n",
       "      <td>1.000000</td>\n",
       "      <td>0.000000</td>\n",
       "      <td>0.000000</td>\n",
       "      <td>0.000000</td>\n",
       "      <td>0.00000</td>\n",
       "      <td>0.000000</td>\n",
       "      <td>0.000000</td>\n",
       "    </tr>\n",
       "    <tr>\n",
       "      <td>25%</td>\n",
       "      <td>1250.750000</td>\n",
       "      <td>35.000000</td>\n",
       "      <td>10.000000</td>\n",
       "      <td>39.000000</td>\n",
       "      <td>91911.000000</td>\n",
       "      <td>1.000000</td>\n",
       "      <td>0.700000</td>\n",
       "      <td>1.000000</td>\n",
       "      <td>0.000000</td>\n",
       "      <td>0.000000</td>\n",
       "      <td>0.000000</td>\n",
       "      <td>0.00000</td>\n",
       "      <td>0.000000</td>\n",
       "      <td>0.000000</td>\n",
       "    </tr>\n",
       "    <tr>\n",
       "      <td>50%</td>\n",
       "      <td>2500.500000</td>\n",
       "      <td>45.000000</td>\n",
       "      <td>20.000000</td>\n",
       "      <td>64.000000</td>\n",
       "      <td>93437.000000</td>\n",
       "      <td>2.000000</td>\n",
       "      <td>1.500000</td>\n",
       "      <td>2.000000</td>\n",
       "      <td>0.000000</td>\n",
       "      <td>0.000000</td>\n",
       "      <td>0.000000</td>\n",
       "      <td>0.00000</td>\n",
       "      <td>1.000000</td>\n",
       "      <td>0.000000</td>\n",
       "    </tr>\n",
       "    <tr>\n",
       "      <td>75%</td>\n",
       "      <td>3750.250000</td>\n",
       "      <td>55.000000</td>\n",
       "      <td>30.000000</td>\n",
       "      <td>98.000000</td>\n",
       "      <td>94608.000000</td>\n",
       "      <td>3.000000</td>\n",
       "      <td>2.500000</td>\n",
       "      <td>3.000000</td>\n",
       "      <td>101.000000</td>\n",
       "      <td>0.000000</td>\n",
       "      <td>0.000000</td>\n",
       "      <td>0.00000</td>\n",
       "      <td>1.000000</td>\n",
       "      <td>1.000000</td>\n",
       "    </tr>\n",
       "    <tr>\n",
       "      <td>max</td>\n",
       "      <td>5000.000000</td>\n",
       "      <td>67.000000</td>\n",
       "      <td>43.000000</td>\n",
       "      <td>224.000000</td>\n",
       "      <td>96651.000000</td>\n",
       "      <td>4.000000</td>\n",
       "      <td>10.000000</td>\n",
       "      <td>3.000000</td>\n",
       "      <td>635.000000</td>\n",
       "      <td>1.000000</td>\n",
       "      <td>1.000000</td>\n",
       "      <td>1.00000</td>\n",
       "      <td>1.000000</td>\n",
       "      <td>1.000000</td>\n",
       "    </tr>\n",
       "  </tbody>\n",
       "</table>\n",
       "</div>"
      ],
      "text/plain": [
       "                ID          Age   Experience       Income      ZIP Code  \\\n",
       "count  5000.000000  5000.000000  5000.000000  5000.000000   5000.000000   \n",
       "mean   2500.500000    45.338400    20.104600    73.774200  93152.503000   \n",
       "std    1443.520003    11.463166    11.467954    46.033729   2121.852197   \n",
       "min       1.000000    23.000000    -3.000000     8.000000   9307.000000   \n",
       "25%    1250.750000    35.000000    10.000000    39.000000  91911.000000   \n",
       "50%    2500.500000    45.000000    20.000000    64.000000  93437.000000   \n",
       "75%    3750.250000    55.000000    30.000000    98.000000  94608.000000   \n",
       "max    5000.000000    67.000000    43.000000   224.000000  96651.000000   \n",
       "\n",
       "            Family        CCAvg    Education     Mortgage  Personal Loan  \\\n",
       "count  5000.000000  5000.000000  5000.000000  5000.000000    5000.000000   \n",
       "mean      2.396400     1.937938     1.881000    56.498800       0.096000   \n",
       "std       1.147663     1.747659     0.839869   101.713802       0.294621   \n",
       "min       1.000000     0.000000     1.000000     0.000000       0.000000   \n",
       "25%       1.000000     0.700000     1.000000     0.000000       0.000000   \n",
       "50%       2.000000     1.500000     2.000000     0.000000       0.000000   \n",
       "75%       3.000000     2.500000     3.000000   101.000000       0.000000   \n",
       "max       4.000000    10.000000     3.000000   635.000000       1.000000   \n",
       "\n",
       "       Securities Account  CD Account       Online   CreditCard  \n",
       "count         5000.000000  5000.00000  5000.000000  5000.000000  \n",
       "mean             0.104400     0.06040     0.596800     0.294000  \n",
       "std              0.305809     0.23825     0.490589     0.455637  \n",
       "min              0.000000     0.00000     0.000000     0.000000  \n",
       "25%              0.000000     0.00000     0.000000     0.000000  \n",
       "50%              0.000000     0.00000     1.000000     0.000000  \n",
       "75%              0.000000     0.00000     1.000000     1.000000  \n",
       "max              1.000000     1.00000     1.000000     1.000000  "
      ]
     },
     "execution_count": 231,
     "metadata": {},
     "output_type": "execute_result"
    }
   ],
   "source": [
    "df.describe()"
   ]
  },
  {
   "cell_type": "code",
   "execution_count": 232,
   "metadata": {
    "execution": {
     "iopub.execute_input": "2021-08-06T00:10:35.312143Z",
     "iopub.status.busy": "2021-08-06T00:10:35.311785Z",
     "iopub.status.idle": "2021-08-06T00:10:35.360762Z",
     "shell.execute_reply": "2021-08-06T00:10:35.359722Z",
     "shell.execute_reply.started": "2021-08-06T00:10:35.312110Z"
    }
   },
   "outputs": [
    {
     "data": {
      "text/plain": [
       "ID                       1.0\n",
       "Age                     23.0\n",
       "Experience              -3.0\n",
       "Income                   8.0\n",
       "ZIP Code              9307.0\n",
       "Family                   1.0\n",
       "CCAvg                    0.0\n",
       "Education                1.0\n",
       "Mortgage                 0.0\n",
       "Personal Loan            0.0\n",
       "Securities Account       0.0\n",
       "CD Account               0.0\n",
       "Online                   0.0\n",
       "CreditCard               0.0\n",
       "Name: min, dtype: float64"
      ]
     },
     "execution_count": 232,
     "metadata": {},
     "output_type": "execute_result"
    }
   ],
   "source": [
    "df.describe().loc['min']"
   ]
  },
  {
   "cell_type": "code",
   "execution_count": 233,
   "metadata": {
    "execution": {
     "iopub.execute_input": "2021-08-06T00:10:35.585662Z",
     "iopub.status.busy": "2021-08-06T00:10:35.585166Z",
     "iopub.status.idle": "2021-08-06T00:10:35.594513Z",
     "shell.execute_reply": "2021-08-06T00:10:35.593316Z",
     "shell.execute_reply.started": "2021-08-06T00:10:35.585552Z"
    }
   },
   "outputs": [
    {
     "data": {
      "image/png": "[encoded data removed]",
      "text/plain": [
       "<Figure size 1152x1440 with 8 Axes>"
      ]
     },
     "metadata": {
      "needs_background": "light"
     },
     "output_type": "display_data"
    }
   ],
   "source": [
    "fig, ax = plt.subplots(4, 2, figsize=(16, 20))\n",
    "\n",
    "for current_column, axis in zip(num_cols, ax.flatten()):\n",
    "    sns.boxplot(x='Personal Loan', y=current_column, data=df, ax=axis)\n",
    "    axis.axhline(df.describe().loc['75%', current_column], ls='--', c='red')\n",
    "    # axis.legend()"
   ]
  },
  {
   "cell_type": "code",
   "execution_count": 234,
   "metadata": {},
   "outputs": [],
   "source": [
    "# IsSth features\n",
    "df['IsMortgaged'] = df['Mortgage'] > 0\n",
    "df['IsFamily'] = df['Family'] > 1\n",
    "df['IsEducated'] = df['Education'] > 1\n",
    "\n",
    "# Is > than 75 qq\n",
    "df['IsMortgaged75'] = (df['Mortgage'] > df.describe().loc['75%', 'Mortgage']) & df['IsMortgaged']\n",
    "df['IsIncome75'] = df['Income'] > df.describe().loc['75%', 'Income']\n",
    "df['IsCCAvg75'] = df['CCAvg'] > df.describe().loc['75%', 'CCAvg']\n",
    "\n",
    "cat_cols += ['IsMortgaged', 'HasFamily', 'IsEducated', 'IsMortgaged75', 'IsIncome75', 'IsCCAvg75']"
   ]
  },
  {
   "cell_type": "code",
   "execution_count": 235,
   "metadata": {
    "execution": {
     "iopub.execute_input": "2021-08-06T00:10:35.597333Z",
     "iopub.status.busy": "2021-08-06T00:10:35.596902Z",
     "iopub.status.idle": "2021-08-06T00:10:35.606526Z",
     "shell.execute_reply": "2021-08-06T00:10:35.605107Z",
     "shell.execute_reply.started": "2021-08-06T00:10:35.597288Z"
    }
   },
   "outputs": [],
   "source": [
    "def split_data(df, y_col='Personal Loan'):\n",
    "    \n",
    "    y = df[y_col]\n",
    "    \n",
    "    X, X_val, y, y_val = train_test_split(df.drop([y_col, \"ID\", \"ZIP Code\", 'Age', 'Education'], \n",
    "                                        axis=1),y, test_size=0.04,\n",
    "                                        shuffle=True, random_state=19)\n",
    "    X_train, X_test, y_train, y_test =  train_test_split(X, y, test_size=0.2,\n",
    "                                                         shuffle=True, random_state=19)\n",
    "    \n",
    "    return (X_train, y_train), (X_test, y_test), (X_val, y_val)\n",
    "\n",
    "\n",
    "def normalize_data(X):\n",
    "    scaler = StandardScaler()\n",
    "    return scaler.fit_transform(X), (scaler.mean_, scaler.var_)\n",
    "\n",
    "\n",
    "def predict(model, X_test, y_test):\n",
    "    # preds = fitted_model.predict(X_test)\n",
    "    \n",
    "    try:\n",
    "        preds = model.predict_proba(X_test)[:, 1]\n",
    "    except Exception as e:\n",
    "        print(e.args)\n",
    "        preds = model.predict(X_test)\n",
    "        \n",
    "    scores = {'accuracy': accuracy_score(y_test, model.predict(X_test)),\n",
    "              'roc_auc': roc_auc_score(y_test, preds),\n",
    "              'f1': f1_score(y_test, model.predict(X_test))}\n",
    "    \n",
    "    return scores"
   ]
  },
  {
   "cell_type": "code",
   "execution_count": 236,
   "metadata": {
    "execution": {
     "iopub.execute_input": "2021-08-06T00:10:35.609137Z",
     "iopub.status.busy": "2021-08-06T00:10:35.608728Z",
     "iopub.status.idle": "2021-08-06T00:10:35.627062Z",
     "shell.execute_reply": "2021-08-06T00:10:35.626231Z",
     "shell.execute_reply.started": "2021-08-06T00:10:35.609103Z"
    }
   },
   "outputs": [
    {
     "data": {
      "text/plain": [
       "(((3840, 15), (3840,)), ((960, 15), (960,)), ((200, 15), (200,)))"
      ]
     },
     "execution_count": 236,
     "metadata": {},
     "output_type": "execute_result"
    }
   ],
   "source": [
    "(X_train, y_train), (X_test, y_test), (X_val, y_val) = split_data(df)\n",
    "\n",
    "(X_train.shape, y_train.shape),\\\n",
    "(X_test.shape, y_test.shape),\\\n",
    "(X_val.shape, y_val.shape)"
   ]
  },
  {
   "cell_type": "code",
   "execution_count": 237,
   "metadata": {
    "execution": {
     "iopub.execute_input": "2021-08-06T00:11:30.993843Z",
     "iopub.status.busy": "2021-08-06T00:11:30.993465Z",
     "iopub.status.idle": "2021-08-06T00:11:31.001293Z",
     "shell.execute_reply": "2021-08-06T00:11:31.000504Z",
     "shell.execute_reply.started": "2021-08-06T00:11:30.993813Z"
    }
   },
   "outputs": [],
   "source": [
    "X_train, X_train_stats = normalize_data(X_train)\n",
    "X_val, X_val_stats = normalize_data(X_val)\n",
    "X_test, X_test_stats = normalize_data(X_test)"
   ]
  },
  {
   "cell_type": "code",
   "execution_count": 242,
   "metadata": {},
   "outputs": [],
   "source": [
    "# initializing models, their params and metrics\n",
    "models = {'RandomForestClassifier': RandomForestClassifier(),\n",
    "          'LogisticRegression': LogisticRegression(),\n",
    "          'DecisionTreeClassifier': DecisionTreeClassifier(),\n",
    "          'KNeighborsClassifier': KNeighborsClassifier(),\n",
    "          'GradientBoostingClassifier': GradientBoostingClassifier()}\n",
    "\n",
    "params = {'LogisticRegression': {'C': np.linspace(0.01,2,15),\n",
    "                                 'penalty': ['l1','l2', 'elasticnet', 'none']},\n",
    "          'RandomForestClassifier': {'max_features': [1,3,10],\n",
    "                                      'min_samples_split': [2,3,10],\n",
    "                                      'min_samples_leaf': [1,3,10],\n",
    "                                      'bootstrap': [False, True],\n",
    "                                      'n_estimators': [50, 100, 200, 300],\n",
    "                                      'n_jobs': [-1]},\n",
    "          'DecisionTreeClassifier': {'splitter': ['best', 'random'],\n",
    "                                     'max_depth': ['none'] + [i for i in range(3, 9)]},\n",
    "          'KNeighborsClassifier':  {'n_neighbors': np.arange(1,50),\n",
    "                                    'weights': ['uniform', 'distance']},\n",
    "          'GradientBoostingClassifier': {'learning_rate': [0.001,0.01,0.1,0.05],\n",
    "                                         'n_estimators': [100,500,1000],\n",
    "                                         'max_depth': [3,5,10],\n",
    "                                         'min_samples_split': [2,5,10]}\n",
    "}\n",
    "\n",
    "metrics = {'accuracy': accuracy_score,\n",
    "           'precision': precision_score,\n",
    "           'recall': recall_score,\n",
    "           'roc_auc': roc_auc_score, \n",
    "           'f1': f1_score}"
   ]
  },
  {
   "cell_type": "code",
   "execution_count": 246,
   "metadata": {},
   "outputs": [],
   "source": [
    "def train_grdsearch_and_evaluate(X_train, y_train, X_test, y_test, models=models, \n",
    "                       params=params, metrics=metrics, n_jobs=-1, verbose=1, n_splits=5):\n",
    "    '''\n",
    "    Returns a matrix (pd.DataFrame) of scores and models\n",
    "    '''\n",
    "    \n",
    "    best_scores={}\n",
    "    best_estimators={}\n",
    "    \n",
    "    df_models = []\n",
    "    df_training_scores = []\n",
    "    df_scores = {metric_name:[] for metric_name, _ in metrics.items()}\n",
    "    \n",
    "    \n",
    "    df = pd.DataFrame(columns=['model'] + scores)\n",
    "    \n",
    "    \n",
    "    for model_name, model in models.items():\n",
    "        search = GridSearchCV(model, param_grid=params[model_name], \n",
    "                              cv=StratifiedKFold(n_splits=5), scoring='roc_auc',\n",
    "                              n_jobs=n_jobs, verbose=verbose).fit(X_train, y_train)\n",
    "        \n",
    "        best_scores[model_name] = search.best_score_\n",
    "        best_estimators[model_name] = search.best_estimator_\n",
    "        \n",
    "        print(f'Model: {model_name},\\nBest score: \\\n",
    "        {best_scores[model_name]}\\nBest params: {best_estimators[model_name]}')            \n",
    "        \n",
    "        df_models.append(model_name)\n",
    "\n",
    "        for score_name, score in metrics.items():\n",
    "            # f1 and accuracy don't work with probas\n",
    "            # Also RFClassifier don't have predict_proba\n",
    "            try:\n",
    "                preds = search.predict_proba(X_test)\n",
    "                df_scores[score_name].append(score(y_test, preds))\n",
    "            except Exception as e:\n",
    "                preds = search.predict(X_test)\n",
    "                df_scores[score_name].append(score(y_test, preds))\n",
    "        \n",
    "    df['model'] = df_models\n",
    "        \n",
    "    for score_name, _ in df_scores.items():\n",
    "        df[score_name] = df_scores[score_name]\n",
    "            \n",
    "    return df, best_estimators, best_scores"
   ]
  },
  {
   "cell_type": "code",
   "execution_count": 247,
   "metadata": {},
   "outputs": [
    {
     "name": "stdout",
     "output_type": "stream",
     "text": [
      "Fitting 5 folds for each of 216 candidates, totalling 1080 fits\n",
      "Model: RandomForestClassifier,\n",
      "Best score:         0.9973116836791457\n",
      "Best params: RandomForestClassifier(max_features=10, n_estimators=300, n_jobs=-1)\n",
      "Fitting 5 folds for each of 60 candidates, totalling 300 fits\n"
     ]
    },
    {
     "name": "stderr",
     "output_type": "stream",
     "text": [
      "C:\\Users\\vanis\\Anaconda3\\lib\\site-packages\\sklearn\\model_selection\\_search.py:921: UserWarning: One or more of the test scores are non-finite: [       nan 0.97066663        nan 0.97467939        nan 0.97419224\n",
      "        nan 0.97467939        nan 0.97448242        nan 0.97467939\n",
      "        nan 0.97455062        nan 0.97467939        nan 0.97457063\n",
      "        nan 0.97467939        nan 0.97461473        nan 0.97467939\n",
      "        nan 0.97460271        nan 0.97467939        nan 0.97462685\n",
      "        nan 0.97467939        nan 0.97464711        nan 0.97467939\n",
      "        nan 0.97467535        nan 0.97467939        nan 0.97468748\n",
      "        nan 0.97467939        nan 0.9746754         nan 0.97467939\n",
      "        nan 0.97466343        nan 0.97467939        nan 0.9746553\n",
      "        nan 0.97467939        nan 0.97465939        nan 0.97467939]\n",
      "  category=UserWarning\n"
     ]
    },
    {
     "name": "stdout",
     "output_type": "stream",
     "text": [
      "Model: LogisticRegression,\n",
      "Best score:         0.9746874765393061\n",
      "Best params: LogisticRegression(C=1.4314285714285715)\n",
      "Fitting 5 folds for each of 14 candidates, totalling 70 fits\n"
     ]
    },
    {
     "name": "stderr",
     "output_type": "stream",
     "text": [
      "C:\\Users\\vanis\\Anaconda3\\lib\\site-packages\\sklearn\\model_selection\\_search.py:921: UserWarning: One or more of the test scores are non-finite: [       nan        nan 0.99276184 0.96597816 0.9890867  0.98438933\n",
      " 0.98509328 0.98497187 0.97416234 0.98561541 0.96738885 0.96772041\n",
      " 0.95218119 0.95741308]\n",
      "  category=UserWarning\n"
     ]
    },
    {
     "name": "stdout",
     "output_type": "stream",
     "text": [
      "Model: DecisionTreeClassifier,\n",
      "Best score:         0.9927618350466721\n",
      "Best params: DecisionTreeClassifier(max_depth=3)\n",
      "Fitting 5 folds for each of 98 candidates, totalling 490 fits\n",
      "Model: KNeighborsClassifier,\n",
      "Best score:         0.9793048320080759\n",
      "Best params: KNeighborsClassifier(n_neighbors=48, weights='distance')\n",
      "Fitting 5 folds for each of 108 candidates, totalling 540 fits\n",
      "Model: GradientBoostingClassifier,\n",
      "Best score:         0.9978089945819846\n",
      "Best params: GradientBoostingClassifier(learning_rate=0.05, max_depth=10,\n",
      "                           min_samples_split=10, n_estimators=1000)\n",
      "Wall time: 11min 24s\n"
     ]
    }
   ],
   "source": [
    "%%time\n",
    "scoring_df, best_params, best_scores = train_grdsearch_and_evaluate(X_train, y_train, X_test, y_test)"
   ]
  },
  {
   "cell_type": "code",
   "execution_count": 257,
   "metadata": {},
   "outputs": [],
   "source": [
    "scoring_df.to_csv('scoring_df.csv', index=None)"
   ]
  },
  {
   "cell_type": "code",
   "execution_count": 258,
   "metadata": {},
   "outputs": [
    {
     "data": {
      "text/html": [
       "<div>\n",
       "<style scoped>\n",
       "    .dataframe tbody tr th:only-of-type {\n",
       "        vertical-align: middle;\n",
       "    }\n",
       "\n",
       "    .dataframe tbody tr th {\n",
       "        vertical-align: top;\n",
       "    }\n",
       "\n",
       "    .dataframe thead th {\n",
       "        text-align: right;\n",
       "    }\n",
       "</style>\n",
       "<table border=\"1\" class=\"dataframe\">\n",
       "  <thead>\n",
       "    <tr style=\"text-align: right;\">\n",
       "      <th></th>\n",
       "      <th>model</th>\n",
       "      <th>accuracy</th>\n",
       "      <th>roc_auc</th>\n",
       "      <th>precision</th>\n",
       "      <th>recall</th>\n",
       "      <th>f1</th>\n",
       "    </tr>\n",
       "  </thead>\n",
       "  <tbody>\n",
       "    <tr>\n",
       "      <td>0</td>\n",
       "      <td>RandomForestClassifier</td>\n",
       "      <td>0.988542</td>\n",
       "      <td>0.952449</td>\n",
       "      <td>0.977778</td>\n",
       "      <td>0.907216</td>\n",
       "      <td>0.941176</td>\n",
       "    </tr>\n",
       "    <tr>\n",
       "      <td>1</td>\n",
       "      <td>LogisticRegression</td>\n",
       "      <td>0.967708</td>\n",
       "      <td>0.867658</td>\n",
       "      <td>0.923077</td>\n",
       "      <td>0.742268</td>\n",
       "      <td>0.822857</td>\n",
       "    </tr>\n",
       "    <tr>\n",
       "      <td>2</td>\n",
       "      <td>DecisionTreeClassifier</td>\n",
       "      <td>0.979167</td>\n",
       "      <td>0.906058</td>\n",
       "      <td>0.975309</td>\n",
       "      <td>0.814433</td>\n",
       "      <td>0.887640</td>\n",
       "    </tr>\n",
       "    <tr>\n",
       "      <td>3</td>\n",
       "      <td>KNeighborsClassifier</td>\n",
       "      <td>0.951042</td>\n",
       "      <td>0.794334</td>\n",
       "      <td>0.878788</td>\n",
       "      <td>0.597938</td>\n",
       "      <td>0.711656</td>\n",
       "    </tr>\n",
       "    <tr>\n",
       "      <td>4</td>\n",
       "      <td>GradientBoostingClassifier</td>\n",
       "      <td>0.981250</td>\n",
       "      <td>0.948394</td>\n",
       "      <td>0.907216</td>\n",
       "      <td>0.907216</td>\n",
       "      <td>0.907216</td>\n",
       "    </tr>\n",
       "  </tbody>\n",
       "</table>\n",
       "</div>"
      ],
      "text/plain": [
       "                        model  accuracy   roc_auc  precision    recall  \\\n",
       "0      RandomForestClassifier  0.988542  0.952449   0.977778  0.907216   \n",
       "1          LogisticRegression  0.967708  0.867658   0.923077  0.742268   \n",
       "2      DecisionTreeClassifier  0.979167  0.906058   0.975309  0.814433   \n",
       "3        KNeighborsClassifier  0.951042  0.794334   0.878788  0.597938   \n",
       "4  GradientBoostingClassifier  0.981250  0.948394   0.907216  0.907216   \n",
       "\n",
       "         f1  \n",
       "0  0.941176  \n",
       "1  0.822857  \n",
       "2  0.887640  \n",
       "3  0.711656  \n",
       "4  0.907216  "
      ]
     },
     "execution_count": 258,
     "metadata": {},
     "output_type": "execute_result"
    }
   ],
   "source": [
    "scoring_df = pd.read_csv('scoring_df.csv')"
   ]
  },
  {
   "cell_type": "code",
   "execution_count": 307,
   "metadata": {},
   "outputs": [
    {
     "data": {
      "image/png": "[encoded data removed]",
      "text/plain": [
       "<Figure size 1152x504 with 1 Axes>"
      ]
     },
     "metadata": {
      "needs_background": "light"
     },
     "output_type": "display_data"
    }
   ],
   "source": [
    "fig = plt.figure(figsize=(16, 7))\n",
    "for i in range(len(scoring_df)):\n",
    "    plt.plot(metrics.keys(), scoring_df.loc[i, metrics.keys()].values, label=scoring_df['model'][i])\n",
    "\n",
    "plt.title('Scores of models', fontsize=18)\n",
    "# plt.xlabels = metrics.keys()\n",
    "plt.legend();\n"
   ]
  }
 ],
 "metadata": {
  "kernelspec": {
   "display_name": "Python 3",
   "language": "python",
   "name": "python3"
  },
  "language_info": {
   "codemirror_mode": {
    "name": "ipython",
    "version": 3
   },
   "file_extension": ".py",
   "mimetype": "text/x-python",
   "name": "python",
   "nbconvert_exporter": "python",
   "pygments_lexer": "ipython3",
   "version": "3.7.4"
  }
 },
 "nbformat": 4,
 "nbformat_minor": 4
}
