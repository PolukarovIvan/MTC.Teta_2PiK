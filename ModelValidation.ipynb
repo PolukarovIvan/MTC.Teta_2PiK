{
 "cells": [
  {
   "cell_type": "markdown",
   "metadata": {},
   "source": [
    "# Машинное обучение: Задание 3\n",
    "\n",
    "### Прогнозирование группы пользователей для осуществления таргетированной рекламы банковского продукта\n",
    "\n",
    "### Описание проекта\n",
    "Задача банка предложить потребительский кредит и при этом максимизировать [показатель конверсии](https://www.unisender.com/ru/support/about/glossary/chto-takoe-cr-conversion-rate/), который равен отношению количества пользователей, принявших кредит, к общему количеству пользователей, которым поступили предложения *(precision)*. Решение этой задачи актуально для банка, потому что это позволит сократить расходы на персональный маркетинг, но при этом достичь максимальной выгоды. Данный проект оптимизирует выбор кандидатов для персонального предложения о предоставлении кредита. В процесс отбора кандидатов можно внерить алгоритм отсева потенциальных кандидатов, готовых взять кредит. \n",
    "\n",
    "### Содержание \n",
    "+ [Использование результатов](#imports)\n",
    "+ [Интерпретация модели](#feature_importance)\n",
    "+ [Валидация и стабильность модели по фолдам](#validation)\n",
    "+ [Оценка поведения модели](#model_behaviour)"
   ]
  },
  {
   "cell_type": "code",
   "execution_count": 65,
   "metadata": {},
   "outputs": [],
   "source": [
    "# imports\n",
    "import pandas as pd\n",
    "import numpy as np\n",
    "\n",
    "import matplotlib.pyplot as plt\n",
    "import seaborn as sns\n",
    "plt.style.use('ggplot')\n",
    "%matplotlib inline\n",
    "import joblib\n",
    "\n",
    "from sklearn.model_selection import train_test_split, GridSearchCV, StratifiedKFold, cross_validate\n",
    "from sklearn.preprocessing import StandardScaler\n",
    "\n",
    "from sklearn.neighbors import KNeighborsClassifier\n",
    "from sklearn.tree import DecisionTreeClassifier\n",
    "from sklearn.linear_model import LogisticRegression\n",
    "from sklearn.ensemble import RandomForestClassifier, GradientBoostingClassifier\n",
    "from catboost import CatBoostClassifier\n",
    "\n",
    "from sklearn.metrics import make_scorer\n",
    "from sklearn.metrics import roc_auc_score, f1_score, accuracy_score, precision_score, recall_score\n",
    "\n",
    "from sklearn.pipeline import Pipeline, TransformerMixin\n",
    "from sklearn.base import BaseEstimator\n",
    "\n",
    "import warnings\n",
    "warnings.filterwarnings('ignore')\n",
    "\n",
    "from tqdm import tqdm\n",
    "\n",
    "from graphviz import Source\n",
    "from sklearn import tree\n",
    "\n",
    "RANDOM_STATE = 12\n",
    "\n",
    "# import custom classes for pipeline\n",
    "from prep import FeatureGemerator, FeatureSelector, evaluate_economic_effect"
   ]
  },
  {
   "cell_type": "markdown",
   "metadata": {},
   "source": [
    "<a id='imports'></a>\n",
    "### Использование результатов\n",
    "В этой секции будет рассмотрено использование готовой модели, пайплайна обработки данных и пайплайна обработки данных, совмещенного с моделью."
   ]
  },
  {
   "cell_type": "markdown",
   "metadata": {},
   "source": [
    "#### Описание данных\n",
    "Описание датасета и EDA можно посмотреть в [предыдущем ноутбуке](Personal_Loan_project.ipynb#description_cell). Загрузим данные и разделим их на признаки ___X___ и целевую переменную ___y___."
   ]
  },
  {
   "cell_type": "code",
   "execution_count": 66,
   "metadata": {},
   "outputs": [
    {
     "data": {
      "text/html": [
       "<div>\n",
       "<style scoped>\n",
       "    .dataframe tbody tr th:only-of-type {\n",
       "        vertical-align: middle;\n",
       "    }\n",
       "\n",
       "    .dataframe tbody tr th {\n",
       "        vertical-align: top;\n",
       "    }\n",
       "\n",
       "    .dataframe thead th {\n",
       "        text-align: right;\n",
       "    }\n",
       "</style>\n",
       "<table border=\"1\" class=\"dataframe\">\n",
       "  <thead>\n",
       "    <tr style=\"text-align: right;\">\n",
       "      <th></th>\n",
       "      <th>ID</th>\n",
       "      <th>Age</th>\n",
       "      <th>Experience</th>\n",
       "      <th>Income</th>\n",
       "      <th>ZIP Code</th>\n",
       "      <th>Family</th>\n",
       "      <th>CCAvg</th>\n",
       "      <th>Education</th>\n",
       "      <th>Mortgage</th>\n",
       "      <th>Personal Loan</th>\n",
       "      <th>Securities Account</th>\n",
       "      <th>CD Account</th>\n",
       "      <th>Online</th>\n",
       "      <th>CreditCard</th>\n",
       "    </tr>\n",
       "  </thead>\n",
       "  <tbody>\n",
       "    <tr>\n",
       "      <td>4346</td>\n",
       "      <td>4347</td>\n",
       "      <td>45</td>\n",
       "      <td>21</td>\n",
       "      <td>33</td>\n",
       "      <td>94970</td>\n",
       "      <td>3</td>\n",
       "      <td>0.5</td>\n",
       "      <td>1</td>\n",
       "      <td>136</td>\n",
       "      <td>0</td>\n",
       "      <td>0</td>\n",
       "      <td>1</td>\n",
       "      <td>1</td>\n",
       "      <td>1</td>\n",
       "    </tr>\n",
       "    <tr>\n",
       "      <td>3604</td>\n",
       "      <td>3605</td>\n",
       "      <td>63</td>\n",
       "      <td>38</td>\n",
       "      <td>59</td>\n",
       "      <td>92612</td>\n",
       "      <td>3</td>\n",
       "      <td>0.5</td>\n",
       "      <td>2</td>\n",
       "      <td>0</td>\n",
       "      <td>0</td>\n",
       "      <td>0</td>\n",
       "      <td>0</td>\n",
       "      <td>1</td>\n",
       "      <td>0</td>\n",
       "    </tr>\n",
       "    <tr>\n",
       "      <td>731</td>\n",
       "      <td>732</td>\n",
       "      <td>28</td>\n",
       "      <td>3</td>\n",
       "      <td>90</td>\n",
       "      <td>90066</td>\n",
       "      <td>2</td>\n",
       "      <td>3.3</td>\n",
       "      <td>1</td>\n",
       "      <td>0</td>\n",
       "      <td>0</td>\n",
       "      <td>0</td>\n",
       "      <td>0</td>\n",
       "      <td>1</td>\n",
       "      <td>1</td>\n",
       "    </tr>\n",
       "    <tr>\n",
       "      <td>728</td>\n",
       "      <td>729</td>\n",
       "      <td>45</td>\n",
       "      <td>20</td>\n",
       "      <td>114</td>\n",
       "      <td>94720</td>\n",
       "      <td>2</td>\n",
       "      <td>4.4</td>\n",
       "      <td>2</td>\n",
       "      <td>0</td>\n",
       "      <td>1</td>\n",
       "      <td>0</td>\n",
       "      <td>0</td>\n",
       "      <td>0</td>\n",
       "      <td>0</td>\n",
       "    </tr>\n",
       "    <tr>\n",
       "      <td>4817</td>\n",
       "      <td>4818</td>\n",
       "      <td>46</td>\n",
       "      <td>22</td>\n",
       "      <td>134</td>\n",
       "      <td>93305</td>\n",
       "      <td>2</td>\n",
       "      <td>3.3</td>\n",
       "      <td>1</td>\n",
       "      <td>0</td>\n",
       "      <td>0</td>\n",
       "      <td>0</td>\n",
       "      <td>0</td>\n",
       "      <td>0</td>\n",
       "      <td>0</td>\n",
       "    </tr>\n",
       "  </tbody>\n",
       "</table>\n",
       "</div>"
      ],
      "text/plain": [
       "        ID  Age  Experience  Income  ZIP Code  Family  CCAvg  Education  \\\n",
       "4346  4347   45          21      33     94970       3    0.5          1   \n",
       "3604  3605   63          38      59     92612       3    0.5          2   \n",
       "731    732   28           3      90     90066       2    3.3          1   \n",
       "728    729   45          20     114     94720       2    4.4          2   \n",
       "4817  4818   46          22     134     93305       2    3.3          1   \n",
       "\n",
       "      Mortgage  Personal Loan  Securities Account  CD Account  Online  \\\n",
       "4346       136              0                   0           1       1   \n",
       "3604         0              0                   0           0       1   \n",
       "731          0              0                   0           0       1   \n",
       "728          0              1                   0           0       0   \n",
       "4817         0              0                   0           0       0   \n",
       "\n",
       "      CreditCard  \n",
       "4346           1  \n",
       "3604           0  \n",
       "731            1  \n",
       "728            0  \n",
       "4817           0  "
      ]
     },
     "execution_count": 66,
     "metadata": {},
     "output_type": "execute_result"
    }
   ],
   "source": [
    "# load_data \n",
    "df = pd.read_csv(\"BPL.csv\")\n",
    "df.sample(5)"
   ]
  },
  {
   "cell_type": "code",
   "execution_count": 67,
   "metadata": {},
   "outputs": [
    {
     "data": {
      "text/html": [
       "<div>\n",
       "<style scoped>\n",
       "    .dataframe tbody tr th:only-of-type {\n",
       "        vertical-align: middle;\n",
       "    }\n",
       "\n",
       "    .dataframe tbody tr th {\n",
       "        vertical-align: top;\n",
       "    }\n",
       "\n",
       "    .dataframe thead th {\n",
       "        text-align: right;\n",
       "    }\n",
       "</style>\n",
       "<table border=\"1\" class=\"dataframe\">\n",
       "  <thead>\n",
       "    <tr style=\"text-align: right;\">\n",
       "      <th></th>\n",
       "      <th>model</th>\n",
       "      <th>accuracy</th>\n",
       "      <th>precision</th>\n",
       "      <th>recall</th>\n",
       "      <th>roc_auc</th>\n",
       "      <th>f1</th>\n",
       "    </tr>\n",
       "  </thead>\n",
       "  <tbody>\n",
       "    <tr>\n",
       "      <td>0</td>\n",
       "      <td>CatBoostClassifier</td>\n",
       "      <td>0.983</td>\n",
       "      <td>0.954023</td>\n",
       "      <td>0.864583</td>\n",
       "      <td>0.930079</td>\n",
       "      <td>0.907104</td>\n",
       "    </tr>\n",
       "    <tr>\n",
       "      <td>1</td>\n",
       "      <td>RandomForestClassifier</td>\n",
       "      <td>0.980</td>\n",
       "      <td>0.952381</td>\n",
       "      <td>0.833333</td>\n",
       "      <td>0.914454</td>\n",
       "      <td>0.888889</td>\n",
       "    </tr>\n",
       "    <tr>\n",
       "      <td>2</td>\n",
       "      <td>DecisionTreeClassifier</td>\n",
       "      <td>0.980</td>\n",
       "      <td>0.941860</td>\n",
       "      <td>0.843750</td>\n",
       "      <td>0.919110</td>\n",
       "      <td>0.890110</td>\n",
       "    </tr>\n",
       "    <tr>\n",
       "      <td>3</td>\n",
       "      <td>GradientBoostingClassifier</td>\n",
       "      <td>0.980</td>\n",
       "      <td>0.941860</td>\n",
       "      <td>0.843750</td>\n",
       "      <td>0.919110</td>\n",
       "      <td>0.890110</td>\n",
       "    </tr>\n",
       "  </tbody>\n",
       "</table>\n",
       "</div>"
      ],
      "text/plain": [
       "                        model  accuracy  precision    recall   roc_auc  \\\n",
       "0          CatBoostClassifier     0.983   0.954023  0.864583  0.930079   \n",
       "1      RandomForestClassifier     0.980   0.952381  0.833333  0.914454   \n",
       "2      DecisionTreeClassifier     0.980   0.941860  0.843750  0.919110   \n",
       "3  GradientBoostingClassifier     0.980   0.941860  0.843750  0.919110   \n",
       "\n",
       "         f1  \n",
       "0  0.907104  \n",
       "1  0.888889  \n",
       "2  0.890110  \n",
       "3  0.890110  "
      ]
     },
     "execution_count": 67,
     "metadata": {},
     "output_type": "execute_result"
    }
   ],
   "source": [
    "# load grid_search results \n",
    "scoring_df = pd.read_csv('scoring_df.csv')\n",
    "scoring_df"
   ]
  },
  {
   "cell_type": "code",
   "execution_count": 68,
   "metadata": {},
   "outputs": [],
   "source": [
    "# train test split\n",
    "target_col = ['Personal Loan']\n",
    "\n",
    "X, y = df.drop(target_col, axis=1), df[target_col]\n",
    "\n",
    "metrics = {'accuracy': accuracy_score,\n",
    "           'precision': precision_score,\n",
    "           'recall': recall_score,\n",
    "           'roc_auc': roc_auc_score, \n",
    "           'f1': f1_score}"
   ]
  },
  {
   "cell_type": "markdown",
   "metadata": {},
   "source": [
    "#### Feature Engeneering Pipeline\n",
    "Для создания новых и удаления неинформативных фичей создан пайплайн ___feature_engeneering_pipeline___. \n",
    "\n",
    "Пример использования:"
   ]
  },
  {
   "cell_type": "code",
   "execution_count": 69,
   "metadata": {},
   "outputs": [
    {
     "data": {
      "text/html": [
       "<div>\n",
       "<style scoped>\n",
       "    .dataframe tbody tr th:only-of-type {\n",
       "        vertical-align: middle;\n",
       "    }\n",
       "\n",
       "    .dataframe tbody tr th {\n",
       "        vertical-align: top;\n",
       "    }\n",
       "\n",
       "    .dataframe thead th {\n",
       "        text-align: right;\n",
       "    }\n",
       "</style>\n",
       "<table border=\"1\" class=\"dataframe\">\n",
       "  <thead>\n",
       "    <tr style=\"text-align: right;\">\n",
       "      <th></th>\n",
       "      <th>Income</th>\n",
       "      <th>Family</th>\n",
       "      <th>CCAvg</th>\n",
       "      <th>Education</th>\n",
       "      <th>Mortgage</th>\n",
       "      <th>Securities Account</th>\n",
       "      <th>CD Account</th>\n",
       "      <th>Online</th>\n",
       "      <th>CreditCard</th>\n",
       "      <th>IsMortgaged</th>\n",
       "      <th>IsFamily</th>\n",
       "      <th>IsEducated</th>\n",
       "      <th>IsMortgaged75</th>\n",
       "      <th>IsIncome75</th>\n",
       "      <th>IsCCAvg75</th>\n",
       "    </tr>\n",
       "  </thead>\n",
       "  <tbody>\n",
       "    <tr>\n",
       "      <td>0</td>\n",
       "      <td>49</td>\n",
       "      <td>4</td>\n",
       "      <td>1.6</td>\n",
       "      <td>1</td>\n",
       "      <td>0</td>\n",
       "      <td>1</td>\n",
       "      <td>0</td>\n",
       "      <td>0</td>\n",
       "      <td>0</td>\n",
       "      <td>0</td>\n",
       "      <td>1</td>\n",
       "      <td>0</td>\n",
       "      <td>0</td>\n",
       "      <td>0</td>\n",
       "      <td>0</td>\n",
       "    </tr>\n",
       "  </tbody>\n",
       "</table>\n",
       "</div>"
      ],
      "text/plain": [
       "   Income  Family  CCAvg  Education  Mortgage  Securities Account  CD Account  \\\n",
       "0      49       4    1.6          1         0                   1           0   \n",
       "\n",
       "   Online  CreditCard  IsMortgaged  IsFamily  IsEducated  IsMortgaged75  \\\n",
       "0       0           0            0         1           0              0   \n",
       "\n",
       "   IsIncome75  IsCCAvg75  \n",
       "0           0          0  "
      ]
     },
     "execution_count": 69,
     "metadata": {},
     "output_type": "execute_result"
    }
   ],
   "source": [
    "# feature_engeneering_pipeline\n",
    "feature_engeneering_pipeline = joblib.load('data_engeneering_pipeline.pkl')\n",
    "feature_engeneering_pipeline.transform(X.head(1))"
   ]
  },
  {
   "cell_type": "markdown",
   "metadata": {},
   "source": [
    "#### Model\n",
    "Валидацию, поиск по сетке и выбор модели можно также посмотреть в [предыдущем ноутбуке](Personal_Loan_project.ipynb#model_cell). Далее будет рассмотрено использование модели для предсказания предобработанных ___feature_engeneering_pipeline___ данных."
   ]
  },
  {
   "cell_type": "code",
   "execution_count": 70,
   "metadata": {},
   "outputs": [
    {
     "data": {
      "text/plain": [
       "<catboost.core.CatBoostClassifier at 0x1dfe1ed5a08>"
      ]
     },
     "execution_count": 70,
     "metadata": {},
     "output_type": "execute_result"
    }
   ],
   "source": [
    "# load model (cb_classifier)\n",
    "cb_classifier = joblib.load('models\\\\cb_model.pkl')\n",
    "cb_classifier"
   ]
  },
  {
   "cell_type": "code",
   "execution_count": 71,
   "metadata": {},
   "outputs": [
    {
     "name": "stdout",
     "output_type": "stream",
     "text": [
      "[0]\n",
      "[[9.99966897e-01 3.31031296e-05]]\n"
     ]
    }
   ],
   "source": [
    "# making predictions\n",
    "print(cb_classifier.predict(feature_engeneering_pipeline.transform(X.head(1))))\n",
    "\n",
    "# predict proba\n",
    "print(cb_classifier.predict_proba(feature_engeneering_pipeline.transform(X.head(1))))"
   ]
  },
  {
   "cell_type": "markdown",
   "metadata": {},
   "source": [
    "#### Общий пайплайн\n",
    "Для упрощения процесса получения предсказаний сделаем pipeline, объединяющий прерыдущие 2 этапа преобразования и вычисления результата в один."
   ]
  },
  {
   "cell_type": "code",
   "execution_count": 72,
   "metadata": {},
   "outputs": [
    {
     "data": {
      "text/plain": [
       "['models\\\\final_model.pkl']"
      ]
     },
     "execution_count": 72,
     "metadata": {},
     "output_type": "execute_result"
    }
   ],
   "source": [
    "# concat_pipeline\n",
    "model_pipeline = Pipeline([\n",
    "        ('feature_engeneering_pipeline', feature_engeneering_pipeline),\n",
    "        ('cb_classifier', cb_classifier)\n",
    "    ])\n",
    "\n",
    "# saving pipeline\n",
    "joblib.dump(model_pipeline, 'models\\\\final_model.pkl')"
   ]
  },
  {
   "cell_type": "code",
   "execution_count": 73,
   "metadata": {},
   "outputs": [
    {
     "name": "stdout",
     "output_type": "stream",
     "text": [
      "[0]\n",
      "[[9.99966897e-01 3.31031296e-05]]\n"
     ]
    }
   ],
   "source": [
    "# loading pipeline\n",
    "model_pipeline = joblib.load('models\\\\final_model.pkl')\n",
    "\n",
    "# making predictions with pipeilne\n",
    "print(model_pipeline.predict(X.head(1)))\n",
    "\n",
    "# predict proba with pipeline\n",
    "print(model_pipeline.predict_proba(X.head(1)))"
   ]
  },
  {
   "cell_type": "markdown",
   "metadata": {},
   "source": [
    "<a id='feature_importance'></a>\n",
    "### Интерпретация модели\n",
    "С помощью градиентного бустинка (в данном случае, CatBoostClassifier), можно получить ___feature_importance___ для понимания важности признаков модели."
   ]
  },
  {
   "cell_type": "code",
   "execution_count": 74,
   "metadata": {},
   "outputs": [
    {
     "data": {
      "text/html": [
       "<div>\n",
       "<style scoped>\n",
       "    .dataframe tbody tr th:only-of-type {\n",
       "        vertical-align: middle;\n",
       "    }\n",
       "\n",
       "    .dataframe tbody tr th {\n",
       "        vertical-align: top;\n",
       "    }\n",
       "\n",
       "    .dataframe thead th {\n",
       "        text-align: right;\n",
       "    }\n",
       "</style>\n",
       "<table border=\"1\" class=\"dataframe\">\n",
       "  <thead>\n",
       "    <tr style=\"text-align: right;\">\n",
       "      <th></th>\n",
       "      <th>0</th>\n",
       "      <th>1</th>\n",
       "      <th>2</th>\n",
       "      <th>3</th>\n",
       "      <th>4</th>\n",
       "      <th>5</th>\n",
       "      <th>6</th>\n",
       "      <th>7</th>\n",
       "      <th>8</th>\n",
       "      <th>9</th>\n",
       "    </tr>\n",
       "  </thead>\n",
       "  <tbody>\n",
       "    <tr>\n",
       "      <td>Feature Id</td>\n",
       "      <td>Income</td>\n",
       "      <td>Education</td>\n",
       "      <td>Family</td>\n",
       "      <td>CCAvg</td>\n",
       "      <td>IsEducated</td>\n",
       "      <td>Mortgage</td>\n",
       "      <td>CD Account</td>\n",
       "      <td>IsCCAvg75</td>\n",
       "      <td>IsIncome75</td>\n",
       "      <td>Online</td>\n",
       "    </tr>\n",
       "    <tr>\n",
       "      <td>Importances</td>\n",
       "      <td>25.173</td>\n",
       "      <td>17.3299</td>\n",
       "      <td>17.021</td>\n",
       "      <td>16.327</td>\n",
       "      <td>6.98986</td>\n",
       "      <td>3.20094</td>\n",
       "      <td>3.19656</td>\n",
       "      <td>2.72506</td>\n",
       "      <td>2.47061</td>\n",
       "      <td>2.40087</td>\n",
       "    </tr>\n",
       "  </tbody>\n",
       "</table>\n",
       "</div>"
      ],
      "text/plain": [
       "                  0          1       2       3           4         5  \\\n",
       "Feature Id   Income  Education  Family   CCAvg  IsEducated  Mortgage   \n",
       "Importances  25.173    17.3299  17.021  16.327     6.98986   3.20094   \n",
       "\n",
       "                      6          7           8        9  \n",
       "Feature Id   CD Account  IsCCAvg75  IsIncome75   Online  \n",
       "Importances     3.19656    2.72506     2.47061  2.40087  "
      ]
     },
     "execution_count": 74,
     "metadata": {},
     "output_type": "execute_result"
    }
   ],
   "source": [
    "# feature importance\n",
    "feature_importance_df = cb_classifier.get_feature_importance(prettified=True)\n",
    "very_important_features = feature_importance_df['Feature Id'][:4] # for future\n",
    "\n",
    "feature_importance_df.head(10).T"
   ]
  },
  {
   "cell_type": "markdown",
   "metadata": {},
   "source": [
    "Самыми влиятельными признаками являются Income, Education, Family и CCAvg, что является довольно логичным с точки зрения банка. Занесем их в ___very_important_features___."
   ]
  },
  {
   "cell_type": "markdown",
   "metadata": {},
   "source": [
    "<a id='validation'></a>\n",
    "### Валидация и стабильность модели по фолдам\n",
    "Для оценки качества модели мы использовали стратифицированную ___k-Fold___ валидацию на всем датасете с разбиением на 11 фолдов. Это позволит более точно оценить качество стандартное отклонение качества модели на различных данных.\n"
   ]
  },
  {
   "cell_type": "code",
   "execution_count": 75,
   "metadata": {},
   "outputs": [
    {
     "name": "stdout",
     "output_type": "stream",
     "text": [
      "Wall time: 2min 5s\n"
     ]
    },
    {
     "data": {
      "text/plain": [
       "dict_keys(['fit_time', 'score_time', 'test_accuracy', 'test_precision', 'test_recall', 'test_roc_auc', 'test_f1'])"
      ]
     },
     "execution_count": 75,
     "metadata": {},
     "output_type": "execute_result"
    }
   ],
   "source": [
    "%%time \n",
    "\n",
    "# stratified StratifiedKFold\n",
    "cv = StratifiedKFold(n_splits=11, shuffle=True, random_state=RANDOM_STATE)\n",
    "\n",
    "# scores\n",
    "scoring = list(scoring_df.columns)[1:]\n",
    "# print(f'Scoring columns: {scoring}')\n",
    "\n",
    "scores = cross_validate(model_pipeline, X, y, cv=cv, scoring=scoring, n_jobs=-1)\n",
    "scores.keys()"
   ]
  },
  {
   "cell_type": "code",
   "execution_count": 76,
   "metadata": {},
   "outputs": [
    {
     "data": {
      "text/html": [
       "<div>\n",
       "<style scoped>\n",
       "    .dataframe tbody tr th:only-of-type {\n",
       "        vertical-align: middle;\n",
       "    }\n",
       "\n",
       "    .dataframe tbody tr th {\n",
       "        vertical-align: top;\n",
       "    }\n",
       "\n",
       "    .dataframe thead th {\n",
       "        text-align: right;\n",
       "    }\n",
       "</style>\n",
       "<table border=\"1\" class=\"dataframe\">\n",
       "  <thead>\n",
       "    <tr style=\"text-align: right;\">\n",
       "      <th></th>\n",
       "      <th>fold</th>\n",
       "      <th>test_accuracy</th>\n",
       "      <th>test_precision</th>\n",
       "      <th>test_recall</th>\n",
       "      <th>test_roc_auc</th>\n",
       "      <th>test_f1</th>\n",
       "    </tr>\n",
       "  </thead>\n",
       "  <tbody>\n",
       "    <tr>\n",
       "      <td>0</td>\n",
       "      <td>1</td>\n",
       "      <td>0.989011</td>\n",
       "      <td>1.000000</td>\n",
       "      <td>0.886364</td>\n",
       "      <td>0.997678</td>\n",
       "      <td>0.939759</td>\n",
       "    </tr>\n",
       "    <tr>\n",
       "      <td>1</td>\n",
       "      <td>2</td>\n",
       "      <td>0.989011</td>\n",
       "      <td>1.000000</td>\n",
       "      <td>0.886364</td>\n",
       "      <td>0.993917</td>\n",
       "      <td>0.939759</td>\n",
       "    </tr>\n",
       "    <tr>\n",
       "      <td>2</td>\n",
       "      <td>3</td>\n",
       "      <td>0.986813</td>\n",
       "      <td>0.952381</td>\n",
       "      <td>0.909091</td>\n",
       "      <td>0.997788</td>\n",
       "      <td>0.930233</td>\n",
       "    </tr>\n",
       "    <tr>\n",
       "      <td>3</td>\n",
       "      <td>4</td>\n",
       "      <td>0.984615</td>\n",
       "      <td>0.974359</td>\n",
       "      <td>0.863636</td>\n",
       "      <td>0.998507</td>\n",
       "      <td>0.915663</td>\n",
       "    </tr>\n",
       "    <tr>\n",
       "      <td>4</td>\n",
       "      <td>5</td>\n",
       "      <td>0.984615</td>\n",
       "      <td>0.930233</td>\n",
       "      <td>0.909091</td>\n",
       "      <td>0.997678</td>\n",
       "      <td>0.919540</td>\n",
       "    </tr>\n",
       "    <tr>\n",
       "      <td>5</td>\n",
       "      <td>6</td>\n",
       "      <td>0.993407</td>\n",
       "      <td>1.000000</td>\n",
       "      <td>0.931818</td>\n",
       "      <td>0.998949</td>\n",
       "      <td>0.964706</td>\n",
       "    </tr>\n",
       "    <tr>\n",
       "      <td>6</td>\n",
       "      <td>7</td>\n",
       "      <td>0.984581</td>\n",
       "      <td>0.950000</td>\n",
       "      <td>0.883721</td>\n",
       "      <td>0.998246</td>\n",
       "      <td>0.915663</td>\n",
       "    </tr>\n",
       "    <tr>\n",
       "      <td>7</td>\n",
       "      <td>8</td>\n",
       "      <td>0.995595</td>\n",
       "      <td>0.955556</td>\n",
       "      <td>1.000000</td>\n",
       "      <td>0.999830</td>\n",
       "      <td>0.977273</td>\n",
       "    </tr>\n",
       "    <tr>\n",
       "      <td>8</td>\n",
       "      <td>9</td>\n",
       "      <td>0.986784</td>\n",
       "      <td>1.000000</td>\n",
       "      <td>0.860465</td>\n",
       "      <td>0.997397</td>\n",
       "      <td>0.925000</td>\n",
       "    </tr>\n",
       "    <tr>\n",
       "      <td>9</td>\n",
       "      <td>10</td>\n",
       "      <td>0.991189</td>\n",
       "      <td>1.000000</td>\n",
       "      <td>0.906977</td>\n",
       "      <td>0.999378</td>\n",
       "      <td>0.951220</td>\n",
       "    </tr>\n",
       "    <tr>\n",
       "      <td>10</td>\n",
       "      <td>11</td>\n",
       "      <td>0.986784</td>\n",
       "      <td>0.975000</td>\n",
       "      <td>0.886364</td>\n",
       "      <td>0.998115</td>\n",
       "      <td>0.928571</td>\n",
       "    </tr>\n",
       "  </tbody>\n",
       "</table>\n",
       "</div>"
      ],
      "text/plain": [
       "    fold  test_accuracy  test_precision  test_recall  test_roc_auc   test_f1\n",
       "0      1       0.989011        1.000000     0.886364      0.997678  0.939759\n",
       "1      2       0.989011        1.000000     0.886364      0.993917  0.939759\n",
       "2      3       0.986813        0.952381     0.909091      0.997788  0.930233\n",
       "3      4       0.984615        0.974359     0.863636      0.998507  0.915663\n",
       "4      5       0.984615        0.930233     0.909091      0.997678  0.919540\n",
       "5      6       0.993407        1.000000     0.931818      0.998949  0.964706\n",
       "6      7       0.984581        0.950000     0.883721      0.998246  0.915663\n",
       "7      8       0.995595        0.955556     1.000000      0.999830  0.977273\n",
       "8      9       0.986784        1.000000     0.860465      0.997397  0.925000\n",
       "9     10       0.991189        1.000000     0.906977      0.999378  0.951220\n",
       "10    11       0.986784        0.975000     0.886364      0.998115  0.928571"
      ]
     },
     "execution_count": 76,
     "metadata": {},
     "output_type": "execute_result"
    }
   ],
   "source": [
    "# cv_scores to dateframe\n",
    "model_cv_scores = pd.DataFrame()\n",
    "model_cv_scores['fold'] = np.arange(1, 12)\n",
    "\n",
    "for score in scores:\n",
    "    if 'test_' in score:\n",
    "        model_cv_scores[score] = scores[score]\n",
    "        \n",
    "model_cv_scores"
   ]
  },
  {
   "cell_type": "markdown",
   "metadata": {},
   "source": [
    "В предыдущем задании мы [поставили задачу](Personal_Loan_project.ipynb#buisness_and_math_task) решения задачи оптимизации с максимизацией ___f1_score___. Из результатов валидации видно, что некоторые метрики ведут себя не очень стабильно на разных фолдах. Визуализируем это и посчитаем их среднее квадратичное отклонение ___std___ по фолдам."
   ]
  },
  {
   "cell_type": "code",
   "execution_count": 77,
   "metadata": {},
   "outputs": [
    {
     "data": {
      "image/png": "[encoded data removed]",
      "text/plain": [
       "<Figure size 1152x576 with 1 Axes>"
      ]
     },
     "metadata": {
      "needs_background": "light"
     },
     "output_type": "display_data"
    }
   ],
   "source": [
    "# vizualization\n",
    "std_coef = 1.\n",
    "\n",
    "plt.figure(figsize=(16, 8))\n",
    "\n",
    "for column in model_cv_scores:\n",
    "    if column != 'fold':\n",
    "        plt.plot(model_cv_scores['fold'], model_cv_scores[column], label=column)\n",
    "        plt.fill_between(x=model_cv_scores['fold'], \n",
    "                         y1=model_cv_scores[column]+std_coef*model_cv_scores[column].std(),\n",
    "                         y2=model_cv_scores[column]-std_coef*model_cv_scores[column].std(),\n",
    "                         alpha=.2)\n",
    "        \n",
    "        \n",
    "plt.title('CatBoostClassifier cv-5 validation results', size=18)\n",
    "plt.xlabel('Fold', size=16)\n",
    "plt.ylabel('Score', size=16)\n",
    "\n",
    "plt.legend(loc='lower right', fontsize=14);"
   ]
  },
  {
   "cell_type": "code",
   "execution_count": 78,
   "metadata": {},
   "outputs": [
    {
     "data": {
      "text/plain": [
       "test_accuracy     0.003692\n",
       "test_precision    0.025749\n",
       "test_recall       0.038578\n",
       "test_roc_auc      0.001541\n",
       "test_f1           0.020207\n",
       "dtype: float64"
      ]
     },
     "execution_count": 78,
     "metadata": {},
     "output_type": "execute_result"
    }
   ],
   "source": [
    "model_cv_scores.loc[:, 'test_accuracy':].std()"
   ]
  },
  {
   "cell_type": "markdown",
   "metadata": {},
   "source": [
    "<a id='model_behaviour'></a>\n",
    "### Оценка поведения модели\n",
    "#### Дисбаланс классов\n",
    "Оценим качество предсказаний модели при сильном смещении распределения классов. Для этого возьмем два крайних варианта - предсказание всех объектов с целевой переменной 0 и всех объектов с целевой переменной 1."
   ]
  },
  {
   "cell_type": "code",
   "execution_count": 79,
   "metadata": {},
   "outputs": [
    {
     "data": {
      "text/plain": [
       "(0.9988938053097345, 0.9604166666666667)"
      ]
     },
     "execution_count": 79,
     "metadata": {},
     "output_type": "execute_result"
    }
   ],
   "source": [
    "X_only_true = X[(y == 1).values]\n",
    "X_only_false = X[(y == 0).values]\n",
    "\n",
    "preds_only_true = model_pipeline.predict(X_only_true)\n",
    "preds_only_false = model_pipeline.predict(X_only_false)\n",
    "\n",
    "1 - preds_only_false.mean(), preds_only_true.mean()"
   ]
  },
  {
   "cell_type": "markdown",
   "metadata": {},
   "source": [
    "Модели градиентного бустинга являются довольно устойчивыми к изменению распределения целевой переменной, поэтому наша модель показала высокую точность на предсказании по датасету с единственным классом.\n",
    "\n",
    "#### Уязвимые места модели\n",
    "Для того, чтобы найти уязвимые места модели, посмотрим на данные в которых модель выдает неправильные ответы."
   ]
  },
  {
   "cell_type": "code",
   "execution_count": 80,
   "metadata": {},
   "outputs": [
    {
     "data": {
      "text/html": [
       "<div>\n",
       "<style scoped>\n",
       "    .dataframe tbody tr th:only-of-type {\n",
       "        vertical-align: middle;\n",
       "    }\n",
       "\n",
       "    .dataframe tbody tr th {\n",
       "        vertical-align: top;\n",
       "    }\n",
       "\n",
       "    .dataframe thead th {\n",
       "        text-align: right;\n",
       "    }\n",
       "</style>\n",
       "<table border=\"1\" class=\"dataframe\">\n",
       "  <thead>\n",
       "    <tr style=\"text-align: right;\">\n",
       "      <th></th>\n",
       "      <th>ID</th>\n",
       "      <th>Age</th>\n",
       "      <th>Experience</th>\n",
       "      <th>Income</th>\n",
       "      <th>ZIP Code</th>\n",
       "      <th>Family</th>\n",
       "      <th>CCAvg</th>\n",
       "      <th>Education</th>\n",
       "      <th>Mortgage</th>\n",
       "      <th>Personal Loan</th>\n",
       "      <th>Securities Account</th>\n",
       "      <th>CD Account</th>\n",
       "      <th>Online</th>\n",
       "      <th>CreditCard</th>\n",
       "      <th>preds</th>\n",
       "      <th>correct</th>\n",
       "    </tr>\n",
       "  </thead>\n",
       "  <tbody>\n",
       "    <tr>\n",
       "      <td>12</td>\n",
       "      <td>13</td>\n",
       "      <td>48</td>\n",
       "      <td>23</td>\n",
       "      <td>114</td>\n",
       "      <td>93106</td>\n",
       "      <td>2</td>\n",
       "      <td>3.8</td>\n",
       "      <td>3</td>\n",
       "      <td>0</td>\n",
       "      <td>0</td>\n",
       "      <td>1</td>\n",
       "      <td>0</td>\n",
       "      <td>0</td>\n",
       "      <td>0</td>\n",
       "      <td>1</td>\n",
       "      <td>False</td>\n",
       "    </tr>\n",
       "    <tr>\n",
       "      <td>261</td>\n",
       "      <td>262</td>\n",
       "      <td>42</td>\n",
       "      <td>16</td>\n",
       "      <td>111</td>\n",
       "      <td>93106</td>\n",
       "      <td>2</td>\n",
       "      <td>1.2</td>\n",
       "      <td>3</td>\n",
       "      <td>251</td>\n",
       "      <td>1</td>\n",
       "      <td>0</td>\n",
       "      <td>0</td>\n",
       "      <td>1</td>\n",
       "      <td>0</td>\n",
       "      <td>0</td>\n",
       "      <td>False</td>\n",
       "    </tr>\n",
       "    <tr>\n",
       "      <td>323</td>\n",
       "      <td>324</td>\n",
       "      <td>59</td>\n",
       "      <td>34</td>\n",
       "      <td>99</td>\n",
       "      <td>90034</td>\n",
       "      <td>1</td>\n",
       "      <td>4.4</td>\n",
       "      <td>1</td>\n",
       "      <td>0</td>\n",
       "      <td>1</td>\n",
       "      <td>0</td>\n",
       "      <td>0</td>\n",
       "      <td>0</td>\n",
       "      <td>0</td>\n",
       "      <td>0</td>\n",
       "      <td>False</td>\n",
       "    </tr>\n",
       "    <tr>\n",
       "      <td>464</td>\n",
       "      <td>465</td>\n",
       "      <td>43</td>\n",
       "      <td>19</td>\n",
       "      <td>83</td>\n",
       "      <td>94305</td>\n",
       "      <td>4</td>\n",
       "      <td>3.6</td>\n",
       "      <td>3</td>\n",
       "      <td>0</td>\n",
       "      <td>1</td>\n",
       "      <td>0</td>\n",
       "      <td>0</td>\n",
       "      <td>0</td>\n",
       "      <td>1</td>\n",
       "      <td>0</td>\n",
       "      <td>False</td>\n",
       "    </tr>\n",
       "    <tr>\n",
       "      <td>505</td>\n",
       "      <td>506</td>\n",
       "      <td>36</td>\n",
       "      <td>12</td>\n",
       "      <td>69</td>\n",
       "      <td>94305</td>\n",
       "      <td>3</td>\n",
       "      <td>3.1</td>\n",
       "      <td>2</td>\n",
       "      <td>0</td>\n",
       "      <td>1</td>\n",
       "      <td>0</td>\n",
       "      <td>0</td>\n",
       "      <td>1</td>\n",
       "      <td>0</td>\n",
       "      <td>0</td>\n",
       "      <td>False</td>\n",
       "    </tr>\n",
       "  </tbody>\n",
       "</table>\n",
       "</div>"
      ],
      "text/plain": [
       "      ID  Age  Experience  Income  ZIP Code  Family  CCAvg  Education  \\\n",
       "12    13   48          23     114     93106       2    3.8          3   \n",
       "261  262   42          16     111     93106       2    1.2          3   \n",
       "323  324   59          34      99     90034       1    4.4          1   \n",
       "464  465   43          19      83     94305       4    3.6          3   \n",
       "505  506   36          12      69     94305       3    3.1          2   \n",
       "\n",
       "     Mortgage  Personal Loan  Securities Account  CD Account  Online  \\\n",
       "12          0              0                   1           0       0   \n",
       "261       251              1                   0           0       1   \n",
       "323         0              1                   0           0       0   \n",
       "464         0              1                   0           0       0   \n",
       "505         0              1                   0           0       1   \n",
       "\n",
       "     CreditCard  preds  correct  \n",
       "12            0      1    False  \n",
       "261           0      0    False  \n",
       "323           0      0    False  \n",
       "464           1      0    False  \n",
       "505           0      0    False  "
      ]
     },
     "execution_count": 80,
     "metadata": {},
     "output_type": "execute_result"
    }
   ],
   "source": [
    "# find out missing values\n",
    "df['preds'] = model_pipeline.predict(X)\n",
    "df['correct'] = df['preds'] == df['Personal Loan']\n",
    "df['correct'].mean()\n",
    "\n",
    "wa = df[df['correct'] == 0] # wrong answers\n",
    "ta = df[df['correct'] == 1] # true answers\n",
    "\n",
    "wa.head(5)"
   ]
  },
  {
   "cell_type": "code",
   "execution_count": 81,
   "metadata": {},
   "outputs": [
    {
     "data": {
      "text/html": [
       "<div>\n",
       "<style scoped>\n",
       "    .dataframe tbody tr th:only-of-type {\n",
       "        vertical-align: middle;\n",
       "    }\n",
       "\n",
       "    .dataframe tbody tr th {\n",
       "        vertical-align: top;\n",
       "    }\n",
       "\n",
       "    .dataframe thead th {\n",
       "        text-align: right;\n",
       "    }\n",
       "</style>\n",
       "<table border=\"1\" class=\"dataframe\">\n",
       "  <thead>\n",
       "    <tr style=\"text-align: right;\">\n",
       "      <th></th>\n",
       "      <th>Income</th>\n",
       "      <th>Education</th>\n",
       "      <th>Family</th>\n",
       "      <th>CCAvg</th>\n",
       "    </tr>\n",
       "  </thead>\n",
       "  <tbody>\n",
       "    <tr>\n",
       "      <td>count</td>\n",
       "      <td>24.00000</td>\n",
       "      <td>24.00000</td>\n",
       "      <td>24.000000</td>\n",
       "      <td>24.000000</td>\n",
       "    </tr>\n",
       "    <tr>\n",
       "      <td>mean</td>\n",
       "      <td>104.62500</td>\n",
       "      <td>2.37500</td>\n",
       "      <td>2.458333</td>\n",
       "      <td>2.587500</td>\n",
       "    </tr>\n",
       "    <tr>\n",
       "      <td>std</td>\n",
       "      <td>11.77622</td>\n",
       "      <td>0.76967</td>\n",
       "      <td>1.284664</td>\n",
       "      <td>1.283783</td>\n",
       "    </tr>\n",
       "    <tr>\n",
       "      <td>min</td>\n",
       "      <td>69.00000</td>\n",
       "      <td>1.00000</td>\n",
       "      <td>1.000000</td>\n",
       "      <td>0.500000</td>\n",
       "    </tr>\n",
       "    <tr>\n",
       "      <td>25%</td>\n",
       "      <td>100.50000</td>\n",
       "      <td>2.00000</td>\n",
       "      <td>1.000000</td>\n",
       "      <td>1.500000</td>\n",
       "    </tr>\n",
       "    <tr>\n",
       "      <td>50%</td>\n",
       "      <td>109.00000</td>\n",
       "      <td>3.00000</td>\n",
       "      <td>2.000000</td>\n",
       "      <td>2.500000</td>\n",
       "    </tr>\n",
       "    <tr>\n",
       "      <td>75%</td>\n",
       "      <td>113.00000</td>\n",
       "      <td>3.00000</td>\n",
       "      <td>4.000000</td>\n",
       "      <td>3.800000</td>\n",
       "    </tr>\n",
       "    <tr>\n",
       "      <td>max</td>\n",
       "      <td>115.00000</td>\n",
       "      <td>3.00000</td>\n",
       "      <td>4.000000</td>\n",
       "      <td>4.600000</td>\n",
       "    </tr>\n",
       "  </tbody>\n",
       "</table>\n",
       "</div>"
      ],
      "text/plain": [
       "          Income  Education     Family      CCAvg\n",
       "count   24.00000   24.00000  24.000000  24.000000\n",
       "mean   104.62500    2.37500   2.458333   2.587500\n",
       "std     11.77622    0.76967   1.284664   1.283783\n",
       "min     69.00000    1.00000   1.000000   0.500000\n",
       "25%    100.50000    2.00000   1.000000   1.500000\n",
       "50%    109.00000    3.00000   2.000000   2.500000\n",
       "75%    113.00000    3.00000   4.000000   3.800000\n",
       "max    115.00000    3.00000   4.000000   4.600000"
      ]
     },
     "execution_count": 81,
     "metadata": {},
     "output_type": "execute_result"
    }
   ],
   "source": [
    "wa.describe().loc[:, very_important_features]"
   ]
  },
  {
   "cell_type": "code",
   "execution_count": 82,
   "metadata": {},
   "outputs": [
    {
     "data": {
      "text/html": [
       "<div>\n",
       "<style scoped>\n",
       "    .dataframe tbody tr th:only-of-type {\n",
       "        vertical-align: middle;\n",
       "    }\n",
       "\n",
       "    .dataframe tbody tr th {\n",
       "        vertical-align: top;\n",
       "    }\n",
       "\n",
       "    .dataframe thead th {\n",
       "        text-align: right;\n",
       "    }\n",
       "</style>\n",
       "<table border=\"1\" class=\"dataframe\">\n",
       "  <thead>\n",
       "    <tr style=\"text-align: right;\">\n",
       "      <th></th>\n",
       "      <th>Income</th>\n",
       "      <th>Education</th>\n",
       "      <th>Family</th>\n",
       "      <th>CCAvg</th>\n",
       "    </tr>\n",
       "  </thead>\n",
       "  <tbody>\n",
       "    <tr>\n",
       "      <td>count</td>\n",
       "      <td>4976.000000</td>\n",
       "      <td>4976.000000</td>\n",
       "      <td>4976.000000</td>\n",
       "      <td>4976.000000</td>\n",
       "    </tr>\n",
       "    <tr>\n",
       "      <td>mean</td>\n",
       "      <td>73.625402</td>\n",
       "      <td>1.878617</td>\n",
       "      <td>2.396101</td>\n",
       "      <td>1.934805</td>\n",
       "    </tr>\n",
       "    <tr>\n",
       "      <td>std</td>\n",
       "      <td>46.087659</td>\n",
       "      <td>0.839560</td>\n",
       "      <td>1.147099</td>\n",
       "      <td>1.749109</td>\n",
       "    </tr>\n",
       "    <tr>\n",
       "      <td>min</td>\n",
       "      <td>8.000000</td>\n",
       "      <td>1.000000</td>\n",
       "      <td>1.000000</td>\n",
       "      <td>0.000000</td>\n",
       "    </tr>\n",
       "    <tr>\n",
       "      <td>25%</td>\n",
       "      <td>39.000000</td>\n",
       "      <td>1.000000</td>\n",
       "      <td>1.000000</td>\n",
       "      <td>0.700000</td>\n",
       "    </tr>\n",
       "    <tr>\n",
       "      <td>50%</td>\n",
       "      <td>63.000000</td>\n",
       "      <td>2.000000</td>\n",
       "      <td>2.000000</td>\n",
       "      <td>1.500000</td>\n",
       "    </tr>\n",
       "    <tr>\n",
       "      <td>75%</td>\n",
       "      <td>98.000000</td>\n",
       "      <td>3.000000</td>\n",
       "      <td>3.000000</td>\n",
       "      <td>2.500000</td>\n",
       "    </tr>\n",
       "    <tr>\n",
       "      <td>max</td>\n",
       "      <td>224.000000</td>\n",
       "      <td>3.000000</td>\n",
       "      <td>4.000000</td>\n",
       "      <td>10.000000</td>\n",
       "    </tr>\n",
       "  </tbody>\n",
       "</table>\n",
       "</div>"
      ],
      "text/plain": [
       "            Income    Education       Family        CCAvg\n",
       "count  4976.000000  4976.000000  4976.000000  4976.000000\n",
       "mean     73.625402     1.878617     2.396101     1.934805\n",
       "std      46.087659     0.839560     1.147099     1.749109\n",
       "min       8.000000     1.000000     1.000000     0.000000\n",
       "25%      39.000000     1.000000     1.000000     0.700000\n",
       "50%      63.000000     2.000000     2.000000     1.500000\n",
       "75%      98.000000     3.000000     3.000000     2.500000\n",
       "max     224.000000     3.000000     4.000000    10.000000"
      ]
     },
     "execution_count": 82,
     "metadata": {},
     "output_type": "execute_result"
    }
   ],
   "source": [
    "ta.describe().loc[: , very_important_features]"
   ]
  },
  {
   "cell_type": "markdown",
   "metadata": {},
   "source": [
    "Из статистик по четырем главным фичам становится понятно, что диапазон ошибок модели довольно узок. Следовательно, можно предположить что модель ошибается на каком-то определенном диапазоне данных. Посмотрим теперь на графическую визуализацию распределения ошибок модели по 4м главным признакам."
   ]
  },
  {
   "cell_type": "code",
   "execution_count": 83,
   "metadata": {},
   "outputs": [
    {
     "data": {
      "image/png": "[encoded data removed]",
      "text/plain": [
       "<Figure size 1152x720 with 4 Axes>"
      ]
     },
     "metadata": {
      "needs_background": "light"
     },
     "output_type": "display_data"
    }
   ],
   "source": [
    "_, ax = plt.subplots(2, 2, figsize=(16, 10))\n",
    "\n",
    "# contplots for cat features\n",
    "sns.countplot('Education', data=wa, ax=ax[0, 0])\n",
    "sns.countplot('Family', data=wa, ax=ax[0, 1])\n",
    "\n",
    "# boxplots for num features\n",
    "sns.boxplot(x='Personal Loan', y='Income', data=df, hue='correct', ax=ax[1, 0])\n",
    "sns.boxplot(x='Personal Loan', y='CCAvg', data=df, hue='correct', ax=ax[1, 1]);\n"
   ]
  },
  {
   "cell_type": "markdown",
   "metadata": {},
   "source": [
    "Для визуализации распределения ошибок по категориальным признакам были использованы столбчатые диаграммы. В связи с малым количеством ошибок по всей выборке (24 шт), тяжело судить о равномерности / неравномерности распределения ошибок по классам. Однако, для номенативных признаков становится довольно очевидно, что модель ошибается на области разделения данных. Это может означать, что: \n",
    "* Для безошибочного разделения данных модели не хватает других весомых признаков.\n",
    "* Все ошибки будут сопроваждаться низким уровнем уверенности моели в ответах (model confidence).\n",
    "\n",
    "Из второго пункта было решено показывать в демо-стенде confidence level для возможной ручной разметки данных банковскими сотрудниками в уязвимых местах.  \n",
    "\n",
    "Из написанного выше можно сделать вывод, что модель будет работать лучше всего, и иметь высокую степень уверенности ___model_confidence___ на крайних людях, имеющих либо очень \"хорошие\", либо очень \"плохие\" показатели по всем главным признакам: ___Income___, ___Family___, ___Education___, ___CCAvg___."
   ]
  }
 ],
 "metadata": {
  "kernelspec": {
   "display_name": "Python 3",
   "language": "python",
   "name": "python3"
  },
  "language_info": {
   "codemirror_mode": {
    "name": "ipython",
    "version": 3
   },
   "file_extension": ".py",
   "mimetype": "text/x-python",
   "name": "python",
   "nbconvert_exporter": "python",
   "pygments_lexer": "ipython3",
   "version": "3.7.4"
  }
 },
 "nbformat": 4,
 "nbformat_minor": 2
}
