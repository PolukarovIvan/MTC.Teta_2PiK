{
 "cells": [
  {
   "cell_type": "code",
   "execution_count": 73,
   "metadata": {},
   "outputs": [],
   "source": [
    "# imports\n",
    "import pandas as pd\n",
    "import numpy as np\n",
    "\n",
    "import matplotlib.pyplot as plt\n",
    "import seaborn as sns\n",
    "plt.style.use('ggplot')\n",
    "%matplotlib inline\n",
    "import joblib\n",
    "\n",
    "from sklearn.model_selection import train_test_split, GridSearchCV, StratifiedKFold, cross_validate\n",
    "from sklearn.preprocessing import StandardScaler\n",
    "\n",
    "from sklearn.neighbors import KNeighborsClassifier\n",
    "from sklearn.tree import DecisionTreeClassifier\n",
    "from sklearn.linear_model import LogisticRegression\n",
    "from sklearn.ensemble import RandomForestClassifier, GradientBoostingClassifier\n",
    "from catboost import CatBoostClassifier\n",
    "\n",
    "from sklearn.metrics import make_scorer\n",
    "from sklearn.metrics import roc_auc_score, f1_score, accuracy_score, precision_score, recall_score\n",
    "\n",
    "from sklearn.pipeline import Pipeline, TransformerMixin\n",
    "from sklearn.base import BaseEstimator\n",
    "\n",
    "import warnings\n",
    "warnings.filterwarnings('ignore')\n",
    "\n",
    "from tqdm import tqdm\n",
    "\n",
    "from graphviz import Source\n",
    "from sklearn import tree\n",
    "\n",
    "RANDOM_STATE = 12\n",
    "\n",
    "# import custom classes for pipeline\n",
    "from prep import FeatureGemerator, FeatureSelector"
   ]
  },
  {
   "cell_type": "code",
   "execution_count": 74,
   "metadata": {},
   "outputs": [
    {
     "data": {
      "text/html": [
       "<div>\n",
       "<style scoped>\n",
       "    .dataframe tbody tr th:only-of-type {\n",
       "        vertical-align: middle;\n",
       "    }\n",
       "\n",
       "    .dataframe tbody tr th {\n",
       "        vertical-align: top;\n",
       "    }\n",
       "\n",
       "    .dataframe thead th {\n",
       "        text-align: right;\n",
       "    }\n",
       "</style>\n",
       "<table border=\"1\" class=\"dataframe\">\n",
       "  <thead>\n",
       "    <tr style=\"text-align: right;\">\n",
       "      <th></th>\n",
       "      <th>ID</th>\n",
       "      <th>Age</th>\n",
       "      <th>Experience</th>\n",
       "      <th>Income</th>\n",
       "      <th>ZIP Code</th>\n",
       "      <th>Family</th>\n",
       "      <th>CCAvg</th>\n",
       "      <th>Education</th>\n",
       "      <th>Mortgage</th>\n",
       "      <th>Personal Loan</th>\n",
       "      <th>Securities Account</th>\n",
       "      <th>CD Account</th>\n",
       "      <th>Online</th>\n",
       "      <th>CreditCard</th>\n",
       "    </tr>\n",
       "  </thead>\n",
       "  <tbody>\n",
       "    <tr>\n",
       "      <td>4789</td>\n",
       "      <td>4790</td>\n",
       "      <td>58</td>\n",
       "      <td>34</td>\n",
       "      <td>84</td>\n",
       "      <td>95120</td>\n",
       "      <td>4</td>\n",
       "      <td>1.6</td>\n",
       "      <td>2</td>\n",
       "      <td>0</td>\n",
       "      <td>0</td>\n",
       "      <td>0</td>\n",
       "      <td>0</td>\n",
       "      <td>1</td>\n",
       "      <td>0</td>\n",
       "    </tr>\n",
       "    <tr>\n",
       "      <td>2602</td>\n",
       "      <td>2603</td>\n",
       "      <td>52</td>\n",
       "      <td>26</td>\n",
       "      <td>161</td>\n",
       "      <td>93108</td>\n",
       "      <td>4</td>\n",
       "      <td>4.3</td>\n",
       "      <td>1</td>\n",
       "      <td>0</td>\n",
       "      <td>1</td>\n",
       "      <td>0</td>\n",
       "      <td>1</td>\n",
       "      <td>1</td>\n",
       "      <td>1</td>\n",
       "    </tr>\n",
       "    <tr>\n",
       "      <td>1585</td>\n",
       "      <td>1586</td>\n",
       "      <td>57</td>\n",
       "      <td>31</td>\n",
       "      <td>131</td>\n",
       "      <td>90502</td>\n",
       "      <td>2</td>\n",
       "      <td>2.7</td>\n",
       "      <td>1</td>\n",
       "      <td>0</td>\n",
       "      <td>0</td>\n",
       "      <td>0</td>\n",
       "      <td>0</td>\n",
       "      <td>0</td>\n",
       "      <td>0</td>\n",
       "    </tr>\n",
       "    <tr>\n",
       "      <td>2689</td>\n",
       "      <td>2690</td>\n",
       "      <td>40</td>\n",
       "      <td>16</td>\n",
       "      <td>104</td>\n",
       "      <td>91730</td>\n",
       "      <td>1</td>\n",
       "      <td>3.4</td>\n",
       "      <td>1</td>\n",
       "      <td>249</td>\n",
       "      <td>0</td>\n",
       "      <td>0</td>\n",
       "      <td>0</td>\n",
       "      <td>0</td>\n",
       "      <td>0</td>\n",
       "    </tr>\n",
       "    <tr>\n",
       "      <td>200</td>\n",
       "      <td>201</td>\n",
       "      <td>32</td>\n",
       "      <td>6</td>\n",
       "      <td>29</td>\n",
       "      <td>91355</td>\n",
       "      <td>1</td>\n",
       "      <td>1.9</td>\n",
       "      <td>3</td>\n",
       "      <td>0</td>\n",
       "      <td>0</td>\n",
       "      <td>0</td>\n",
       "      <td>0</td>\n",
       "      <td>1</td>\n",
       "      <td>1</td>\n",
       "    </tr>\n",
       "  </tbody>\n",
       "</table>\n",
       "</div>"
      ],
      "text/plain": [
       "        ID  Age  Experience  Income  ZIP Code  Family  CCAvg  Education  \\\n",
       "4789  4790   58          34      84     95120       4    1.6          2   \n",
       "2602  2603   52          26     161     93108       4    4.3          1   \n",
       "1585  1586   57          31     131     90502       2    2.7          1   \n",
       "2689  2690   40          16     104     91730       1    3.4          1   \n",
       "200    201   32           6      29     91355       1    1.9          3   \n",
       "\n",
       "      Mortgage  Personal Loan  Securities Account  CD Account  Online  \\\n",
       "4789         0              0                   0           0       1   \n",
       "2602         0              1                   0           1       1   \n",
       "1585         0              0                   0           0       0   \n",
       "2689       249              0                   0           0       0   \n",
       "200          0              0                   0           0       1   \n",
       "\n",
       "      CreditCard  \n",
       "4789           0  \n",
       "2602           1  \n",
       "1585           0  \n",
       "2689           0  \n",
       "200            1  "
      ]
     },
     "execution_count": 74,
     "metadata": {},
     "output_type": "execute_result"
    }
   ],
   "source": [
    "# load_data \n",
    "df = pd.read_csv(\"BPL.csv\")\n",
    "df.sample(5)"
   ]
  },
  {
   "cell_type": "code",
   "execution_count": 75,
   "metadata": {},
   "outputs": [
    {
     "data": {
      "text/html": [
       "<div>\n",
       "<style scoped>\n",
       "    .dataframe tbody tr th:only-of-type {\n",
       "        vertical-align: middle;\n",
       "    }\n",
       "\n",
       "    .dataframe tbody tr th {\n",
       "        vertical-align: top;\n",
       "    }\n",
       "\n",
       "    .dataframe thead th {\n",
       "        text-align: right;\n",
       "    }\n",
       "</style>\n",
       "<table border=\"1\" class=\"dataframe\">\n",
       "  <thead>\n",
       "    <tr style=\"text-align: right;\">\n",
       "      <th></th>\n",
       "      <th>model</th>\n",
       "      <th>accuracy</th>\n",
       "      <th>precision</th>\n",
       "      <th>recall</th>\n",
       "      <th>roc_auc</th>\n",
       "      <th>f1</th>\n",
       "    </tr>\n",
       "  </thead>\n",
       "  <tbody>\n",
       "    <tr>\n",
       "      <td>0</td>\n",
       "      <td>CatBoostClassifier</td>\n",
       "      <td>0.982</td>\n",
       "      <td>0.953488</td>\n",
       "      <td>0.854167</td>\n",
       "      <td>0.924871</td>\n",
       "      <td>0.901099</td>\n",
       "    </tr>\n",
       "    <tr>\n",
       "      <td>1</td>\n",
       "      <td>RandomForestClassifier</td>\n",
       "      <td>0.980</td>\n",
       "      <td>0.952381</td>\n",
       "      <td>0.833333</td>\n",
       "      <td>0.914454</td>\n",
       "      <td>0.888889</td>\n",
       "    </tr>\n",
       "    <tr>\n",
       "      <td>2</td>\n",
       "      <td>DecisionTreeClassifier</td>\n",
       "      <td>0.980</td>\n",
       "      <td>0.941860</td>\n",
       "      <td>0.843750</td>\n",
       "      <td>0.919110</td>\n",
       "      <td>0.890110</td>\n",
       "    </tr>\n",
       "    <tr>\n",
       "      <td>3</td>\n",
       "      <td>GradientBoostingClassifier</td>\n",
       "      <td>0.979</td>\n",
       "      <td>0.941176</td>\n",
       "      <td>0.833333</td>\n",
       "      <td>0.913901</td>\n",
       "      <td>0.883978</td>\n",
       "    </tr>\n",
       "  </tbody>\n",
       "</table>\n",
       "</div>"
      ],
      "text/plain": [
       "                        model  accuracy  precision    recall   roc_auc  \\\n",
       "0          CatBoostClassifier     0.982   0.953488  0.854167  0.924871   \n",
       "1      RandomForestClassifier     0.980   0.952381  0.833333  0.914454   \n",
       "2      DecisionTreeClassifier     0.980   0.941860  0.843750  0.919110   \n",
       "3  GradientBoostingClassifier     0.979   0.941176  0.833333  0.913901   \n",
       "\n",
       "         f1  \n",
       "0  0.901099  \n",
       "1  0.888889  \n",
       "2  0.890110  \n",
       "3  0.883978  "
      ]
     },
     "execution_count": 75,
     "metadata": {},
     "output_type": "execute_result"
    }
   ],
   "source": [
    "# load grid_search results \n",
    "scoring_df = pd.read_csv('scoring_df.csv')\n",
    "scoring_df"
   ]
  },
  {
   "cell_type": "code",
   "execution_count": 76,
   "metadata": {},
   "outputs": [
    {
     "data": {
      "text/plain": [
       "Pipeline(steps=[('feature_generator', FeatureGemerator()),\n",
       "                ('feature_selector', FeatureSelector())])"
      ]
     },
     "execution_count": 76,
     "metadata": {},
     "output_type": "execute_result"
    }
   ],
   "source": [
    "# load pipeline\n",
    "feature_engeneering_pipeline = joblib.load('data_engeneering_pipeline.pkl')\n",
    "feature_engeneering_pipeline"
   ]
  },
  {
   "cell_type": "code",
   "execution_count": 77,
   "metadata": {},
   "outputs": [],
   "source": [
    "# load model\n",
    "cb_classifier = joblib.load('models\\\\cb_model.pkl')"
   ]
  },
  {
   "cell_type": "code",
   "execution_count": 78,
   "metadata": {},
   "outputs": [
    {
     "data": {
      "text/plain": [
       "Pipeline(steps=[('feature_engeneering_pipeline',\n",
       "                 Pipeline(steps=[('feature_generator', FeatureGemerator()),\n",
       "                                 ('feature_selector', FeatureSelector())])),\n",
       "                ('cb_classifier',\n",
       "                 <catboost.core.CatBoostClassifier object at 0x000002412CCB6348>)])"
      ]
     },
     "execution_count": 78,
     "metadata": {},
     "output_type": "execute_result"
    }
   ],
   "source": [
    "# concat_pipeline\n",
    "model_pipeline = Pipeline([\n",
    "        ('feature_engeneering_pipeline', feature_engeneering_pipeline),\n",
    "        ('cb_classifier', cb_classifier)\n",
    "    ])\n",
    "\n",
    "model_pipeline"
   ]
  },
  {
   "cell_type": "code",
   "execution_count": 79,
   "metadata": {},
   "outputs": [],
   "source": [
    "# train test split\n",
    "target_col = ['Personal Loan']\n",
    "\n",
    "X, y = df.drop(target_col, axis=1), df[target_col]\n",
    "X_train_raw, X_test_raw, y_train, y_test = train_test_split(X, y, test_size=0.2,\n",
    "                                                            stratify = y, random_state=RANDOM_STATE)\n",
    "metrics = {'accuracy': accuracy_score,\n",
    "           'precision': precision_score,\n",
    "           'recall': recall_score,\n",
    "           'roc_auc': roc_auc_score, \n",
    "           'f1': f1_score}"
   ]
  },
  {
   "cell_type": "code",
   "execution_count": 80,
   "metadata": {},
   "outputs": [
    {
     "name": "stdout",
     "output_type": "stream",
     "text": [
      "Wall time: 52.6 s\n"
     ]
    },
    {
     "data": {
      "text/plain": [
       "dict_keys(['fit_time', 'score_time', 'test_accuracy', 'test_precision', 'test_recall', 'test_roc_auc', 'test_f1'])"
      ]
     },
     "execution_count": 80,
     "metadata": {},
     "output_type": "execute_result"
    }
   ],
   "source": [
    "%%time \n",
    "\n",
    "# stratified StratifiedKFold\n",
    "cv = StratifiedKFold(n_splits=5, shuffle=True, random_state=RANDOM_STATE)\n",
    "\n",
    "# scores\n",
    "scoring = list(scoring_df.columns)[1:]\n",
    "# print(f'Scoring columns: {scoring}')\n",
    "\n",
    "scores = cross_validate(model_pipeline, X, y, cv=cv, scoring=scoring, n_jobs=-1)\n",
    "scores.keys()"
   ]
  },
  {
   "cell_type": "code",
   "execution_count": 81,
   "metadata": {},
   "outputs": [
    {
     "data": {
      "text/html": [
       "<div>\n",
       "<style scoped>\n",
       "    .dataframe tbody tr th:only-of-type {\n",
       "        vertical-align: middle;\n",
       "    }\n",
       "\n",
       "    .dataframe tbody tr th {\n",
       "        vertical-align: top;\n",
       "    }\n",
       "\n",
       "    .dataframe thead th {\n",
       "        text-align: right;\n",
       "    }\n",
       "</style>\n",
       "<table border=\"1\" class=\"dataframe\">\n",
       "  <thead>\n",
       "    <tr style=\"text-align: right;\">\n",
       "      <th></th>\n",
       "      <th>fold</th>\n",
       "      <th>test_accuracy</th>\n",
       "      <th>test_precision</th>\n",
       "      <th>test_recall</th>\n",
       "      <th>test_roc_auc</th>\n",
       "      <th>test_f1</th>\n",
       "    </tr>\n",
       "  </thead>\n",
       "  <tbody>\n",
       "    <tr>\n",
       "      <td>0</td>\n",
       "      <td>1</td>\n",
       "      <td>0.988</td>\n",
       "      <td>1.000000</td>\n",
       "      <td>0.875000</td>\n",
       "      <td>0.995829</td>\n",
       "      <td>0.933333</td>\n",
       "    </tr>\n",
       "    <tr>\n",
       "      <td>1</td>\n",
       "      <td>2</td>\n",
       "      <td>0.983</td>\n",
       "      <td>0.964706</td>\n",
       "      <td>0.854167</td>\n",
       "      <td>0.997430</td>\n",
       "      <td>0.906077</td>\n",
       "    </tr>\n",
       "    <tr>\n",
       "      <td>2</td>\n",
       "      <td>3</td>\n",
       "      <td>0.989</td>\n",
       "      <td>0.977528</td>\n",
       "      <td>0.906250</td>\n",
       "      <td>0.998963</td>\n",
       "      <td>0.940541</td>\n",
       "    </tr>\n",
       "    <tr>\n",
       "      <td>3</td>\n",
       "      <td>4</td>\n",
       "      <td>0.989</td>\n",
       "      <td>0.947368</td>\n",
       "      <td>0.937500</td>\n",
       "      <td>0.998099</td>\n",
       "      <td>0.942408</td>\n",
       "    </tr>\n",
       "    <tr>\n",
       "      <td>4</td>\n",
       "      <td>5</td>\n",
       "      <td>0.989</td>\n",
       "      <td>0.988506</td>\n",
       "      <td>0.895833</td>\n",
       "      <td>0.998848</td>\n",
       "      <td>0.939891</td>\n",
       "    </tr>\n",
       "  </tbody>\n",
       "</table>\n",
       "</div>"
      ],
      "text/plain": [
       "   fold  test_accuracy  test_precision  test_recall  test_roc_auc   test_f1\n",
       "0     1          0.988        1.000000     0.875000      0.995829  0.933333\n",
       "1     2          0.983        0.964706     0.854167      0.997430  0.906077\n",
       "2     3          0.989        0.977528     0.906250      0.998963  0.940541\n",
       "3     4          0.989        0.947368     0.937500      0.998099  0.942408\n",
       "4     5          0.989        0.988506     0.895833      0.998848  0.939891"
      ]
     },
     "execution_count": 81,
     "metadata": {},
     "output_type": "execute_result"
    }
   ],
   "source": [
    "# cv_scores to dateframe\n",
    "model_cv_scores = pd.DataFrame()\n",
    "model_cv_scores['fold'] = np.arange(1, 6)\n",
    "\n",
    "for score in scores:\n",
    "    if 'test_' in score:\n",
    "        model_cv_scores[score] = scores[score]\n",
    "        \n",
    "model_cv_scores"
   ]
  },
  {
   "cell_type": "code",
   "execution_count": 96,
   "metadata": {},
   "outputs": [
    {
     "data": {
      "image/png": "[encoded data removed]",
      "text/plain": [
       "<Figure size 1152x576 with 1 Axes>"
      ]
     },
     "metadata": {
      "needs_background": "light"
     },
     "output_type": "display_data"
    }
   ],
   "source": [
    "# vizualization\n",
    "std_coef = 1.\n",
    "\n",
    "plt.figure(figsize=(16, 8))\n",
    "\n",
    "for column in model_cv_scores:\n",
    "    if column != 'fold':\n",
    "        plt.plot(model_cv_scores['fold'], model_cv_scores[column], label=column)\n",
    "        plt.fill_between(x=model_cv_scores['fold'], \n",
    "                         y1=model_cv_scores[column]+std_coef*model_cv_scores[column].std(),\n",
    "                         y2=model_cv_scores[column]-std_coef*model_cv_scores[column].std(),\n",
    "                         alpha=.2)\n",
    "        \n",
    "        \n",
    "plt.title('CatBoostClassifier CV-5 Evaludation', size=18)\n",
    "plt.xlabel('Fold', size=16)\n",
    "plt.ylabel('Score', size=16)\n",
    "\n",
    "plt.legend(loc='lower right', fontsize=14);"
   ]
  },
  {
   "cell_type": "code",
   "execution_count": null,
   "metadata": {},
   "outputs": [],
   "source": []
  }
 ],
 "metadata": {
  "kernelspec": {
   "display_name": "Python 3",
   "language": "python",
   "name": "python3"
  },
  "language_info": {
   "codemirror_mode": {
    "name": "ipython",
    "version": 3
   },
   "file_extension": ".py",
   "mimetype": "text/x-python",
   "name": "python",
   "nbconvert_exporter": "python",
   "pygments_lexer": "ipython3",
   "version": "3.7.4"
  }
 },
 "nbformat": 4,
 "nbformat_minor": 2
}
