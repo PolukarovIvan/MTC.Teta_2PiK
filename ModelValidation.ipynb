{
 "cells": [
  {
   "cell_type": "markdown",
   "metadata": {},
   "source": [
    "# Машинное обучение: Задание 3\n",
    "\n",
    "### Прогнозирование группы пользователей для осуществления таргетированной рекламы банковского продукта\n",
    "\n",
    "### Описание проекта\n",
    "Задача банка предложить потребительский кредит и при этом максимизировать [показатель конверсии](https://www.unisender.com/ru/support/about/glossary/chto-takoe-cr-conversion-rate/), который равен отношению количества пользователей, принявших кредит, к общему количеству пользователей, которым поступили предложения *(precision)*. Решение этой задачи актуально для банка, потому что это позволит сократить расходы на персональный маркетинг, но при этом достичь максимальной выгоды. Данный проект оптимизирует выбор кандидатов для персонального предложения о предоставлении кредита. В процесс отбора кандидатов можно внерить алгоритм отсева потенциальных кандидатов, готовых взять кредит. \n",
    "\n",
    "### Содержание \n",
    "+ [Использование результатов](#imports)\n",
    "+ [Интерпретация модели](#feature_importance)\n",
    "+ [Валидация и стабильность модели по фолдам](#validation)\n",
    "+ [Оценка поведения модели](#model_behaviour)"
   ]
  },
  {
   "cell_type": "code",
   "execution_count": 84,
   "metadata": {},
   "outputs": [],
   "source": [
    "# imports\n",
    "import pandas as pd\n",
    "import numpy as np\n",
    "\n",
    "import matplotlib.pyplot as plt\n",
    "import seaborn as sns\n",
    "plt.style.use('ggplot')\n",
    "%matplotlib inline\n",
    "import joblib\n",
    "\n",
    "from sklearn.model_selection import train_test_split, GridSearchCV, StratifiedKFold, cross_validate\n",
    "from sklearn.preprocessing import StandardScaler\n",
    "\n",
    "from sklearn.neighbors import KNeighborsClassifier\n",
    "from sklearn.tree import DecisionTreeClassifier\n",
    "from sklearn.linear_model import LogisticRegression\n",
    "from sklearn.ensemble import RandomForestClassifier, GradientBoostingClassifier\n",
    "from catboost import CatBoostClassifier\n",
    "\n",
    "from sklearn.metrics import make_scorer\n",
    "from sklearn.metrics import roc_auc_score, f1_score, accuracy_score, precision_score, recall_score\n",
    "\n",
    "from sklearn.pipeline import Pipeline, TransformerMixin\n",
    "from sklearn.base import BaseEstimator\n",
    "\n",
    "import warnings\n",
    "warnings.filterwarnings('ignore')\n",
    "\n",
    "from tqdm import tqdm\n",
    "\n",
    "from graphviz import Source\n",
    "from sklearn import tree\n",
    "\n",
    "RANDOM_STATE = 12\n",
    "\n",
    "# import custom classes for pipeline\n",
    "from prep import FeatureGemerator, FeatureSelector, evaluate_economic_effect"
   ]
  },
  {
   "cell_type": "markdown",
   "metadata": {},
   "source": [
    "<a id='imports'></a>\n",
    "### Использование результатов\n",
    "В этой секции будет рассмотрено использование готовой модели, пайплайна обработки данных и пайплайна обработки данных, совмещенного с моделью."
   ]
  },
  {
   "cell_type": "markdown",
   "metadata": {},
   "source": [
    "#### Описание данных\n",
    "Описание датасета и EDA можно посмотреть в [предыдущем ноутбуке](Personal_Loan_project.ipynb#description_cell). Загрузим данные и разделим их на признаки ___X___ и целевую переменную ___y___."
   ]
  },
  {
   "cell_type": "code",
   "execution_count": 85,
   "metadata": {},
   "outputs": [
    {
     "data": {
      "text/html": [
       "<div>\n",
       "<style scoped>\n",
       "    .dataframe tbody tr th:only-of-type {\n",
       "        vertical-align: middle;\n",
       "    }\n",
       "\n",
       "    .dataframe tbody tr th {\n",
       "        vertical-align: top;\n",
       "    }\n",
       "\n",
       "    .dataframe thead th {\n",
       "        text-align: right;\n",
       "    }\n",
       "</style>\n",
       "<table border=\"1\" class=\"dataframe\">\n",
       "  <thead>\n",
       "    <tr style=\"text-align: right;\">\n",
       "      <th></th>\n",
       "      <th>ID</th>\n",
       "      <th>Age</th>\n",
       "      <th>Experience</th>\n",
       "      <th>Income</th>\n",
       "      <th>ZIP Code</th>\n",
       "      <th>Family</th>\n",
       "      <th>CCAvg</th>\n",
       "      <th>Education</th>\n",
       "      <th>Mortgage</th>\n",
       "      <th>Personal Loan</th>\n",
       "      <th>Securities Account</th>\n",
       "      <th>CD Account</th>\n",
       "      <th>Online</th>\n",
       "      <th>CreditCard</th>\n",
       "    </tr>\n",
       "  </thead>\n",
       "  <tbody>\n",
       "    <tr>\n",
       "      <td>391</td>\n",
       "      <td>392</td>\n",
       "      <td>58</td>\n",
       "      <td>32</td>\n",
       "      <td>9</td>\n",
       "      <td>94080</td>\n",
       "      <td>3</td>\n",
       "      <td>0.3</td>\n",
       "      <td>3</td>\n",
       "      <td>0</td>\n",
       "      <td>0</td>\n",
       "      <td>0</td>\n",
       "      <td>0</td>\n",
       "      <td>0</td>\n",
       "      <td>1</td>\n",
       "    </tr>\n",
       "    <tr>\n",
       "      <td>3053</td>\n",
       "      <td>3054</td>\n",
       "      <td>28</td>\n",
       "      <td>4</td>\n",
       "      <td>114</td>\n",
       "      <td>92521</td>\n",
       "      <td>2</td>\n",
       "      <td>0.2</td>\n",
       "      <td>1</td>\n",
       "      <td>0</td>\n",
       "      <td>0</td>\n",
       "      <td>0</td>\n",
       "      <td>0</td>\n",
       "      <td>1</td>\n",
       "      <td>0</td>\n",
       "    </tr>\n",
       "    <tr>\n",
       "      <td>4281</td>\n",
       "      <td>4282</td>\n",
       "      <td>28</td>\n",
       "      <td>1</td>\n",
       "      <td>34</td>\n",
       "      <td>94949</td>\n",
       "      <td>4</td>\n",
       "      <td>1.5</td>\n",
       "      <td>2</td>\n",
       "      <td>162</td>\n",
       "      <td>0</td>\n",
       "      <td>0</td>\n",
       "      <td>0</td>\n",
       "      <td>0</td>\n",
       "      <td>1</td>\n",
       "    </tr>\n",
       "    <tr>\n",
       "      <td>206</td>\n",
       "      <td>207</td>\n",
       "      <td>49</td>\n",
       "      <td>25</td>\n",
       "      <td>31</td>\n",
       "      <td>91355</td>\n",
       "      <td>1</td>\n",
       "      <td>1.0</td>\n",
       "      <td>1</td>\n",
       "      <td>0</td>\n",
       "      <td>0</td>\n",
       "      <td>1</td>\n",
       "      <td>0</td>\n",
       "      <td>1</td>\n",
       "      <td>0</td>\n",
       "    </tr>\n",
       "    <tr>\n",
       "      <td>2070</td>\n",
       "      <td>2071</td>\n",
       "      <td>62</td>\n",
       "      <td>37</td>\n",
       "      <td>95</td>\n",
       "      <td>91107</td>\n",
       "      <td>3</td>\n",
       "      <td>0.5</td>\n",
       "      <td>1</td>\n",
       "      <td>0</td>\n",
       "      <td>0</td>\n",
       "      <td>0</td>\n",
       "      <td>0</td>\n",
       "      <td>0</td>\n",
       "      <td>0</td>\n",
       "    </tr>\n",
       "  </tbody>\n",
       "</table>\n",
       "</div>"
      ],
      "text/plain": [
       "        ID  Age  Experience  Income  ZIP Code  Family  CCAvg  Education  \\\n",
       "391    392   58          32       9     94080       3    0.3          3   \n",
       "3053  3054   28           4     114     92521       2    0.2          1   \n",
       "4281  4282   28           1      34     94949       4    1.5          2   \n",
       "206    207   49          25      31     91355       1    1.0          1   \n",
       "2070  2071   62          37      95     91107       3    0.5          1   \n",
       "\n",
       "      Mortgage  Personal Loan  Securities Account  CD Account  Online  \\\n",
       "391          0              0                   0           0       0   \n",
       "3053         0              0                   0           0       1   \n",
       "4281       162              0                   0           0       0   \n",
       "206          0              0                   1           0       1   \n",
       "2070         0              0                   0           0       0   \n",
       "\n",
       "      CreditCard  \n",
       "391            1  \n",
       "3053           0  \n",
       "4281           1  \n",
       "206            0  \n",
       "2070           0  "
      ]
     },
     "execution_count": 85,
     "metadata": {},
     "output_type": "execute_result"
    }
   ],
   "source": [
    "# load_data \n",
    "df = pd.read_csv(\"BPL.csv\")\n",
    "df.sample(5)"
   ]
  },
  {
   "cell_type": "code",
   "execution_count": 86,
   "metadata": {},
   "outputs": [
    {
     "data": {
      "text/html": [
       "<div>\n",
       "<style scoped>\n",
       "    .dataframe tbody tr th:only-of-type {\n",
       "        vertical-align: middle;\n",
       "    }\n",
       "\n",
       "    .dataframe tbody tr th {\n",
       "        vertical-align: top;\n",
       "    }\n",
       "\n",
       "    .dataframe thead th {\n",
       "        text-align: right;\n",
       "    }\n",
       "</style>\n",
       "<table border=\"1\" class=\"dataframe\">\n",
       "  <thead>\n",
       "    <tr style=\"text-align: right;\">\n",
       "      <th></th>\n",
       "      <th>model</th>\n",
       "      <th>accuracy</th>\n",
       "      <th>precision</th>\n",
       "      <th>recall</th>\n",
       "      <th>roc_auc</th>\n",
       "      <th>f1</th>\n",
       "    </tr>\n",
       "  </thead>\n",
       "  <tbody>\n",
       "    <tr>\n",
       "      <td>0</td>\n",
       "      <td>CatBoostClassifier</td>\n",
       "      <td>0.983</td>\n",
       "      <td>0.954023</td>\n",
       "      <td>0.864583</td>\n",
       "      <td>0.930079</td>\n",
       "      <td>0.907104</td>\n",
       "    </tr>\n",
       "    <tr>\n",
       "      <td>1</td>\n",
       "      <td>RandomForestClassifier</td>\n",
       "      <td>0.980</td>\n",
       "      <td>0.952381</td>\n",
       "      <td>0.833333</td>\n",
       "      <td>0.914454</td>\n",
       "      <td>0.888889</td>\n",
       "    </tr>\n",
       "    <tr>\n",
       "      <td>2</td>\n",
       "      <td>DecisionTreeClassifier</td>\n",
       "      <td>0.980</td>\n",
       "      <td>0.941860</td>\n",
       "      <td>0.843750</td>\n",
       "      <td>0.919110</td>\n",
       "      <td>0.890110</td>\n",
       "    </tr>\n",
       "    <tr>\n",
       "      <td>3</td>\n",
       "      <td>GradientBoostingClassifier</td>\n",
       "      <td>0.980</td>\n",
       "      <td>0.941860</td>\n",
       "      <td>0.843750</td>\n",
       "      <td>0.919110</td>\n",
       "      <td>0.890110</td>\n",
       "    </tr>\n",
       "  </tbody>\n",
       "</table>\n",
       "</div>"
      ],
      "text/plain": [
       "                        model  accuracy  precision    recall   roc_auc  \\\n",
       "0          CatBoostClassifier     0.983   0.954023  0.864583  0.930079   \n",
       "1      RandomForestClassifier     0.980   0.952381  0.833333  0.914454   \n",
       "2      DecisionTreeClassifier     0.980   0.941860  0.843750  0.919110   \n",
       "3  GradientBoostingClassifier     0.980   0.941860  0.843750  0.919110   \n",
       "\n",
       "         f1  \n",
       "0  0.907104  \n",
       "1  0.888889  \n",
       "2  0.890110  \n",
       "3  0.890110  "
      ]
     },
     "execution_count": 86,
     "metadata": {},
     "output_type": "execute_result"
    }
   ],
   "source": [
    "# load grid_search results \n",
    "scoring_df = pd.read_csv('scoring_df.csv')\n",
    "scoring_df"
   ]
  },
  {
   "cell_type": "code",
   "execution_count": 87,
   "metadata": {},
   "outputs": [],
   "source": [
    "# train test split\n",
    "target_col = ['Personal Loan']\n",
    "\n",
    "X, y = df.drop(target_col, axis=1), df[target_col]\n",
    "\n",
    "metrics = {'accuracy': accuracy_score,\n",
    "           'precision': precision_score,\n",
    "           'recall': recall_score,\n",
    "           'roc_auc': roc_auc_score, \n",
    "           'f1': f1_score}"
   ]
  },
  {
   "cell_type": "markdown",
   "metadata": {},
   "source": [
    "#### Feature Engeneering Pipeline\n",
    "Для создания новых и удаления неинформативных фичей создан пайплайн ___feature_engeneering_pipeline___. \n",
    "\n",
    "Пример использования:"
   ]
  },
  {
   "cell_type": "code",
   "execution_count": 88,
   "metadata": {},
   "outputs": [
    {
     "data": {
      "text/html": [
       "<div>\n",
       "<style scoped>\n",
       "    .dataframe tbody tr th:only-of-type {\n",
       "        vertical-align: middle;\n",
       "    }\n",
       "\n",
       "    .dataframe tbody tr th {\n",
       "        vertical-align: top;\n",
       "    }\n",
       "\n",
       "    .dataframe thead th {\n",
       "        text-align: right;\n",
       "    }\n",
       "</style>\n",
       "<table border=\"1\" class=\"dataframe\">\n",
       "  <thead>\n",
       "    <tr style=\"text-align: right;\">\n",
       "      <th></th>\n",
       "      <th>Income</th>\n",
       "      <th>Family</th>\n",
       "      <th>CCAvg</th>\n",
       "      <th>Education</th>\n",
       "      <th>Mortgage</th>\n",
       "      <th>Securities Account</th>\n",
       "      <th>CD Account</th>\n",
       "      <th>Online</th>\n",
       "      <th>CreditCard</th>\n",
       "      <th>IsMortgaged</th>\n",
       "      <th>IsFamily</th>\n",
       "      <th>IsEducated</th>\n",
       "      <th>IsMortgaged75</th>\n",
       "      <th>IsIncome75</th>\n",
       "      <th>IsCCAvg75</th>\n",
       "    </tr>\n",
       "  </thead>\n",
       "  <tbody>\n",
       "    <tr>\n",
       "      <td>0</td>\n",
       "      <td>49</td>\n",
       "      <td>4</td>\n",
       "      <td>1.6</td>\n",
       "      <td>1</td>\n",
       "      <td>0</td>\n",
       "      <td>1</td>\n",
       "      <td>0</td>\n",
       "      <td>0</td>\n",
       "      <td>0</td>\n",
       "      <td>0</td>\n",
       "      <td>1</td>\n",
       "      <td>0</td>\n",
       "      <td>0</td>\n",
       "      <td>0</td>\n",
       "      <td>0</td>\n",
       "    </tr>\n",
       "  </tbody>\n",
       "</table>\n",
       "</div>"
      ],
      "text/plain": [
       "   Income  Family  CCAvg  Education  Mortgage  Securities Account  CD Account  \\\n",
       "0      49       4    1.6          1         0                   1           0   \n",
       "\n",
       "   Online  CreditCard  IsMortgaged  IsFamily  IsEducated  IsMortgaged75  \\\n",
       "0       0           0            0         1           0              0   \n",
       "\n",
       "   IsIncome75  IsCCAvg75  \n",
       "0           0          0  "
      ]
     },
     "execution_count": 88,
     "metadata": {},
     "output_type": "execute_result"
    }
   ],
   "source": [
    "# feature_engeneering_pipeline\n",
    "feature_engeneering_pipeline = joblib.load('data_engeneering_pipeline.pkl')\n",
    "feature_engeneering_pipeline.transform(X.head(1))"
   ]
  },
  {
   "cell_type": "markdown",
   "metadata": {},
   "source": [
    "#### Model\n",
    "Валидацию, поиск по сетке и выбор модели можно также посмотреть в [предыдущем ноутбуке](Personal_Loan_project.ipynb#model_cell). Далее будет рассмотрено использование модели для предсказания предобработанных ___feature_engeneering_pipeline___ данных."
   ]
  },
  {
   "cell_type": "code",
   "execution_count": 89,
   "metadata": {},
   "outputs": [
    {
     "data": {
      "text/plain": [
       "<catboost.core.CatBoostClassifier at 0x1dfe2487c48>"
      ]
     },
     "execution_count": 89,
     "metadata": {},
     "output_type": "execute_result"
    }
   ],
   "source": [
    "# load model (cb_classifier)\n",
    "cb_classifier = joblib.load('models\\\\cb_model.pkl')\n",
    "cb_classifier"
   ]
  },
  {
   "cell_type": "code",
   "execution_count": 90,
   "metadata": {},
   "outputs": [
    {
     "name": "stdout",
     "output_type": "stream",
     "text": [
      "[0]\n",
      "[[9.99966897e-01 3.31031296e-05]]\n"
     ]
    }
   ],
   "source": [
    "# making predictions\n",
    "print(cb_classifier.predict(feature_engeneering_pipeline.transform(X.head(1))))\n",
    "\n",
    "# predict proba\n",
    "print(cb_classifier.predict_proba(feature_engeneering_pipeline.transform(X.head(1))))"
   ]
  },
  {
   "cell_type": "markdown",
   "metadata": {},
   "source": [
    "#### Общий пайплайн\n",
    "Для упрощения процесса получения предсказаний сделаем pipeline, объединяющий прерыдущие 2 этапа преобразования и вычисления результата в один."
   ]
  },
  {
   "cell_type": "code",
   "execution_count": 91,
   "metadata": {},
   "outputs": [
    {
     "data": {
      "text/plain": [
       "['models\\\\final_model.pkl']"
      ]
     },
     "execution_count": 91,
     "metadata": {},
     "output_type": "execute_result"
    }
   ],
   "source": [
    "# concat_pipeline\n",
    "model_pipeline = Pipeline([\n",
    "        ('feature_engeneering_pipeline', feature_engeneering_pipeline),\n",
    "        ('cb_classifier', cb_classifier)\n",
    "    ])\n",
    "\n",
    "# saving pipeline\n",
    "joblib.dump(model_pipeline, 'models\\\\final_model.pkl')"
   ]
  },
  {
   "cell_type": "code",
   "execution_count": 92,
   "metadata": {},
   "outputs": [
    {
     "name": "stdout",
     "output_type": "stream",
     "text": [
      "[0]\n",
      "[[9.99966897e-01 3.31031296e-05]]\n"
     ]
    }
   ],
   "source": [
    "# loading pipeline\n",
    "model_pipeline = joblib.load('models\\\\final_model.pkl')\n",
    "\n",
    "# making predictions with pipeilne\n",
    "print(model_pipeline.predict(X.head(1)))\n",
    "\n",
    "# predict proba with pipeline\n",
    "print(model_pipeline.predict_proba(X.head(1)))"
   ]
  },
  {
   "cell_type": "markdown",
   "metadata": {},
   "source": [
    "<a id='feature_importance'></a>\n",
    "### Интерпретация модели\n",
    "С помощью градиентного бустинка (в данном случае, CatBoostClassifier), можно получить ___feature_importance___ для понимания важности признаков модели."
   ]
  },
  {
   "cell_type": "code",
   "execution_count": 93,
   "metadata": {},
   "outputs": [
    {
     "data": {
      "text/html": [
       "<div>\n",
       "<style scoped>\n",
       "    .dataframe tbody tr th:only-of-type {\n",
       "        vertical-align: middle;\n",
       "    }\n",
       "\n",
       "    .dataframe tbody tr th {\n",
       "        vertical-align: top;\n",
       "    }\n",
       "\n",
       "    .dataframe thead th {\n",
       "        text-align: right;\n",
       "    }\n",
       "</style>\n",
       "<table border=\"1\" class=\"dataframe\">\n",
       "  <thead>\n",
       "    <tr style=\"text-align: right;\">\n",
       "      <th></th>\n",
       "      <th>0</th>\n",
       "      <th>1</th>\n",
       "      <th>2</th>\n",
       "      <th>3</th>\n",
       "      <th>4</th>\n",
       "      <th>5</th>\n",
       "      <th>6</th>\n",
       "      <th>7</th>\n",
       "      <th>8</th>\n",
       "      <th>9</th>\n",
       "    </tr>\n",
       "  </thead>\n",
       "  <tbody>\n",
       "    <tr>\n",
       "      <td>Feature Id</td>\n",
       "      <td>Income</td>\n",
       "      <td>Education</td>\n",
       "      <td>Family</td>\n",
       "      <td>CCAvg</td>\n",
       "      <td>IsEducated</td>\n",
       "      <td>Mortgage</td>\n",
       "      <td>CD Account</td>\n",
       "      <td>IsCCAvg75</td>\n",
       "      <td>IsIncome75</td>\n",
       "      <td>Online</td>\n",
       "    </tr>\n",
       "    <tr>\n",
       "      <td>Importances</td>\n",
       "      <td>25.173</td>\n",
       "      <td>17.3299</td>\n",
       "      <td>17.021</td>\n",
       "      <td>16.327</td>\n",
       "      <td>6.98986</td>\n",
       "      <td>3.20094</td>\n",
       "      <td>3.19656</td>\n",
       "      <td>2.72506</td>\n",
       "      <td>2.47061</td>\n",
       "      <td>2.40087</td>\n",
       "    </tr>\n",
       "  </tbody>\n",
       "</table>\n",
       "</div>"
      ],
      "text/plain": [
       "                  0          1       2       3           4         5  \\\n",
       "Feature Id   Income  Education  Family   CCAvg  IsEducated  Mortgage   \n",
       "Importances  25.173    17.3299  17.021  16.327     6.98986   3.20094   \n",
       "\n",
       "                      6          7           8        9  \n",
       "Feature Id   CD Account  IsCCAvg75  IsIncome75   Online  \n",
       "Importances     3.19656    2.72506     2.47061  2.40087  "
      ]
     },
     "execution_count": 93,
     "metadata": {},
     "output_type": "execute_result"
    }
   ],
   "source": [
    "# feature importance\n",
    "feature_importance_df = cb_classifier.get_feature_importance(prettified=True)\n",
    "very_important_features = feature_importance_df['Feature Id'][:4] # for future\n",
    "\n",
    "feature_importance_df.head(10).T"
   ]
  },
  {
   "cell_type": "markdown",
   "metadata": {},
   "source": [
    "Самыми влиятельными признаками являются Income, Education, Family и CCAvg, что является довольно логичным с точки зрения банка. Занесем их в ___very_important_features___."
   ]
  },
  {
   "cell_type": "markdown",
   "metadata": {},
   "source": [
    "<a id='validation'></a>\n",
    "### Валидация и стабильность модели по фолдам\n",
    "Для оценки качества модели мы использовали стратифицированную ___k-Fold___ валидацию на всем датасете с разбиением на 11 фолдов. Это позволит более точно оценить качество стандартное отклонение качества модели на различных данных.\n"
   ]
  },
  {
   "cell_type": "code",
   "execution_count": null,
   "metadata": {},
   "outputs": [],
   "source": [
    "%%time \n",
    "\n",
    "# stratified StratifiedKFold\n",
    "cv = StratifiedKFold(n_splits=11, shuffle=True, random_state=RANDOM_STATE)\n",
    "\n",
    "# scores\n",
    "scoring = list(scoring_df.columns)[1:]\n",
    "# print(f'Scoring columns: {scoring}')\n",
    "\n",
    "scores = cross_validate(model_pipeline, X, y, cv=cv, scoring=scoring, n_jobs=-1)\n",
    "scores.keys()"
   ]
  },
  {
   "cell_type": "code",
   "execution_count": null,
   "metadata": {},
   "outputs": [],
   "source": [
    "# cv_scores to dateframe\n",
    "model_cv_scores = pd.DataFrame()\n",
    "model_cv_scores['fold'] = np.arange(1, 12)\n",
    "\n",
    "for score in scores:\n",
    "    if 'test_' in score:\n",
    "        model_cv_scores[score] = scores[score]\n",
    "        \n",
    "model_cv_scores"
   ]
  },
  {
   "cell_type": "markdown",
   "metadata": {},
   "source": [
    "В предыдущем задании мы [поставили задачу](Personal_Loan_project.ipynb#buisness_and_math_task) решения задачи оптимизации с максимизацией ___f1_score___. Из результатов валидации видно, что некоторые метрики ведут себя не очень стабильно на разных фолдах. Визуализируем это и посчитаем их среднее квадратичное отклонение ___std___ по фолдам."
   ]
  },
  {
   "cell_type": "code",
   "execution_count": null,
   "metadata": {},
   "outputs": [],
   "source": [
    "# vizualization\n",
    "std_coef = 1.\n",
    "\n",
    "plt.figure(figsize=(16, 8))\n",
    "\n",
    "for column in model_cv_scores:\n",
    "    if column != 'fold':\n",
    "        plt.plot(model_cv_scores['fold'], model_cv_scores[column], label=column)\n",
    "        plt.fill_between(x=model_cv_scores['fold'], \n",
    "                         y1=model_cv_scores[column]+std_coef*model_cv_scores[column].std(),\n",
    "                         y2=model_cv_scores[column]-std_coef*model_cv_scores[column].std(),\n",
    "                         alpha=.2)\n",
    "        \n",
    "        \n",
    "plt.title('CatBoostClassifier cv-11 validation results', size=18)\n",
    "plt.xlabel('Fold', size=16)\n",
    "plt.ylabel('Score', size=16)\n",
    "\n",
    "plt.legend(loc='lower right', fontsize=14);"
   ]
  },
  {
   "cell_type": "code",
   "execution_count": null,
   "metadata": {},
   "outputs": [],
   "source": [
    "model_cv_scores.loc[:, 'test_accuracy':].std()"
   ]
  },
  {
   "cell_type": "markdown",
   "metadata": {},
   "source": [
    "<a id='model_behaviour'></a>\n",
    "### Оценка поведения модели\n",
    "#### Дисбаланс классов\n",
    "Оценим качество предсказаний модели при сильном смещении распределения классов. Для этого возьмем два крайних варианта - предсказание всех объектов с целевой переменной 0 и всех объектов с целевой переменной 1."
   ]
  },
  {
   "cell_type": "code",
   "execution_count": null,
   "metadata": {},
   "outputs": [],
   "source": [
    "X_only_true = X[(y == 1).values]\n",
    "X_only_false = X[(y == 0).values]\n",
    "\n",
    "preds_only_true = model_pipeline.predict(X_only_true)\n",
    "preds_only_false = model_pipeline.predict(X_only_false)\n",
    "\n",
    "1 - preds_only_false.mean(), preds_only_true.mean()"
   ]
  },
  {
   "cell_type": "markdown",
   "metadata": {},
   "source": [
    "Модели градиентного бустинга являются довольно устойчивыми к изменению распределения целевой переменной, поэтому наша модель показала высокую точность на предсказании по датасету с единственным классом.\n",
    "\n",
    "#### Уязвимые места модели\n",
    "Для того, чтобы найти уязвимые места модели, посмотрим на данные в которых модель выдает неправильные ответы."
   ]
  },
  {
   "cell_type": "code",
   "execution_count": null,
   "metadata": {},
   "outputs": [],
   "source": [
    "# find out missing values\n",
    "df['preds'] = model_pipeline.predict(X)\n",
    "df['correct'] = df['preds'] == df['Personal Loan']\n",
    "df['correct'].mean()\n",
    "\n",
    "wa = df[df['correct'] == 0] # wrong answers\n",
    "ta = df[df['correct'] == 1] # true answers\n",
    "\n",
    "wa.head(5)"
   ]
  },
  {
   "cell_type": "code",
   "execution_count": null,
   "metadata": {},
   "outputs": [],
   "source": [
    "wa.describe().loc[:, very_important_features]"
   ]
  },
  {
   "cell_type": "code",
   "execution_count": null,
   "metadata": {},
   "outputs": [],
   "source": [
    "ta.describe().loc[: , very_important_features]"
   ]
  },
  {
   "cell_type": "markdown",
   "metadata": {},
   "source": [
    "Из статистик по четырем главным фичам становится понятно, что диапазон ошибок модели довольно узок. Следовательно, можно предположить что модель ошибается на каком-то определенном диапазоне данных. Посмотрим теперь на графическую визуализацию распределения ошибок модели по 4м главным признакам."
   ]
  },
  {
   "cell_type": "code",
   "execution_count": null,
   "metadata": {},
   "outputs": [],
   "source": [
    "_, ax = plt.subplots(2, 2, figsize=(16, 10))\n",
    "\n",
    "# contplots for cat features\n",
    "sns.countplot('Education', data=wa, ax=ax[0, 0])\n",
    "sns.countplot('Family', data=wa, ax=ax[0, 1])\n",
    "\n",
    "# boxplots for num features\n",
    "sns.boxplot(x='Personal Loan', y='Income', data=df, hue='correct', ax=ax[1, 0])\n",
    "sns.boxplot(x='Personal Loan', y='CCAvg', data=df, hue='correct', ax=ax[1, 1]);\n"
   ]
  },
  {
   "cell_type": "markdown",
   "metadata": {},
   "source": [
    "Для визуализации распределения ошибок по категориальным признакам были использованы столбчатые диаграммы. В связи с малым количеством ошибок по всей выборке (24 шт), тяжело судить о равномерности / неравномерности распределения ошибок по классам. Однако, для номенативных признаков становится довольно очевидно, что модель ошибается на области разделения данных. Это может означать, что: \n",
    "* Для безошибочного разделения данных модели не хватает других весомых признаков.\n",
    "* Все ошибки будут сопроваждаться низким уровнем уверенности моели в ответах (model confidence).\n",
    "\n",
    "Из второго пункта было решено показывать в демо-стенде confidence level для возможной ручной разметки данных банковскими сотрудниками в уязвимых местах.  \n",
    "\n",
    "Из написанного выше можно сделать вывод, что модель будет работать лучше всего, и иметь высокую степень уверенности ___model_confidence___ на крайних людях, имеющих либо очень \"хорошие\", либо очень \"плохие\" показатели по всем главным признакам: ___Income___, ___Family___, ___Education___, ___CCAvg___."
   ]
  }
 ],
 "metadata": {
  "kernelspec": {
   "display_name": "Python 3",
   "language": "python",
   "name": "python3"
  },
  "language_info": {
   "codemirror_mode": {
    "name": "ipython",
    "version": 3
   },
   "file_extension": ".py",
   "mimetype": "text/x-python",
   "name": "python",
   "nbconvert_exporter": "python",
   "pygments_lexer": "ipython3",
   "version": "3.7.4"
  }
 },
 "nbformat": 4,
 "nbformat_minor": 2
}
