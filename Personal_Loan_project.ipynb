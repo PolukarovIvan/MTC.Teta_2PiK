{
 "cells": [
  {
   "cell_type": "markdown",
   "metadata": {},
   "source": [
    "## Прогнозирование группы пользователей для осуществления таргетированной рекламы банковского продукта\n",
    "\n",
    "### Описание проекта\n",
    "Задача банка предложить потребительский кредит и при этом максимизировать [показатель конверсии](https://www.unisender.com/ru/support/about/glossary/chto-takoe-cr-conversion-rate/), который равен отношению количества пользователей, принявших кредит, к общему количеству пользователей, которым поступили предложения *(precision)*. Решение этой задачи актуально для банка, потому что это позволит сократить расходы на персональный маркетинг, но при этом достичь максимальной выгоды. Данный проект оптимизирует выбор кандидатов для персонального предложения о предоставлении кредита. В процесс отбора кандидатов можно внерить алгоритм отсева потенциальных кандидатов, готовых взять кредит. \n",
    "### Постановка бизнес и математической задачи\n",
    "Предположительно, нам известно сколько было затрачено времени и средств на проведение прошлогодней кампании. Для измерения бизнес цели мы планируем использовать сравнение затраченных и полученных средств текущей и прошлогодней кампании. Критерий успеха — доход, превышающий доход прошлогодней кампании (или превышение предсказанных показателей дохода, тк может быть тренд увеличения прибыли).\n",
    "\n",
    "С математической точки зрения мы хотим, чтобы как можно больше людей из тех, кого мы выберем приняли наше предложение. Нам требуется построить бинарный классификатор, с вероятностными прогнозами. Для повышения показателя конверсии нам необходимо оптимизировать precision, но так же необходимо охватить больше потенциально согласных пользователей, поэтому мы будем оптимизировать __F1 score__ и следить за __precision__.\n",
    "\n",
    "### Особенности предметной области\n",
    "Для банковской сферы показатели качества часто бывают гораздо менее важными, чем простота самой модели и простота ее интерпретации. Это следует учесть при выборе финальной модели.\n",
    "\n",
    "### Содержание \n",
    "+ [Описание колонок](#description_cell)\n",
    "+ [EDA](#eda_cell)\n",
    "+ [Train/Test split](#split_metrics_cell)\n",
    "+ [Baseline](#baseline_cell)\n",
    "+ [Feature engineering](#feature_cell)\n",
    "+ [Model building](#model_cell)\n",
    "+ [Conclusion](#conclusion_cell)"
   ]
  },
  {
   "cell_type": "code",
   "execution_count": 1,
   "metadata": {
    "execution": {
     "iopub.execute_input": "2021-08-06T00:13:20.901531Z",
     "iopub.status.busy": "2021-08-06T00:13:20.901050Z",
     "iopub.status.idle": "2021-08-06T00:13:20.909027Z",
     "shell.execute_reply": "2021-08-06T00:13:20.908280Z",
     "shell.execute_reply.started": "2021-08-06T00:13:20.901500Z"
    }
   },
   "outputs": [],
   "source": [
    "# imports\n",
    "import pandas as pd\n",
    "import numpy as np\n",
    "\n",
    "import matplotlib.pyplot as plt\n",
    "import seaborn as sns\n",
    "plt.style.use('ggplot')\n",
    "%matplotlib inline\n",
    "\n",
    "import joblib\n",
    "\n",
    "from sklearn.model_selection import train_test_split, GridSearchCV, StratifiedKFold\n",
    "from sklearn.preprocessing import StandardScaler\n",
    "\n",
    "from sklearn.neighbors import KNeighborsClassifier\n",
    "from sklearn.tree import DecisionTreeClassifier\n",
    "from sklearn.linear_model import LogisticRegression\n",
    "from sklearn.ensemble import RandomForestClassifier, GradientBoostingClassifier\n",
    "\n",
    "from sklearn.metrics import make_scorer\n",
    "from sklearn.metrics import roc_auc_score, f1_score, accuracy_score, precision_score, recall_score\n",
    "\n",
    "from sklearn.pipeline import Pipeline, TransformerMixin\n",
    "from sklearn.base import BaseEstimator\n",
    "\n",
    "import warnings\n",
    "warnings.filterwarnings('ignore')\n",
    "\n",
    "from tqdm import tqdm\n",
    "\n",
    "from graphviz import Source\n",
    "from sklearn import tree\n",
    "\n",
    "RANDOM_STATE = 12"
   ]
  },
  {
   "cell_type": "code",
   "execution_count": 2,
   "metadata": {
    "execution": {
     "iopub.execute_input": "2021-08-06T00:10:35.153046Z",
     "iopub.status.busy": "2021-08-06T00:10:35.152715Z",
     "iopub.status.idle": "2021-08-06T00:10:35.183663Z",
     "shell.execute_reply": "2021-08-06T00:10:35.182527Z",
     "shell.execute_reply.started": "2021-08-06T00:10:35.153014Z"
    }
   },
   "outputs": [
    {
     "data": {
      "text/html": [
       "<div>\n",
       "<style scoped>\n",
       "    .dataframe tbody tr th:only-of-type {\n",
       "        vertical-align: middle;\n",
       "    }\n",
       "\n",
       "    .dataframe tbody tr th {\n",
       "        vertical-align: top;\n",
       "    }\n",
       "\n",
       "    .dataframe thead th {\n",
       "        text-align: right;\n",
       "    }\n",
       "</style>\n",
       "<table border=\"1\" class=\"dataframe\">\n",
       "  <thead>\n",
       "    <tr style=\"text-align: right;\">\n",
       "      <th></th>\n",
       "      <th>ID</th>\n",
       "      <th>Age</th>\n",
       "      <th>Experience</th>\n",
       "      <th>Income</th>\n",
       "      <th>ZIP Code</th>\n",
       "      <th>Family</th>\n",
       "      <th>CCAvg</th>\n",
       "      <th>Education</th>\n",
       "      <th>Mortgage</th>\n",
       "      <th>Personal Loan</th>\n",
       "      <th>Securities Account</th>\n",
       "      <th>CD Account</th>\n",
       "      <th>Online</th>\n",
       "      <th>CreditCard</th>\n",
       "    </tr>\n",
       "  </thead>\n",
       "  <tbody>\n",
       "    <tr>\n",
       "      <th>0</th>\n",
       "      <td>1</td>\n",
       "      <td>25</td>\n",
       "      <td>1</td>\n",
       "      <td>49</td>\n",
       "      <td>91107</td>\n",
       "      <td>4</td>\n",
       "      <td>1.6</td>\n",
       "      <td>1</td>\n",
       "      <td>0</td>\n",
       "      <td>0</td>\n",
       "      <td>1</td>\n",
       "      <td>0</td>\n",
       "      <td>0</td>\n",
       "      <td>0</td>\n",
       "    </tr>\n",
       "    <tr>\n",
       "      <th>1</th>\n",
       "      <td>2</td>\n",
       "      <td>45</td>\n",
       "      <td>19</td>\n",
       "      <td>34</td>\n",
       "      <td>90089</td>\n",
       "      <td>3</td>\n",
       "      <td>1.5</td>\n",
       "      <td>1</td>\n",
       "      <td>0</td>\n",
       "      <td>0</td>\n",
       "      <td>1</td>\n",
       "      <td>0</td>\n",
       "      <td>0</td>\n",
       "      <td>0</td>\n",
       "    </tr>\n",
       "    <tr>\n",
       "      <th>2</th>\n",
       "      <td>3</td>\n",
       "      <td>39</td>\n",
       "      <td>15</td>\n",
       "      <td>11</td>\n",
       "      <td>94720</td>\n",
       "      <td>1</td>\n",
       "      <td>1.0</td>\n",
       "      <td>1</td>\n",
       "      <td>0</td>\n",
       "      <td>0</td>\n",
       "      <td>0</td>\n",
       "      <td>0</td>\n",
       "      <td>0</td>\n",
       "      <td>0</td>\n",
       "    </tr>\n",
       "    <tr>\n",
       "      <th>3</th>\n",
       "      <td>4</td>\n",
       "      <td>35</td>\n",
       "      <td>9</td>\n",
       "      <td>100</td>\n",
       "      <td>94112</td>\n",
       "      <td>1</td>\n",
       "      <td>2.7</td>\n",
       "      <td>2</td>\n",
       "      <td>0</td>\n",
       "      <td>0</td>\n",
       "      <td>0</td>\n",
       "      <td>0</td>\n",
       "      <td>0</td>\n",
       "      <td>0</td>\n",
       "    </tr>\n",
       "    <tr>\n",
       "      <th>4</th>\n",
       "      <td>5</td>\n",
       "      <td>35</td>\n",
       "      <td>8</td>\n",
       "      <td>45</td>\n",
       "      <td>91330</td>\n",
       "      <td>4</td>\n",
       "      <td>1.0</td>\n",
       "      <td>2</td>\n",
       "      <td>0</td>\n",
       "      <td>0</td>\n",
       "      <td>0</td>\n",
       "      <td>0</td>\n",
       "      <td>0</td>\n",
       "      <td>1</td>\n",
       "    </tr>\n",
       "  </tbody>\n",
       "</table>\n",
       "</div>"
      ],
      "text/plain": [
       "   ID  Age  Experience  Income  ZIP Code  Family  CCAvg  Education  Mortgage  \\\n",
       "0   1   25           1      49     91107       4    1.6          1         0   \n",
       "1   2   45          19      34     90089       3    1.5          1         0   \n",
       "2   3   39          15      11     94720       1    1.0          1         0   \n",
       "3   4   35           9     100     94112       1    2.7          2         0   \n",
       "4   5   35           8      45     91330       4    1.0          2         0   \n",
       "\n",
       "   Personal Loan  Securities Account  CD Account  Online  CreditCard  \n",
       "0              0                   1           0       0           0  \n",
       "1              0                   1           0       0           0  \n",
       "2              0                   0           0       0           0  \n",
       "3              0                   0           0       0           0  \n",
       "4              0                   0           0       0           1  "
      ]
     },
     "execution_count": 2,
     "metadata": {},
     "output_type": "execute_result"
    }
   ],
   "source": [
    "file_name = \"BPL.csv\"\n",
    "df = pd.read_csv(file_name)\n",
    "df.head(5)"
   ]
  },
  {
   "cell_type": "markdown",
   "metadata": {},
   "source": [
    "<a id='description_cell'></a>"
   ]
  },
  {
   "cell_type": "markdown",
   "metadata": {},
   "source": [
    "## Описание колонок\n",
    "* **ID** : ID пользователя\n",
    "\n",
    "* **Age** : Число полных лет пользователя\n",
    "\n",
    "* **Experience** : Стаж работы\n",
    "\n",
    "* **Income** : Годовой доход в тысячах долларов\n",
    "\n",
    "* **ZIP Code** : Почтовый индекс\n",
    "\n",
    "* **Family** : Размер семьи\n",
    "\n",
    "* **CCAvg** : Средняя трата по кредитной карте за месяц\n",
    "\n",
    "* **Education** : Степень образования.\n",
    "   1. Среднее  \n",
    "   2. Высшее  \n",
    "   3. Доктор наук  \n",
    "   \n",
    "\n",
    "* **Mortgage** : Стоимость ипотеки при наличии. (в тысячах долларов)\n",
    "\n",
    "* **Personal Loan** : Принял ли клиент предожение в прошлогодней кампании\n",
    "\n",
    "* **Securities Account** : Есть ли у клиента счет в банке с ценными бумагами(брокерский счет)\n",
    "\n",
    "* **CD Account** : Есть ли у клиента банковский вклад\n",
    "\n",
    "* **Online** : Пользуется ли клиент услугами интернет - банкинга?\n",
    "\n",
    "* **Credit card** : Использует ли клиент кредитную карту, выпущенную банком"
   ]
  },
  {
   "cell_type": "markdown",
   "metadata": {},
   "source": [
    "<a id='eda_cell'></a>"
   ]
  },
  {
   "cell_type": "markdown",
   "metadata": {},
   "source": [
    "# EDA"
   ]
  },
  {
   "cell_type": "code",
   "execution_count": 3,
   "metadata": {
    "execution": {
     "iopub.execute_input": "2021-08-06T00:10:35.206390Z",
     "iopub.status.busy": "2021-08-06T00:10:35.206027Z",
     "iopub.status.idle": "2021-08-06T00:10:35.229355Z",
     "shell.execute_reply": "2021-08-06T00:10:35.228309Z",
     "shell.execute_reply.started": "2021-08-06T00:10:35.206355Z"
    }
   },
   "outputs": [
    {
     "name": "stdout",
     "output_type": "stream",
     "text": [
      "<class 'pandas.core.frame.DataFrame'>\n",
      "RangeIndex: 5000 entries, 0 to 4999\n",
      "Data columns (total 14 columns):\n",
      " #   Column              Non-Null Count  Dtype  \n",
      "---  ------              --------------  -----  \n",
      " 0   ID                  5000 non-null   int64  \n",
      " 1   Age                 5000 non-null   int64  \n",
      " 2   Experience          5000 non-null   int64  \n",
      " 3   Income              5000 non-null   int64  \n",
      " 4   ZIP Code            5000 non-null   int64  \n",
      " 5   Family              5000 non-null   int64  \n",
      " 6   CCAvg               5000 non-null   float64\n",
      " 7   Education           5000 non-null   int64  \n",
      " 8   Mortgage            5000 non-null   int64  \n",
      " 9   Personal Loan       5000 non-null   int64  \n",
      " 10  Securities Account  5000 non-null   int64  \n",
      " 11  CD Account          5000 non-null   int64  \n",
      " 12  Online              5000 non-null   int64  \n",
      " 13  CreditCard          5000 non-null   int64  \n",
      "dtypes: float64(1), int64(13)\n",
      "memory usage: 547.0 KB\n"
     ]
    }
   ],
   "source": [
    "# there are no missing values\n",
    "df.info()"
   ]
  },
  {
   "cell_type": "markdown",
   "metadata": {},
   "source": [
    "Видим, что все колонки имеют тип данных int64. Так как в датасете присутствует 5000 семплов, пропущенных значений не наблюдается.\n",
    "Некоторые колонки можно интерпретировать одновременно и как категориальные, и как номенативные."
   ]
  },
  {
   "cell_type": "code",
   "execution_count": 4,
   "metadata": {
    "execution": {
     "iopub.execute_input": "2021-08-06T00:10:35.231626Z",
     "iopub.status.busy": "2021-08-06T00:10:35.231041Z",
     "iopub.status.idle": "2021-08-06T00:10:35.240862Z",
     "shell.execute_reply": "2021-08-06T00:10:35.239707Z",
     "shell.execute_reply.started": "2021-08-06T00:10:35.231558Z"
    }
   },
   "outputs": [
    {
     "name": "stdout",
     "output_type": "stream",
     "text": [
      "Numeric Columns: ['Age', 'Experience', 'Income', 'CCAvg', 'Mortgage', 'Family', 'Education', 'ZIP Code']\n",
      "Categorical Columns: ['Family', 'Education', 'CD Account', 'Securities Account', 'Personal Loan', 'Online', 'CreditCard', 'ID']\n",
      "Intersection Columns: ['Education', 'Family']\n"
     ]
    }
   ],
   "source": [
    "# numeric and categorical features\n",
    "num_cols = ['Age', 'Experience', 'Income', 'CCAvg', 'Mortgage', 'Family', 'Education', 'ZIP Code']\n",
    "intersection_cols = ['Education', 'Family']\n",
    "cat_cols = list((set(df.columns) - set(num_cols)).union(set(intersection_cols)))\n",
    "\n",
    "print('Numeric Columns:', num_cols)\n",
    "print('Categorical Columns:', cat_cols)\n",
    "print('Intersection Columns:', intersection_cols)"
   ]
  },
  {
   "cell_type": "code",
   "execution_count": 5,
   "metadata": {
    "execution": {
     "iopub.execute_input": "2021-08-06T00:10:35.242960Z",
     "iopub.status.busy": "2021-08-06T00:10:35.242533Z",
     "iopub.status.idle": "2021-08-06T00:10:35.309678Z",
     "shell.execute_reply": "2021-08-06T00:10:35.308647Z",
     "shell.execute_reply.started": "2021-08-06T00:10:35.242927Z"
    }
   },
   "outputs": [
    {
     "data": {
      "text/html": [
       "<div>\n",
       "<style scoped>\n",
       "    .dataframe tbody tr th:only-of-type {\n",
       "        vertical-align: middle;\n",
       "    }\n",
       "\n",
       "    .dataframe tbody tr th {\n",
       "        vertical-align: top;\n",
       "    }\n",
       "\n",
       "    .dataframe thead th {\n",
       "        text-align: right;\n",
       "    }\n",
       "</style>\n",
       "<table border=\"1\" class=\"dataframe\">\n",
       "  <thead>\n",
       "    <tr style=\"text-align: right;\">\n",
       "      <th></th>\n",
       "      <th>ID</th>\n",
       "      <th>Age</th>\n",
       "      <th>Experience</th>\n",
       "      <th>Income</th>\n",
       "      <th>ZIP Code</th>\n",
       "      <th>Family</th>\n",
       "      <th>CCAvg</th>\n",
       "      <th>Education</th>\n",
       "      <th>Mortgage</th>\n",
       "      <th>Personal Loan</th>\n",
       "      <th>Securities Account</th>\n",
       "      <th>CD Account</th>\n",
       "      <th>Online</th>\n",
       "      <th>CreditCard</th>\n",
       "    </tr>\n",
       "  </thead>\n",
       "  <tbody>\n",
       "    <tr>\n",
       "      <th>count</th>\n",
       "      <td>5000.000000</td>\n",
       "      <td>5000.000000</td>\n",
       "      <td>5000.000000</td>\n",
       "      <td>5000.000000</td>\n",
       "      <td>5000.000000</td>\n",
       "      <td>5000.000000</td>\n",
       "      <td>5000.000000</td>\n",
       "      <td>5000.000000</td>\n",
       "      <td>5000.000000</td>\n",
       "      <td>5000.000000</td>\n",
       "      <td>5000.000000</td>\n",
       "      <td>5000.00000</td>\n",
       "      <td>5000.000000</td>\n",
       "      <td>5000.000000</td>\n",
       "    </tr>\n",
       "    <tr>\n",
       "      <th>mean</th>\n",
       "      <td>2500.500000</td>\n",
       "      <td>45.338400</td>\n",
       "      <td>20.104600</td>\n",
       "      <td>73.774200</td>\n",
       "      <td>93152.503000</td>\n",
       "      <td>2.396400</td>\n",
       "      <td>1.937938</td>\n",
       "      <td>1.881000</td>\n",
       "      <td>56.498800</td>\n",
       "      <td>0.096000</td>\n",
       "      <td>0.104400</td>\n",
       "      <td>0.06040</td>\n",
       "      <td>0.596800</td>\n",
       "      <td>0.294000</td>\n",
       "    </tr>\n",
       "    <tr>\n",
       "      <th>std</th>\n",
       "      <td>1443.520003</td>\n",
       "      <td>11.463166</td>\n",
       "      <td>11.467954</td>\n",
       "      <td>46.033729</td>\n",
       "      <td>2121.852197</td>\n",
       "      <td>1.147663</td>\n",
       "      <td>1.747659</td>\n",
       "      <td>0.839869</td>\n",
       "      <td>101.713802</td>\n",
       "      <td>0.294621</td>\n",
       "      <td>0.305809</td>\n",
       "      <td>0.23825</td>\n",
       "      <td>0.490589</td>\n",
       "      <td>0.455637</td>\n",
       "    </tr>\n",
       "    <tr>\n",
       "      <th>min</th>\n",
       "      <td>1.000000</td>\n",
       "      <td>23.000000</td>\n",
       "      <td>-3.000000</td>\n",
       "      <td>8.000000</td>\n",
       "      <td>9307.000000</td>\n",
       "      <td>1.000000</td>\n",
       "      <td>0.000000</td>\n",
       "      <td>1.000000</td>\n",
       "      <td>0.000000</td>\n",
       "      <td>0.000000</td>\n",
       "      <td>0.000000</td>\n",
       "      <td>0.00000</td>\n",
       "      <td>0.000000</td>\n",
       "      <td>0.000000</td>\n",
       "    </tr>\n",
       "    <tr>\n",
       "      <th>25%</th>\n",
       "      <td>1250.750000</td>\n",
       "      <td>35.000000</td>\n",
       "      <td>10.000000</td>\n",
       "      <td>39.000000</td>\n",
       "      <td>91911.000000</td>\n",
       "      <td>1.000000</td>\n",
       "      <td>0.700000</td>\n",
       "      <td>1.000000</td>\n",
       "      <td>0.000000</td>\n",
       "      <td>0.000000</td>\n",
       "      <td>0.000000</td>\n",
       "      <td>0.00000</td>\n",
       "      <td>0.000000</td>\n",
       "      <td>0.000000</td>\n",
       "    </tr>\n",
       "    <tr>\n",
       "      <th>50%</th>\n",
       "      <td>2500.500000</td>\n",
       "      <td>45.000000</td>\n",
       "      <td>20.000000</td>\n",
       "      <td>64.000000</td>\n",
       "      <td>93437.000000</td>\n",
       "      <td>2.000000</td>\n",
       "      <td>1.500000</td>\n",
       "      <td>2.000000</td>\n",
       "      <td>0.000000</td>\n",
       "      <td>0.000000</td>\n",
       "      <td>0.000000</td>\n",
       "      <td>0.00000</td>\n",
       "      <td>1.000000</td>\n",
       "      <td>0.000000</td>\n",
       "    </tr>\n",
       "    <tr>\n",
       "      <th>75%</th>\n",
       "      <td>3750.250000</td>\n",
       "      <td>55.000000</td>\n",
       "      <td>30.000000</td>\n",
       "      <td>98.000000</td>\n",
       "      <td>94608.000000</td>\n",
       "      <td>3.000000</td>\n",
       "      <td>2.500000</td>\n",
       "      <td>3.000000</td>\n",
       "      <td>101.000000</td>\n",
       "      <td>0.000000</td>\n",
       "      <td>0.000000</td>\n",
       "      <td>0.00000</td>\n",
       "      <td>1.000000</td>\n",
       "      <td>1.000000</td>\n",
       "    </tr>\n",
       "    <tr>\n",
       "      <th>max</th>\n",
       "      <td>5000.000000</td>\n",
       "      <td>67.000000</td>\n",
       "      <td>43.000000</td>\n",
       "      <td>224.000000</td>\n",
       "      <td>96651.000000</td>\n",
       "      <td>4.000000</td>\n",
       "      <td>10.000000</td>\n",
       "      <td>3.000000</td>\n",
       "      <td>635.000000</td>\n",
       "      <td>1.000000</td>\n",
       "      <td>1.000000</td>\n",
       "      <td>1.00000</td>\n",
       "      <td>1.000000</td>\n",
       "      <td>1.000000</td>\n",
       "    </tr>\n",
       "  </tbody>\n",
       "</table>\n",
       "</div>"
      ],
      "text/plain": [
       "                ID          Age   Experience       Income      ZIP Code  \\\n",
       "count  5000.000000  5000.000000  5000.000000  5000.000000   5000.000000   \n",
       "mean   2500.500000    45.338400    20.104600    73.774200  93152.503000   \n",
       "std    1443.520003    11.463166    11.467954    46.033729   2121.852197   \n",
       "min       1.000000    23.000000    -3.000000     8.000000   9307.000000   \n",
       "25%    1250.750000    35.000000    10.000000    39.000000  91911.000000   \n",
       "50%    2500.500000    45.000000    20.000000    64.000000  93437.000000   \n",
       "75%    3750.250000    55.000000    30.000000    98.000000  94608.000000   \n",
       "max    5000.000000    67.000000    43.000000   224.000000  96651.000000   \n",
       "\n",
       "            Family        CCAvg    Education     Mortgage  Personal Loan  \\\n",
       "count  5000.000000  5000.000000  5000.000000  5000.000000    5000.000000   \n",
       "mean      2.396400     1.937938     1.881000    56.498800       0.096000   \n",
       "std       1.147663     1.747659     0.839869   101.713802       0.294621   \n",
       "min       1.000000     0.000000     1.000000     0.000000       0.000000   \n",
       "25%       1.000000     0.700000     1.000000     0.000000       0.000000   \n",
       "50%       2.000000     1.500000     2.000000     0.000000       0.000000   \n",
       "75%       3.000000     2.500000     3.000000   101.000000       0.000000   \n",
       "max       4.000000    10.000000     3.000000   635.000000       1.000000   \n",
       "\n",
       "       Securities Account  CD Account       Online   CreditCard  \n",
       "count         5000.000000  5000.00000  5000.000000  5000.000000  \n",
       "mean             0.104400     0.06040     0.596800     0.294000  \n",
       "std              0.305809     0.23825     0.490589     0.455637  \n",
       "min              0.000000     0.00000     0.000000     0.000000  \n",
       "25%              0.000000     0.00000     0.000000     0.000000  \n",
       "50%              0.000000     0.00000     1.000000     0.000000  \n",
       "75%              0.000000     0.00000     1.000000     1.000000  \n",
       "max              1.000000     1.00000     1.000000     1.000000  "
      ]
     },
     "execution_count": 5,
     "metadata": {},
     "output_type": "execute_result"
    }
   ],
   "source": [
    "df.describe()"
   ]
  },
  {
   "cell_type": "code",
   "execution_count": 6,
   "metadata": {
    "execution": {
     "iopub.execute_input": "2021-08-06T00:10:35.312143Z",
     "iopub.status.busy": "2021-08-06T00:10:35.311785Z",
     "iopub.status.idle": "2021-08-06T00:10:35.360762Z",
     "shell.execute_reply": "2021-08-06T00:10:35.359722Z",
     "shell.execute_reply.started": "2021-08-06T00:10:35.312110Z"
    }
   },
   "outputs": [
    {
     "data": {
      "text/plain": [
       "ID                       1.0\n",
       "Age                     23.0\n",
       "Experience              -3.0\n",
       "Income                   8.0\n",
       "ZIP Code              9307.0\n",
       "Family                   1.0\n",
       "CCAvg                    0.0\n",
       "Education                1.0\n",
       "Mortgage                 0.0\n",
       "Personal Loan            0.0\n",
       "Securities Account       0.0\n",
       "CD Account               0.0\n",
       "Online                   0.0\n",
       "CreditCard               0.0\n",
       "Name: min, dtype: float64"
      ]
     },
     "execution_count": 6,
     "metadata": {},
     "output_type": "execute_result"
    }
   ],
   "source": [
    "df.describe().loc['min']"
   ]
  },
  {
   "cell_type": "code",
   "execution_count": 7,
   "metadata": {},
   "outputs": [
    {
     "name": "stdout",
     "output_type": "stream",
     "text": [
      "(52, 14)\n"
     ]
    },
    {
     "data": {
      "text/html": [
       "<div>\n",
       "<style scoped>\n",
       "    .dataframe tbody tr th:only-of-type {\n",
       "        vertical-align: middle;\n",
       "    }\n",
       "\n",
       "    .dataframe tbody tr th {\n",
       "        vertical-align: top;\n",
       "    }\n",
       "\n",
       "    .dataframe thead th {\n",
       "        text-align: right;\n",
       "    }\n",
       "</style>\n",
       "<table border=\"1\" class=\"dataframe\">\n",
       "  <thead>\n",
       "    <tr style=\"text-align: right;\">\n",
       "      <th></th>\n",
       "      <th>ID</th>\n",
       "      <th>Age</th>\n",
       "      <th>Experience</th>\n",
       "      <th>Income</th>\n",
       "      <th>ZIP Code</th>\n",
       "      <th>Family</th>\n",
       "      <th>CCAvg</th>\n",
       "      <th>Education</th>\n",
       "      <th>Mortgage</th>\n",
       "      <th>Personal Loan</th>\n",
       "      <th>Securities Account</th>\n",
       "      <th>CD Account</th>\n",
       "      <th>Online</th>\n",
       "      <th>CreditCard</th>\n",
       "    </tr>\n",
       "  </thead>\n",
       "  <tbody>\n",
       "    <tr>\n",
       "      <th>4285</th>\n",
       "      <td>4286</td>\n",
       "      <td>23</td>\n",
       "      <td>-3</td>\n",
       "      <td>149</td>\n",
       "      <td>93555</td>\n",
       "      <td>2</td>\n",
       "      <td>7.20</td>\n",
       "      <td>1</td>\n",
       "      <td>0</td>\n",
       "      <td>0</td>\n",
       "      <td>0</td>\n",
       "      <td>0</td>\n",
       "      <td>1</td>\n",
       "      <td>0</td>\n",
       "    </tr>\n",
       "    <tr>\n",
       "      <th>1173</th>\n",
       "      <td>1174</td>\n",
       "      <td>24</td>\n",
       "      <td>-1</td>\n",
       "      <td>35</td>\n",
       "      <td>94305</td>\n",
       "      <td>2</td>\n",
       "      <td>1.70</td>\n",
       "      <td>2</td>\n",
       "      <td>0</td>\n",
       "      <td>0</td>\n",
       "      <td>0</td>\n",
       "      <td>0</td>\n",
       "      <td>0</td>\n",
       "      <td>0</td>\n",
       "    </tr>\n",
       "    <tr>\n",
       "      <th>3796</th>\n",
       "      <td>3797</td>\n",
       "      <td>24</td>\n",
       "      <td>-2</td>\n",
       "      <td>50</td>\n",
       "      <td>94920</td>\n",
       "      <td>3</td>\n",
       "      <td>2.40</td>\n",
       "      <td>2</td>\n",
       "      <td>0</td>\n",
       "      <td>0</td>\n",
       "      <td>1</td>\n",
       "      <td>0</td>\n",
       "      <td>0</td>\n",
       "      <td>0</td>\n",
       "    </tr>\n",
       "    <tr>\n",
       "      <th>451</th>\n",
       "      <td>452</td>\n",
       "      <td>28</td>\n",
       "      <td>-2</td>\n",
       "      <td>48</td>\n",
       "      <td>94132</td>\n",
       "      <td>2</td>\n",
       "      <td>1.75</td>\n",
       "      <td>3</td>\n",
       "      <td>89</td>\n",
       "      <td>0</td>\n",
       "      <td>0</td>\n",
       "      <td>0</td>\n",
       "      <td>1</td>\n",
       "      <td>0</td>\n",
       "    </tr>\n",
       "    <tr>\n",
       "      <th>4514</th>\n",
       "      <td>4515</td>\n",
       "      <td>24</td>\n",
       "      <td>-3</td>\n",
       "      <td>41</td>\n",
       "      <td>91768</td>\n",
       "      <td>4</td>\n",
       "      <td>1.00</td>\n",
       "      <td>3</td>\n",
       "      <td>0</td>\n",
       "      <td>0</td>\n",
       "      <td>0</td>\n",
       "      <td>0</td>\n",
       "      <td>1</td>\n",
       "      <td>0</td>\n",
       "    </tr>\n",
       "    <tr>\n",
       "      <th>576</th>\n",
       "      <td>577</td>\n",
       "      <td>25</td>\n",
       "      <td>-1</td>\n",
       "      <td>48</td>\n",
       "      <td>92870</td>\n",
       "      <td>3</td>\n",
       "      <td>0.30</td>\n",
       "      <td>3</td>\n",
       "      <td>0</td>\n",
       "      <td>0</td>\n",
       "      <td>0</td>\n",
       "      <td>0</td>\n",
       "      <td>0</td>\n",
       "      <td>1</td>\n",
       "    </tr>\n",
       "    <tr>\n",
       "      <th>4957</th>\n",
       "      <td>4958</td>\n",
       "      <td>29</td>\n",
       "      <td>-1</td>\n",
       "      <td>50</td>\n",
       "      <td>95842</td>\n",
       "      <td>2</td>\n",
       "      <td>1.75</td>\n",
       "      <td>3</td>\n",
       "      <td>0</td>\n",
       "      <td>0</td>\n",
       "      <td>0</td>\n",
       "      <td>0</td>\n",
       "      <td>0</td>\n",
       "      <td>1</td>\n",
       "    </tr>\n",
       "    <tr>\n",
       "      <th>4015</th>\n",
       "      <td>4016</td>\n",
       "      <td>25</td>\n",
       "      <td>-1</td>\n",
       "      <td>139</td>\n",
       "      <td>93106</td>\n",
       "      <td>2</td>\n",
       "      <td>2.00</td>\n",
       "      <td>1</td>\n",
       "      <td>0</td>\n",
       "      <td>0</td>\n",
       "      <td>0</td>\n",
       "      <td>0</td>\n",
       "      <td>0</td>\n",
       "      <td>1</td>\n",
       "    </tr>\n",
       "    <tr>\n",
       "      <th>2430</th>\n",
       "      <td>2431</td>\n",
       "      <td>23</td>\n",
       "      <td>-1</td>\n",
       "      <td>73</td>\n",
       "      <td>92120</td>\n",
       "      <td>4</td>\n",
       "      <td>2.60</td>\n",
       "      <td>1</td>\n",
       "      <td>0</td>\n",
       "      <td>0</td>\n",
       "      <td>0</td>\n",
       "      <td>0</td>\n",
       "      <td>1</td>\n",
       "      <td>0</td>\n",
       "    </tr>\n",
       "    <tr>\n",
       "      <th>4088</th>\n",
       "      <td>4089</td>\n",
       "      <td>29</td>\n",
       "      <td>-1</td>\n",
       "      <td>71</td>\n",
       "      <td>94801</td>\n",
       "      <td>2</td>\n",
       "      <td>1.75</td>\n",
       "      <td>3</td>\n",
       "      <td>0</td>\n",
       "      <td>0</td>\n",
       "      <td>0</td>\n",
       "      <td>0</td>\n",
       "      <td>0</td>\n",
       "      <td>0</td>\n",
       "    </tr>\n",
       "  </tbody>\n",
       "</table>\n",
       "</div>"
      ],
      "text/plain": [
       "        ID  Age  Experience  Income  ZIP Code  Family  CCAvg  Education  \\\n",
       "4285  4286   23          -3     149     93555       2   7.20          1   \n",
       "1173  1174   24          -1      35     94305       2   1.70          2   \n",
       "3796  3797   24          -2      50     94920       3   2.40          2   \n",
       "451    452   28          -2      48     94132       2   1.75          3   \n",
       "4514  4515   24          -3      41     91768       4   1.00          3   \n",
       "576    577   25          -1      48     92870       3   0.30          3   \n",
       "4957  4958   29          -1      50     95842       2   1.75          3   \n",
       "4015  4016   25          -1     139     93106       2   2.00          1   \n",
       "2430  2431   23          -1      73     92120       4   2.60          1   \n",
       "4088  4089   29          -1      71     94801       2   1.75          3   \n",
       "\n",
       "      Mortgage  Personal Loan  Securities Account  CD Account  Online  \\\n",
       "4285         0              0                   0           0       1   \n",
       "1173         0              0                   0           0       0   \n",
       "3796         0              0                   1           0       0   \n",
       "451         89              0                   0           0       1   \n",
       "4514         0              0                   0           0       1   \n",
       "576          0              0                   0           0       0   \n",
       "4957         0              0                   0           0       0   \n",
       "4015         0              0                   0           0       0   \n",
       "2430         0              0                   0           0       1   \n",
       "4088         0              0                   0           0       0   \n",
       "\n",
       "      CreditCard  \n",
       "4285           0  \n",
       "1173           0  \n",
       "3796           0  \n",
       "451            0  \n",
       "4514           0  \n",
       "576            1  \n",
       "4957           1  \n",
       "4015           1  \n",
       "2430           0  \n",
       "4088           0  "
      ]
     },
     "execution_count": 7,
     "metadata": {},
     "output_type": "execute_result"
    }
   ],
   "source": [
    "print(df[df['Experience'] < 0].shape)\n",
    "df[df['Experience'] < 0].sample(10)"
   ]
  },
  {
   "cell_type": "markdown",
   "metadata": {},
   "source": [
    "В колонке Experience мы можем наблюдать отрицательные значения. Это могут быть различные категории/причины отсутствия опыта работы у людей. Данный момент следует уточнить у заказчика, либо внедрить какие-то изменения в колонку Experience."
   ]
  },
  {
   "cell_type": "code",
   "execution_count": 8,
   "metadata": {},
   "outputs": [
    {
     "data": {
      "image/png": "[encoded data removed]",
      "text/plain": [
       "<Figure size 432x288 with 1 Axes>"
      ]
     },
     "metadata": {
      "needs_background": "light"
     },
     "output_type": "display_data"
    }
   ],
   "source": [
    "sns.distplot(df['Age'])\n",
    "plt.show()"
   ]
  },
  {
   "cell_type": "code",
   "execution_count": 9,
   "metadata": {},
   "outputs": [
    {
     "data": {
      "text/plain": [
       "0    4520\n",
       "1     480\n",
       "Name: Personal Loan, dtype: int64"
      ]
     },
     "execution_count": 9,
     "metadata": {},
     "output_type": "execute_result"
    }
   ],
   "source": [
    "df['Personal Loan'].value_counts()"
   ]
  },
  {
   "cell_type": "markdown",
   "metadata": {},
   "source": [
    "Мы имеем дело с бинарной классификацией по сильно несбалансированной выборке(9:1)  \n",
    "Рассмотрим корреляцию признаков"
   ]
  },
  {
   "cell_type": "code",
   "execution_count": 10,
   "metadata": {},
   "outputs": [
    {
     "data": {
      "image/png": "[encoded data removed]",
      "text/plain": [
       "<Figure size 1440x576 with 2 Axes>"
      ]
     },
     "metadata": {
      "needs_background": "light"
     },
     "output_type": "display_data"
    }
   ],
   "source": [
    "plt.figure(figsize=(20,8))\n",
    "sns.heatmap(abs(df.corr()), annot=True, fmt='.2g',cmap='YlGnBu')\n",
    "plt.show()"
   ]
  },
  {
   "cell_type": "markdown",
   "metadata": {},
   "source": [
    "Видно, что признаки **Experience** и **Age** коррелируют, следовательно, мы можем оставить в данных какой-нибудь один из них"
   ]
  },
  {
   "cell_type": "code",
   "execution_count": 11,
   "metadata": {
    "execution": {
     "iopub.execute_input": "2021-08-06T00:10:35.585662Z",
     "iopub.status.busy": "2021-08-06T00:10:35.585166Z",
     "iopub.status.idle": "2021-08-06T00:10:35.594513Z",
     "shell.execute_reply": "2021-08-06T00:10:35.593316Z",
     "shell.execute_reply.started": "2021-08-06T00:10:35.585552Z"
    }
   },
   "outputs": [
    {
     "data": {
      "image/png": "[encoded data removed]",
      "text/plain": [
       "<Figure size 1152x1440 with 8 Axes>"
      ]
     },
     "metadata": {
      "needs_background": "light"
     },
     "output_type": "display_data"
    }
   ],
   "source": [
    "# feature importance\n",
    "fig, ax = plt.subplots(4, 2, figsize=(16, 20))\n",
    "\n",
    "for current_column, axis in zip(num_cols, ax.flatten()):\n",
    "    sns.boxplot(x='Personal Loan', y=current_column, data=df, ax=axis)\n",
    "    axis.axhline(df.describe().loc['75%', current_column], ls='--', c='red')"
   ]
  },
  {
   "cell_type": "markdown",
   "metadata": {},
   "source": [
    "Из графиков видно, что:\n",
    "* **Age** и **Experience** помимо того, что сильно коррелируют друг с другом, плохо предсказывают целевую переменную\n",
    "* **Mortgage** имеет много нулевых значений, следовательно имеет смысл сделать отдельно категориальную колонку, отвечающую за наличие у человека иппотеки\n",
    "* Аналогично предыдущему пункту, имеет смысл добавить к **Family** категориальную составляющую, так как наличие членов семьи сильно влияет на целевую переменную\n",
    "* **Income** и **CCAvg** являются самымим информативными для предсказания таргета"
   ]
  },
  {
   "cell_type": "markdown",
   "metadata": {},
   "source": [
    "<a id='split_metrics_cell'></a>"
   ]
  },
  {
   "cell_type": "markdown",
   "metadata": {},
   "source": [
    "# Train/test split + metrics"
   ]
  },
  {
   "cell_type": "code",
   "execution_count": 12,
   "metadata": {},
   "outputs": [],
   "source": [
    "target_col = ['Personal Loan']\n",
    "\n",
    "X, y = df.drop(target_col, axis=1), df[target_col]\n",
    "X_train_raw, X_test_raw, y_train, y_test = train_test_split(X, y, test_size=0.2,\n",
    "                                                            random_state=RANDOM_STATE)\n",
    "metrics = {'accuracy': accuracy_score,\n",
    "           'precision': precision_score,\n",
    "           'recall': recall_score,\n",
    "           'roc_auc': roc_auc_score, \n",
    "           'f1': f1_score}"
   ]
  },
  {
   "cell_type": "markdown",
   "metadata": {},
   "source": [
    "<a id='baseline_cell'></a>"
   ]
  },
  {
   "cell_type": "markdown",
   "metadata": {},
   "source": [
    "# Baseline"
   ]
  },
  {
   "cell_type": "markdown",
   "metadata": {},
   "source": [
    "Из графиков видно, что параметр дохода явлеется самым информативнм для нас. Сейчас, для выбора пользователей, которые получат персональные предложения, банк искользовал разделение по уровню дохода. Данная модель является имеет слабую конверсию, однако является очень простой в интерпретации для конечного пользователя, что очень важно в банковской сфере. \n",
    "Будем отталкиваться от разбиения по параметру Income."
   ]
  },
  {
   "cell_type": "code",
   "execution_count": 13,
   "metadata": {},
   "outputs": [
    {
     "data": {
      "text/plain": [
       "Personal Loan\n",
       "0     66.237389\n",
       "1    144.745833\n",
       "Name: Income, dtype: float64"
      ]
     },
     "execution_count": 13,
     "metadata": {},
     "output_type": "execute_result"
    }
   ],
   "source": [
    "means = df.groupby('Personal Loan')['Income'].mean()\n",
    "means"
   ]
  },
  {
   "cell_type": "code",
   "execution_count": 14,
   "metadata": {},
   "outputs": [
    {
     "name": "stdout",
     "output_type": "stream",
     "text": [
      "Baseline results\n",
      "accuracy: 0.84\n",
      "precision: 0.3495575221238938\n",
      "recall: 0.8586956521739131\n",
      "roc_auc: 0.84840068952308\n",
      "f1: 0.49685534591194963\n"
     ]
    }
   ],
   "source": [
    "threshold = means.mean()\n",
    "def baseline_predict(df):\n",
    "    return df['Income']>threshold\n",
    "print('Baseline results')\n",
    "bpred=baseline_predict(X_test_raw)\n",
    "for score_name, score in metrics.items():\n",
    "        print(score_name+': '+str(score(y_test,bpred)))"
   ]
  },
  {
   "cell_type": "markdown",
   "metadata": {},
   "source": [
    "<a id='feature_cell'></a>"
   ]
  },
  {
   "cell_type": "markdown",
   "metadata": {},
   "source": [
    "# Feature engineering"
   ]
  },
  {
   "cell_type": "code",
   "execution_count": 15,
   "metadata": {},
   "outputs": [],
   "source": [
    "train_columns = []\n",
    "\n",
    "class FeatureSelector(TransformerMixin, BaseEstimator):\n",
    "    '''\n",
    "    Custom Transforemr.\n",
    "    Drops columns: ID, ZIP Code,'Age, Experience.\n",
    "    '''\n",
    "\n",
    "    def __init__(self):\n",
    "        pass\n",
    "\n",
    "    def fit(self, X, y=None):\n",
    "        return self\n",
    "\n",
    "    def transform(self, X):\n",
    "        # transform X via code or additional methods\n",
    "        \n",
    "        # опустим коды сотрудников (ID, ZIP Code),\n",
    "        # а также признаки Age и Experience, в связи с их неинформативностью\n",
    "        X = X.drop([\"ID\", \"ZIP Code\", 'Age', 'Experience'], axis=1) \n",
    "        \n",
    "        global train_columns\n",
    "        train_columns = X.columns\n",
    "\n",
    "        return X\n",
    "    \n",
    "    \n",
    "class FeatureGemerator(TransformerMixin, BaseEstimator):\n",
    "    '''\n",
    "    Custom Transforemr.\n",
    "    Creates several categorical columns\n",
    "    '''\n",
    "    def __init__(self):\n",
    "        pass\n",
    "\n",
    "    def fit(self, X, y=None):\n",
    "        return self\n",
    "\n",
    "    def transform(self, X):\n",
    "        # transform X via code or additional methods\n",
    "        \n",
    "        # is sth features\n",
    "        X['IsMortgaged'] = X['Mortgage'] > 0\n",
    "        X['IsFamily'] = X['Family'] > 1\n",
    "        X['IsEducated'] = X['Education'] > 1\n",
    "\n",
    "        # Is > than 75 qq\n",
    "        X['IsMortgaged75'] = (X['Mortgage'] > X.describe().loc['75%', 'Mortgage']) & X['IsMortgaged']\n",
    "        X['IsIncome75'] = X['Income'] > X.describe().loc['75%', 'Income']\n",
    "        X['IsCCAvg75'] = X['CCAvg'] > X.describe().loc['75%', 'CCAvg']\n",
    "        \n",
    "        return X\n",
    "    \n",
    "def add_layer_to_pipeline(pipeline, layer,\n",
    "                             pipeline_name='pipe', layer_name='model'):\n",
    "    new_pipeline = Pipeline([\n",
    "        (pipeline_name, pipeline),\n",
    "        (layer_name, layer)\n",
    "    ])\n",
    "    \n",
    "    return new_pipeline"
   ]
  },
  {
   "cell_type": "code",
   "execution_count": 16,
   "metadata": {},
   "outputs": [
    {
     "data": {
      "text/plain": [
       "['data_engeneering_pipeline.pkl']"
      ]
     },
     "execution_count": 16,
     "metadata": {},
     "output_type": "execute_result"
    }
   ],
   "source": [
    "# creating a pipeline to preprocess data in future\n",
    "data_engeneering_pipeline = Pipeline([\n",
    "    ('feature_generator', FeatureGemerator()),\n",
    "    ('feature_selector', FeatureSelector()),\n",
    "    ('scaler', StandardScaler())\n",
    "])\n",
    "\n",
    "# savling pipeline\n",
    "joblib.dump(data_engeneering_pipeline, 'data_engeneering_pipeline.pkl')"
   ]
  },
  {
   "cell_type": "markdown",
   "metadata": {},
   "source": [
    "<a id='model_cell'></a>"
   ]
  },
  {
   "cell_type": "markdown",
   "metadata": {},
   "source": [
    "## Построение модели"
   ]
  },
  {
   "cell_type": "markdown",
   "metadata": {},
   "source": [
    "В связи с особенностями предметной области, выбор финальной модели будет стоять из просто-интерпретируемых моделей, таких как Деревья решений и Линейные модели. Также необходимо оценить насколько данные модели будут уступать наиболее популярным аналогам для решения задач с табличными данными. "
   ]
  },
  {
   "cell_type": "code",
   "execution_count": 17,
   "metadata": {},
   "outputs": [],
   "source": [
    "# results of preprocessing\n",
    "X_train = data_engeneering_pipeline.fit_transform(X_train_raw)\n",
    "X_test = data_engeneering_pipeline.fit_transform(X_test_raw)"
   ]
  },
  {
   "cell_type": "code",
   "execution_count": 18,
   "metadata": {},
   "outputs": [],
   "source": [
    "# initializing models, their params and metrics\n",
    "models = {'RandomForestClassifier': RandomForestClassifier(),\n",
    "          'LogisticRegression': LogisticRegression(),\n",
    "          'DecisionTreeClassifier': DecisionTreeClassifier(),\n",
    "          'KNeighborsClassifier': KNeighborsClassifier(),\n",
    "          'GradientBoostingClassifier': GradientBoostingClassifier()\n",
    "         }\n",
    "\n",
    "params = {'LogisticRegression': {'C': np.linspace(0.01,2,15),\n",
    "                                 'penalty': ['l1','l2', 'elasticnet', 'none'], \n",
    "                                 'random_state': [RANDOM_STATE]},\n",
    "          'RandomForestClassifier': {'max_features': [1,3,10],\n",
    "                                      'min_samples_split': [2,3,10],\n",
    "                                      'min_samples_leaf': [1,3,10],\n",
    "                                      'bootstrap': [False, True],\n",
    "                                      'n_estimators': [50, 100, 200, 300],\n",
    "                                      'n_jobs': [-1], \n",
    "                                      'random_state': [RANDOM_STATE]},\n",
    "          'DecisionTreeClassifier': {'splitter': ['best', 'random'],\n",
    "                                     'max_depth': ['none'] + [i for i in range(3, 9)], \n",
    "                                     'random_state': [RANDOM_STATE]},\n",
    "          'KNeighborsClassifier':  {'n_neighbors': np.arange(1,50),\n",
    "                                    'weights': ['uniform', 'distance']},\n",
    "          'GradientBoostingClassifier': {'learning_rate': [0.001,0.01,0.1,0.05],\n",
    "                                         'n_estimators': [100,500,1000],\n",
    "                                         'max_depth': [3,5,10],\n",
    "                                         'min_samples_split': [2,5,10], \n",
    "                                         'random_state': [RANDOM_STATE]}\n",
    "}\n"
   ]
  },
  {
   "cell_type": "code",
   "execution_count": 19,
   "metadata": {},
   "outputs": [],
   "source": [
    "def train_grdsearch_and_evaluate(X_train, y_train, X_test, y_test, \n",
    "                                 models=models, params=params, metrics=metrics, \n",
    "                                 n_jobs=-1, verbose=1, scoring='roc_auc', n_splits=5):\n",
    "    '''\n",
    "    Returns a matrix (pd.DataFrame) of scores, dict of best_models \\\n",
    "    and dict of their best validation_scores(roc_auc)  \n",
    "    '''\n",
    "    \n",
    "    best_scores={}\n",
    "    best_estimators={}\n",
    "    \n",
    "    df_models = []\n",
    "    df_training_scores = []\n",
    "    df_scores = {metric_name:[] for metric_name, _ in metrics.items()}\n",
    "    \n",
    "    df = pd.DataFrame(columns=['model']) \n",
    "    for model_name, model in models.items():\n",
    "        search = GridSearchCV(model, param_grid=params[model_name], \n",
    "                              cv=StratifiedKFold(n_splits=n_splits), scoring=scoring,\n",
    "                              n_jobs=n_jobs, verbose=verbose).fit(X_train, y_train)\n",
    "        \n",
    "        best_scores[model_name] = search.best_score_\n",
    "        best_estimators[model_name] = search.best_estimator_       \n",
    "        print(f'Model: {model_name},\\nBest score: \\\n",
    "        {best_scores[model_name]}\\nBest params: {best_estimators[model_name]}')            \n",
    "        \n",
    "        df_models.append(model_name)\n",
    "        for score_name, score in metrics.items():\n",
    "            # f1 and accuracy don't work with probas\n",
    "            # Also RFClassifier don't have predict_proba\n",
    "            try:\n",
    "                preds = search.predict_proba(X_test)\n",
    "                df_scores[score_name].append(score(y_test, preds))\n",
    "            except Exception as e:\n",
    "                preds = search.predict(X_test)\n",
    "                df_scores[score_name].append(score(y_test, preds))\n",
    "    df['model'] = df_models   \n",
    "    for score_name, _ in df_scores.items():\n",
    "        df[score_name] = df_scores[score_name]    \n",
    "    return df, best_estimators, best_scores"
   ]
  },
  {
   "cell_type": "code",
   "execution_count": 20,
   "metadata": {
    "scrolled": false
   },
   "outputs": [
    {
     "name": "stdout",
     "output_type": "stream",
     "text": [
      "Fitting 5 folds for each of 216 candidates, totalling 1080 fits\n",
      "Model: RandomForestClassifier,\n",
      "Best score:         0.9366294943636164\n",
      "Best params: RandomForestClassifier(bootstrap=False, max_features=10, min_samples_split=10,\n",
      "                       n_jobs=-1, random_state=12)\n",
      "Fitting 5 folds for each of 60 candidates, totalling 300 fits\n",
      "Model: LogisticRegression,\n",
      "Best score:         0.8069383602231008\n",
      "Best params: LogisticRegression(C=0.2942857142857143, random_state=12)\n",
      "Fitting 5 folds for each of 14 candidates, totalling 70 fits\n",
      "Model: DecisionTreeClassifier,\n",
      "Best score:         0.9464271780602134\n",
      "Best params: DecisionTreeClassifier(max_depth=5, random_state=12)\n",
      "Fitting 5 folds for each of 98 candidates, totalling 490 fits\n",
      "Model: KNeighborsClassifier,\n",
      "Best score:         0.8410160146560713\n",
      "Best params: KNeighborsClassifier(n_neighbors=3, weights='distance')\n",
      "Fitting 5 folds for each of 108 candidates, totalling 540 fits\n",
      "Model: GradientBoostingClassifier,\n",
      "Best score:         0.9401669860184428\n",
      "Best params: GradientBoostingClassifier(max_depth=5, n_estimators=500, random_state=12)\n",
      "Wall time: 5min 36s\n"
     ]
    }
   ],
   "source": [
    "%%time\n",
    "scoring_df, best_params, best_scores = train_grdsearch_and_evaluate(X_train, y_train, X_test, y_test, scoring='f1')"
   ]
  },
  {
   "cell_type": "code",
   "execution_count": 21,
   "metadata": {},
   "outputs": [
    {
     "data": {
      "text/html": [
       "<div>\n",
       "<style scoped>\n",
       "    .dataframe tbody tr th:only-of-type {\n",
       "        vertical-align: middle;\n",
       "    }\n",
       "\n",
       "    .dataframe tbody tr th {\n",
       "        vertical-align: top;\n",
       "    }\n",
       "\n",
       "    .dataframe thead th {\n",
       "        text-align: right;\n",
       "    }\n",
       "</style>\n",
       "<table border=\"1\" class=\"dataframe\">\n",
       "  <thead>\n",
       "    <tr style=\"text-align: right;\">\n",
       "      <th></th>\n",
       "      <th>model</th>\n",
       "      <th>accuracy</th>\n",
       "      <th>precision</th>\n",
       "      <th>recall</th>\n",
       "      <th>roc_auc</th>\n",
       "      <th>f1</th>\n",
       "    </tr>\n",
       "  </thead>\n",
       "  <tbody>\n",
       "    <tr>\n",
       "      <th>0</th>\n",
       "      <td>RandomForestClassifier</td>\n",
       "      <td>0.981</td>\n",
       "      <td>0.929412</td>\n",
       "      <td>0.858696</td>\n",
       "      <td>0.926044</td>\n",
       "      <td>0.892655</td>\n",
       "    </tr>\n",
       "    <tr>\n",
       "      <th>1</th>\n",
       "      <td>LogisticRegression</td>\n",
       "      <td>0.958</td>\n",
       "      <td>0.812500</td>\n",
       "      <td>0.706522</td>\n",
       "      <td>0.845001</td>\n",
       "      <td>0.755814</td>\n",
       "    </tr>\n",
       "    <tr>\n",
       "      <th>2</th>\n",
       "      <td>DecisionTreeClassifier</td>\n",
       "      <td>0.977</td>\n",
       "      <td>0.896552</td>\n",
       "      <td>0.847826</td>\n",
       "      <td>0.918957</td>\n",
       "      <td>0.871508</td>\n",
       "    </tr>\n",
       "    <tr>\n",
       "      <th>3</th>\n",
       "      <td>KNeighborsClassifier</td>\n",
       "      <td>0.965</td>\n",
       "      <td>0.870130</td>\n",
       "      <td>0.728261</td>\n",
       "      <td>0.858624</td>\n",
       "      <td>0.792899</td>\n",
       "    </tr>\n",
       "    <tr>\n",
       "      <th>4</th>\n",
       "      <td>GradientBoostingClassifier</td>\n",
       "      <td>0.979</td>\n",
       "      <td>0.908046</td>\n",
       "      <td>0.858696</td>\n",
       "      <td>0.924943</td>\n",
       "      <td>0.882682</td>\n",
       "    </tr>\n",
       "  </tbody>\n",
       "</table>\n",
       "</div>"
      ],
      "text/plain": [
       "                        model  accuracy  precision    recall   roc_auc  \\\n",
       "0      RandomForestClassifier     0.981   0.929412  0.858696  0.926044   \n",
       "1          LogisticRegression     0.958   0.812500  0.706522  0.845001   \n",
       "2      DecisionTreeClassifier     0.977   0.896552  0.847826  0.918957   \n",
       "3        KNeighborsClassifier     0.965   0.870130  0.728261  0.858624   \n",
       "4  GradientBoostingClassifier     0.979   0.908046  0.858696  0.924943   \n",
       "\n",
       "         f1  \n",
       "0  0.892655  \n",
       "1  0.755814  \n",
       "2  0.871508  \n",
       "3  0.792899  \n",
       "4  0.882682  "
      ]
     },
     "execution_count": 21,
     "metadata": {},
     "output_type": "execute_result"
    }
   ],
   "source": [
    "scoring_df"
   ]
  },
  {
   "cell_type": "code",
   "execution_count": 22,
   "metadata": {},
   "outputs": [],
   "source": [
    "# save scores to csv\n",
    "scoring_df.to_csv('scoring_df.csv', index=None)"
   ]
  },
  {
   "cell_type": "code",
   "execution_count": 23,
   "metadata": {},
   "outputs": [
    {
     "data": {
      "text/html": [
       "<div>\n",
       "<style scoped>\n",
       "    .dataframe tbody tr th:only-of-type {\n",
       "        vertical-align: middle;\n",
       "    }\n",
       "\n",
       "    .dataframe tbody tr th {\n",
       "        vertical-align: top;\n",
       "    }\n",
       "\n",
       "    .dataframe thead th {\n",
       "        text-align: right;\n",
       "    }\n",
       "</style>\n",
       "<table border=\"1\" class=\"dataframe\">\n",
       "  <thead>\n",
       "    <tr style=\"text-align: right;\">\n",
       "      <th></th>\n",
       "      <th>model</th>\n",
       "      <th>accuracy</th>\n",
       "      <th>precision</th>\n",
       "      <th>recall</th>\n",
       "      <th>roc_auc</th>\n",
       "      <th>f1</th>\n",
       "    </tr>\n",
       "  </thead>\n",
       "  <tbody>\n",
       "    <tr>\n",
       "      <th>0</th>\n",
       "      <td>RandomForestClassifier</td>\n",
       "      <td>0.981</td>\n",
       "      <td>0.929412</td>\n",
       "      <td>0.858696</td>\n",
       "      <td>0.926044</td>\n",
       "      <td>0.892655</td>\n",
       "    </tr>\n",
       "    <tr>\n",
       "      <th>1</th>\n",
       "      <td>LogisticRegression</td>\n",
       "      <td>0.958</td>\n",
       "      <td>0.812500</td>\n",
       "      <td>0.706522</td>\n",
       "      <td>0.845001</td>\n",
       "      <td>0.755814</td>\n",
       "    </tr>\n",
       "    <tr>\n",
       "      <th>2</th>\n",
       "      <td>DecisionTreeClassifier</td>\n",
       "      <td>0.977</td>\n",
       "      <td>0.896552</td>\n",
       "      <td>0.847826</td>\n",
       "      <td>0.918957</td>\n",
       "      <td>0.871508</td>\n",
       "    </tr>\n",
       "    <tr>\n",
       "      <th>3</th>\n",
       "      <td>KNeighborsClassifier</td>\n",
       "      <td>0.965</td>\n",
       "      <td>0.870130</td>\n",
       "      <td>0.728261</td>\n",
       "      <td>0.858624</td>\n",
       "      <td>0.792899</td>\n",
       "    </tr>\n",
       "    <tr>\n",
       "      <th>4</th>\n",
       "      <td>GradientBoostingClassifier</td>\n",
       "      <td>0.979</td>\n",
       "      <td>0.908046</td>\n",
       "      <td>0.858696</td>\n",
       "      <td>0.924943</td>\n",
       "      <td>0.882682</td>\n",
       "    </tr>\n",
       "  </tbody>\n",
       "</table>\n",
       "</div>"
      ],
      "text/plain": [
       "                        model  accuracy  precision    recall   roc_auc  \\\n",
       "0      RandomForestClassifier     0.981   0.929412  0.858696  0.926044   \n",
       "1          LogisticRegression     0.958   0.812500  0.706522  0.845001   \n",
       "2      DecisionTreeClassifier     0.977   0.896552  0.847826  0.918957   \n",
       "3        KNeighborsClassifier     0.965   0.870130  0.728261  0.858624   \n",
       "4  GradientBoostingClassifier     0.979   0.908046  0.858696  0.924943   \n",
       "\n",
       "         f1  \n",
       "0  0.892655  \n",
       "1  0.755814  \n",
       "2  0.871508  \n",
       "3  0.792899  \n",
       "4  0.882682  "
      ]
     },
     "execution_count": 23,
     "metadata": {},
     "output_type": "execute_result"
    }
   ],
   "source": [
    "# validation results\n",
    "scoring_df = pd.read_csv('scoring_df.csv')\n",
    "scoring_df"
   ]
  },
  {
   "cell_type": "code",
   "execution_count": 24,
   "metadata": {},
   "outputs": [
    {
     "data": {
      "image/png": "[encoded data removed]",
      "text/plain": [
       "<Figure size 1152x504 with 1 Axes>"
      ]
     },
     "metadata": {
      "needs_background": "light"
     },
     "output_type": "display_data"
    }
   ],
   "source": [
    "# validation vizualiazation\n",
    "fig = plt.figure(figsize=(16, 7))\n",
    "for i in range(len(scoring_df)):\n",
    "    plt.plot(metrics.keys(), scoring_df.loc[i, metrics.keys()].values, label=scoring_df['model'][i])\n",
    "\n",
    "plt.title('Scores of models', fontsize=18)\n",
    "plt.legend();\n"
   ]
  },
  {
   "cell_type": "markdown",
   "metadata": {},
   "source": [
    "Видим, что лучше всего себя показывают градиентный бустинг и случайный лес. Однако решающее дерево не сильно уступает двум данным моделям. Логистическая регрессия имеет наиболее низкий score.\n",
    "Следовательно, наиболее оптимальным вариантом в данной задаче является использование решающего дерева в качестве финальной модели (за счет хорошей интерпритируемости).\n",
    "\n",
    "Сохраним также модель с наибольшим показателем качества - случайный лес."
   ]
  },
  {
   "cell_type": "code",
   "execution_count": 25,
   "metadata": {},
   "outputs": [
    {
     "name": "stdout",
     "output_type": "stream",
     "text": [
      "accuracy: 0.977\n",
      "precision: 0.896551724137931\n",
      "recall: 0.8478260869565217\n",
      "roc_auc: 0.9873826853093277\n",
      "f1: 0.8715083798882682\n"
     ]
    }
   ],
   "source": [
    "# final model with simple interpritetion\n",
    "dtc = best_params['DecisionTreeClassifier']\n",
    "\n",
    "#saving model\n",
    "joblib.dump(dtc, 'models\\DTree_model.pkl')\n",
    "\n",
    "# final score\n",
    "\n",
    "prob_preds = dtc.predict_proba(X_test)[:, 1]\n",
    "preds = dtc.predict(X_test)\n",
    "for score_name, score in metrics.items():\n",
    "    try:\n",
    "        print(score_name+': '+str(score(y_test,prob_preds)))\n",
    "    except:\n",
    "        print(score_name+': '+str(score(y_test,preds)))"
   ]
  },
  {
   "cell_type": "code",
   "execution_count": 26,
   "metadata": {},
   "outputs": [
    {
     "name": "stdout",
     "output_type": "stream",
     "text": [
      "accuracy: 0.981\n",
      "precision: 0.9294117647058824\n",
      "recall: 0.8586956521739131\n",
      "roc_auc: 0.9962351561003638\n",
      "f1: 0.8926553672316385\n"
     ]
    }
   ],
   "source": [
    "# final model with better results\n",
    "rfc = best_params['RandomForestClassifier']\n",
    "\n",
    "#saving model\n",
    "joblib.dump(rfc, 'models\\\\rfc_model.pkl')\n",
    "\n",
    "# final score\n",
    "\n",
    "prob_preds = rfc.predict_proba(X_test)[:, 1]\n",
    "preds = rfc.predict(X_test)\n",
    "for score_name, score in metrics.items():\n",
    "    try:\n",
    "        print(score_name+': '+str(score(y_test,prob_preds)))\n",
    "    except:\n",
    "        print(score_name+': '+str(score(y_test,preds)))"
   ]
  },
  {
   "cell_type": "markdown",
   "metadata": {},
   "source": [
    "#### Таким образом мы получили хорошее качество классификации, высокую точность и достаточно большую полноту, что должно хорошо сказаться на экономической значимости, и наша кампании принесет больше прибыли, чем предыдущая"
   ]
  },
  {
   "cell_type": "markdown",
   "metadata": {},
   "source": [
    "Как мы знаем, деревья решений можно легко интерпретировать с помощью визуализации бинарного дерева. Для этого нам понадобится вернуть данные в исходное состояние, и проделать все те же преобразования без этапа нормализации."
   ]
  },
  {
   "cell_type": "code",
   "execution_count": 27,
   "metadata": {},
   "outputs": [
    {
     "name": "stdout",
     "output_type": "stream",
     "text": [
      "accuracy: 0.907\n",
      "precision: 0.3333333333333333\n",
      "recall: 0.010869565217391304\n",
      "roc_auc: 0.5291850220264318\n",
      "f1: 0.021052631578947368\n"
     ]
    }
   ],
   "source": [
    "# preprocessing for ddtc\n",
    "\n",
    "# pipeline with no normalization layer\n",
    "pipe_raw = data_engeneering_pipeline[:2]\n",
    "\n",
    "# getting new X_train & X_test (Non-normalized)\n",
    "X_train_raw = pipe_raw.fit_transform(X_train_raw)\n",
    "X_test_raw = pipe_raw.fit_transform(X_test_raw)\n",
    "\n",
    "# stealing params from dtc\n",
    "dtc_raw = DecisionTreeClassifier()\n",
    "params = dtc.get_params()\n",
    "dtc_raw.set_params(**params)\n",
    "\n",
    "# fti & evaluate\n",
    "dtc_raw.fit(X_train_raw, y_train)\n",
    "\n",
    "prob_preds = dtc_raw.predict_proba(X_test)[:, 1]\n",
    "preds = dtc_raw.predict(X_test)\n",
    "for score_name, score in metrics.items():\n",
    "    try:\n",
    "        print(score_name+': '+str(score(y_test, prob_preds)))\n",
    "    except:\n",
    "        print(score_name+': '+str(score(y_test, preds)))"
   ]
  },
  {
   "cell_type": "markdown",
   "metadata": {},
   "source": [
    "Здесь происходит визуализация, но для ее корректной работы нужно поставить несколько библиотек и обновить переменные среды\n"
   ]
  },
  {
   "cell_type": "code",
   "execution_count": 28,
   "metadata": {},
   "outputs": [],
   "source": [
    "#!pip install pydot\n",
    "#!pip install graphviz"
   ]
  },
  {
   "cell_type": "code",
   "execution_count": 29,
   "metadata": {},
   "outputs": [],
   "source": [
    "\n",
    "# visualization\n",
    "#import graphviz\n",
    "\n",
    "# DOT data\n",
    "#dot_data = tree.export_graphviz(dtc_raw, out_file=None, \n",
    "#                                feature_names=train_columns,  \n",
    "#                                class_names=['1', '0'],\n",
    "#                               filled=True)\n",
    "\n",
    "# Draw graph\n",
    "#graph = graphviz.Source(dot_data, format=\"png\") \n",
    "#graph.save('dtc_raw_tree.dot')\n"
   ]
  },
  {
   "cell_type": "code",
   "execution_count": 30,
   "metadata": {},
   "outputs": [],
   "source": [
    "# export to png\n",
    "#import pydot\n",
    "\n",
    "#(graph,) = pydot.graph_from_dot_file('dtc_raw_tree.dot')\n",
    "#graph.write_png('dtc_raw_tree.png')"
   ]
  },
  {
   "cell_type": "markdown",
   "metadata": {},
   "source": [
    "Теперь в readme у нас есть картинка с интерпритацией"
   ]
  },
  {
   "cell_type": "markdown",
   "metadata": {},
   "source": [
    "<a id='conclusion_cell'></a>"
   ]
  },
  {
   "cell_type": "markdown",
   "metadata": {},
   "source": [
    "### Оценка экономической эфффективности "
   ]
  },
  {
   "cell_type": "code",
   "execution_count": 31,
   "metadata": {},
   "outputs": [
    {
     "name": "stdout",
     "output_type": "stream",
     "text": [
      "Старый показатель конверсии на тестовой выборке равен 9.2%\n",
      "Новый показатель конверсии на тестовой выборке равен 89.7%\n",
      "Потеряно 15.2% клиентов\n",
      "Количество новых кандидатов относительно старого способа составляет 8.7%\n"
     ]
    }
   ],
   "source": [
    "dtc_preds = dtc.predict(X_test)\n",
    "conversion_rate_old = float(y_test.sum() / y_test.shape[0])\n",
    "conversion_rate_new = precision_score(y_test, dtc_preds)\n",
    "missing_clients = 1 - recall_score(y_test, dtc_preds)\n",
    "percent_of_new_candidates = dtc_preds.sum()/y_test.shape[0]\n",
    "print(f'Старый показатель конверсии на тестовой выборке равен {conversion_rate_old * 100:.1f}%')\n",
    "print(f'Новый показатель конверсии на тестовой выборке равен {conversion_rate_new * 100:.1f}%')\n",
    "print(f'Потеряно {missing_clients * 100:.1f}% клиентов')\n",
    "print(f'Количество новых кандидатов относительно старого способа составляет {percent_of_new_candidates* 100:.1f}%')"
   ]
  },
  {
   "cell_type": "markdown",
   "metadata": {},
   "source": [
    "Пусть затраты на маркетинг на одного клиента __N__, доход с одного клиента __M__, общее количеств клиентов __n__\n",
    "\n",
    "Profit_old = (M * 0.092 - N) * n\n",
    "\n",
    "Profit_new = (M * 0.897  - N) * 0.087 * n \n",
    "\n",
    "Delta = (-0.013 * M + 0.913 * N) * n                       \n",
    "\n",
    "Допустим что, изначально было 5000 клиентов, на привлечение клиента мы тратим 50 рублей, а потенциальный профит составляет 1000 рублей, то при внедрении нашей системы мы получим 163250 рублей\n",
    "Таким образом внедрение нашей модели позволит увеличить доход банка. "
   ]
  },
  {
   "cell_type": "code",
   "execution_count": 32,
   "metadata": {},
   "outputs": [
    {
     "name": "stdout",
     "output_type": "stream",
     "text": [
      "The scikit-learn version is 0.24.2.\n"
     ]
    }
   ],
   "source": [
    "import sklearn\n",
    "print('The scikit-learn version is {}.'.format(sklearn.__version__))"
   ]
  },
  {
   "cell_type": "code",
   "execution_count": null,
   "metadata": {},
   "outputs": [],
   "source": []
  }
 ],
 "metadata": {
  "kernelspec": {
   "display_name": "Python 3",
   "language": "python",
   "name": "python3"
  },
  "language_info": {
   "codemirror_mode": {
    "name": "ipython",
    "version": 3
   },
   "file_extension": ".py",
   "mimetype": "text/x-python",
   "name": "python",
   "nbconvert_exporter": "python",
   "pygments_lexer": "ipython3",
   "version": "3.7.11"
  }
 },
 "nbformat": 4,
 "nbformat_minor": 4
}
